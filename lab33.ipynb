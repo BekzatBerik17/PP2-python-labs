{
 "cells": [
  {
   "cell_type": "markdown",
   "id": "a409a2df-79a3-4ef2-9877-15cbd330f304",
   "metadata": {},
   "source": [
    "PYTHON 3TH LAB\n",
    "task #1"
   ]
  },
  {
   "cell_type": "code",
   "execution_count": 33,
   "id": "88cd7ece-d8ec-405f-999b-1cc7e1e95b54",
   "metadata": {},
   "outputs": [
    {
     "name": "stdin",
     "output_type": "stream",
     "text": [
      " my name is bekzat\n"
     ]
    },
    {
     "name": "stdout",
     "output_type": "stream",
     "text": [
      "MY NAME IS BEKZAT\n"
     ]
    }
   ],
   "source": [
    "#Define a class which has at least two methods: getString : to get a string from console input printString: to print the string in upper case.\n",
    "\n",
    "     class twoMethods:\n",
    "        def __init__(self):\n",
    "        self.string=\"\"\n",
    "    def getString(self):\n",
    "        self.string=input()\n",
    "    def printString(self):\n",
    "        print(self.string.upper())\n",
    "\n",
    "x = twoMethods()\n",
    "x.getString()\n",
    "x.printString()"
   ]
  },
  {
   "cell_type": "markdown",
   "id": "23941a95-3f1e-4556-967b-89dc9cbc2475",
   "metadata": {},
   "source": [
    "task #2"
   ]
  },
  {
   "cell_type": "code",
   "execution_count": 43,
   "id": "bdf8b036-834e-44eb-8ace-a96f568fc5d6",
   "metadata": {},
   "outputs": [
    {
     "name": "stdin",
     "output_type": "stream",
     "text": [
      " 45\n"
     ]
    },
    {
     "name": "stdout",
     "output_type": "stream",
     "text": [
      "2025\n"
     ]
    }
   ],
   "source": [
    "#Define a class named \"Shape\" and its subclass Square.The Square class has an init function which takes a length as argument. \n",
    "#Both classes have a area function which can print the area of the shape where Shape's area is 0 by default.\n",
    "\n",
    "class Shape:\n",
    "    def __init__(self):\n",
    "        self.area = 0\n",
    "\n",
    "class Square(Shape):\n",
    "    def __init__(self, length):\n",
    "        super().__init__()\n",
    "        self.length = length\n",
    "\n",
    "    def getLength(self):\n",
    "        self.length = int(input())\n",
    "\n",
    "    def calculateArea(self):\n",
    "        self.area = self.length * self.length\n",
    "        return self.area\n",
    "a = Square(0)\n",
    "a.getLength()\n",
    "print(a.calculateArea())"
   ]
  },
  {
   "cell_type": "markdown",
   "id": "633f9495-23ad-4d56-b677-6f223fb34114",
   "metadata": {},
   "source": [
    "task #3"
   ]
  },
  {
   "cell_type": "code",
   "execution_count": 1,
   "id": "acc40d57-1e1c-4ed0-a559-927fccc1d4c7",
   "metadata": {},
   "outputs": [
    {
     "name": "stdin",
     "output_type": "stream",
     "text": [
      "width:  5\n",
      "lenght:  3\n"
     ]
    },
    {
     "name": "stdout",
     "output_type": "stream",
     "text": [
      "Area is equal: 15\n"
     ]
    }
   ],
   "source": [
    "#Define a class named Rectangle which inherits from Shape class from task 2. \n",
    "#Class instance can be constructed by a length and width. The Rectangle class has a method which can compute the area.\n",
    "\n",
    "class Shape:\n",
    "    def __init__(self):\n",
    "        self.area = 0\n",
    "\n",
    "class Rectangle(Shape):\n",
    "    def __init__(self, width, length):\n",
    "        super().__init__()\n",
    "        self.width = width\n",
    "        self.length = length\n",
    "\n",
    "    def getParameters(self):\n",
    "        self.width = int(input(\"width: \"))\n",
    "        self.length = int(input(\"lenght: \"))\n",
    "\n",
    "    def printArea(self):\n",
    "        self.area = self.width * self.length\n",
    "        return self.area\n",
    "\n",
    "a = Rectangle(0,0)\n",
    "a.getParameters()\n",
    "print(\"Area is equal:\", a.printArea())"
   ]
  },
  {
   "cell_type": "markdown",
   "id": "387d4a83-24f7-42a9-aa03-a121bf9a0675",
   "metadata": {},
   "source": [
    "task #4"
   ]
  },
  {
   "cell_type": "code",
   "execution_count": 4,
   "id": "cf398f24-53d6-458d-b69c-8b885bb0a7c6",
   "metadata": {},
   "outputs": [
    {
     "name": "stdin",
     "output_type": "stream",
     "text": [
      "x1:  1\n",
      "y1:  2\n",
      "x2:  4\n",
      "y2:  6\n"
     ]
    },
    {
     "name": "stdout",
     "output_type": "stream",
     "text": [
      "Coordinata: (1, 2, 4, 6)\n"
     ]
    },
    {
     "name": "stdin",
     "output_type": "stream",
     "text": [
      "x1:  3\n",
      "y1:  3\n",
      "x2:  6\n",
      "y2:  6\n"
     ]
    },
    {
     "name": "stdout",
     "output_type": "stream",
     "text": [
      "New coordinata (3, 3, 6, 6)\n",
      "Distation: 4.242640687119285\n"
     ]
    }
   ],
   "source": [
    "#Write the definition of a Point class. Objects from this class should have a\n",
    "#a method show to display the coordinates of the point\n",
    "#a method move to change these coordinates\n",
    "#a method dist that computes the distance between 2 points\n",
    "\n",
    "from math import *\n",
    "class Point:\n",
    "    def __init__(self):\n",
    "        self.x1 = 0\n",
    "        self.y1 = 0\n",
    "        self.x2 = 0\n",
    "        self.y2 = 0\n",
    "\n",
    "    def getData(self):\n",
    "        self.x1 = int(input(\"x1: \"))\n",
    "        self.y1 = int(input(\"y1: \"))\n",
    "        self.x2 = int(input(\"x2: \"))\n",
    "        self.y2 = int(input(\"y2: \"))\n",
    "\n",
    "    def showCoordinates(self):\n",
    "        return self.x1, self.y1, self.x2, self.y2\n",
    "    \n",
    "    def changeCoordinates(self):\n",
    "        self.x1 = int(input(\"x1: \"))\n",
    "        self.y1 = int(input(\"y1: \"))\n",
    "        self.x2 = int(input(\"x2: \"))\n",
    "        self.y2 = int(input(\"y2: \"))\n",
    "    \n",
    "    def distCoordinates(self):\n",
    "        return sqrt((self.x2 - self.x1)**2 + (self.y2 - self.y1)**2)\n",
    "\n",
    "a = Point()\n",
    "a.getData()\n",
    "print(\"Coordinata: {}\".format(a.showCoordinates()))\n",
    "a.changeCoordinates()\n",
    "print(\"New coordinata {}\".format(a.showCoordinates()))\n",
    "print(\"Distation: {}\".format(a.distCoordinates()))"
   ]
  },
  {
   "cell_type": "markdown",
   "id": "fc42475b-dcfd-4781-bcf0-8d7b75025245",
   "metadata": {},
   "source": [
    "task #5"
   ]
  },
  {
   "cell_type": "code",
   "execution_count": 10,
   "id": "3bf65033-ff0e-44ca-8bfd-5c5b99a18f69",
   "metadata": {},
   "outputs": [
    {
     "name": "stdin",
     "output_type": "stream",
     "text": [
      "ФИО: Berik Bekzat\n",
      "Введите ваш баланс:  777\n",
      "Введите тип операции (Withdraw/Deposit/Exit):  Deposit\n",
      "Сумма депозита:  444\n"
     ]
    },
    {
     "name": "stdout",
     "output_type": "stream",
     "text": [
      "Успешно!\n",
      "Ваш текущий баланс(тг): 1221\n"
     ]
    },
    {
     "name": "stdin",
     "output_type": "stream",
     "text": [
      "Введите тип операции (Withdraw/Deposit/Exit):  withdraw\n"
     ]
    },
    {
     "name": "stdout",
     "output_type": "stream",
     "text": [
      "Неправильный ввод операции.\n"
     ]
    },
    {
     "name": "stdin",
     "output_type": "stream",
     "text": [
      "Введите тип операции (Withdraw/Deposit/Exit):  Withdraw\n",
      "Сумма вывода:  2000\n"
     ]
    },
    {
     "name": "stdout",
     "output_type": "stream",
     "text": [
      "Недостаточно средств!\n"
     ]
    },
    {
     "name": "stdin",
     "output_type": "stream",
     "text": [
      "Введите тип операции (Withdraw/Deposit/Exit):  Withdraw\n",
      "Сумма вывода:  555\n"
     ]
    },
    {
     "name": "stdout",
     "output_type": "stream",
     "text": [
      "Успешно!\n",
      "Ваш текущий баланс: 666\n"
     ]
    },
    {
     "name": "stdin",
     "output_type": "stream",
     "text": [
      "Введите тип операции (Withdraw/Deposit/Exit):  exit\n"
     ]
    },
    {
     "name": "stdout",
     "output_type": "stream",
     "text": [
      "Неправильный ввод операции.\n"
     ]
    },
    {
     "name": "stdin",
     "output_type": "stream",
     "text": [
      "Введите тип операции (Withdraw/Deposit/Exit):  Exit\n"
     ]
    }
   ],
   "source": [
    "#Create a bank account class that has attributes owner,balance and two methods deposit and withdraw. \n",
    "#Withdrawals may not exceed the available balance. \n",
    "#Instantiate your class, make several deposits and withdrawals, and test to make sure the account can't be overdrawn.\n",
    "\n",
    "class bankAccount:\n",
    "    def __init__(self, owner = \"\", balance = 0):\n",
    "        self.balance = balance\n",
    "        self.owner = owner\n",
    "\n",
    "    def deposit(self):\n",
    "        aqshaqosu = int(input(\"Сумма депозита: \"))\n",
    "        self.balance += aqshaqosu\n",
    "        print(\"Успешно!\")\n",
    "        print(f\"Ваш текущий баланс(тг): {self.balance}\")\n",
    "    \n",
    "    def withdraww(self):\n",
    "        withdraw = int(input(\"Сумма вывода: \"))\n",
    "        if withdraw > self.balance:\n",
    "            print(\"Недостаточно средств!\")\n",
    "        else:\n",
    "            self.balance -= withdraw\n",
    "            print(\"Успешно!\")\n",
    "            print(f\"Ваш текущий баланс: {self.balance}\")\n",
    "\n",
    "bankOperation = bankAccount(input(\"ФИО:\"), int(input(\"Введите ваш баланс: \")))\n",
    "while True:\n",
    "    typeoper = input(\"Введите тип операции (Withdraw/Deposit/Exit): \")\n",
    "    if typeoper == \"Withdraw\":\n",
    "        bankOperation.withdraww()\n",
    "    elif typeoper == \"Deposit\":\n",
    "        bankOperation.deposit()\n",
    "    elif typeoper == \"Exit\":\n",
    "        break\n",
    "    else:\n",
    "        print(\"Неправильный ввод операции.\")"
   ]
  },
  {
   "cell_type": "markdown",
   "id": "82343b23-63f3-4e67-a9ce-b21a465d547e",
   "metadata": {},
   "source": [
    "task #6"
   ]
  },
  {
   "cell_type": "code",
   "execution_count": 13,
   "id": "9190b719-90d5-4443-a988-2e57e487fcfa",
   "metadata": {},
   "outputs": [
    {
     "name": "stdout",
     "output_type": "stream",
     "text": [
      "Prime numbers: [2, 3, 5, 7, 11, 13]\n"
     ]
    }
   ],
   "source": [
    "#Write a program which can filter prime numbers in a list by using filter function. \n",
    "#Note: Use lambda to define anonymous functions.\n",
    "\n",
    "def prime(num):\n",
    "    if num <= 1:\n",
    "        return False\n",
    "    for i in range(2, int(num**0.5) + 1):\n",
    "        if num % i == 0:\n",
    "            return False\n",
    "    return True\n",
    "\n",
    "\n",
    "numbers = [2, 3, 4, 5, 6, 7, 8, 9, 10, 11, 12, 13, 14, 15]\n",
    "\n",
    "\n",
    "prime_numbers = list(filter(lambda x: prime(x), numbers))\n",
    "\n",
    "\n",
    "print(\"Prime numbers:\", prime_numbers)"
   ]
  },
  {
   "cell_type": "markdown",
   "id": "caead778-aba3-4b75-be3d-4d43632ea62a",
   "metadata": {},
   "source": [
    "FUNCTIONS"
   ]
  },
  {
   "cell_type": "markdown",
   "id": "e1aef7d8-2f0a-40f2-8a98-6964ed86baf2",
   "metadata": {},
   "source": [
    "TASK 1"
   ]
  },
  {
   "cell_type": "code",
   "execution_count": 15,
   "id": "b1fdb200-3af1-41b7-a52b-bd059c01e45e",
   "metadata": {},
   "outputs": [
    {
     "name": "stdin",
     "output_type": "stream",
     "text": [
      " 100\n"
     ]
    },
    {
     "name": "stdout",
     "output_type": "stream",
     "text": [
      "2834.9523099999997\n"
     ]
    }
   ],
   "source": [
    "#A recipe you are reading states how many grams you need for the ingredient. Unfortunately, your store only sells items in ounces. \n",
    "#Create a function to convert grams to ounces. ounces = 28.3495231 * grams\n",
    "\n",
    "def ounces(grams):\n",
    "    print(28.3495231*grams)\n",
    "\n",
    "grams=float(input())\n",
    "ounces(grams)"
   ]
  },
  {
   "cell_type": "markdown",
   "id": "3aac2222-afa9-45fe-ac30-26daea1ff906",
   "metadata": {},
   "source": [
    "TASK 2"
   ]
  },
  {
   "cell_type": "code",
   "execution_count": 18,
   "id": "56bc83da-4988-4d2e-ae57-9fd800c6f84e",
   "metadata": {},
   "outputs": [
    {
     "name": "stdin",
     "output_type": "stream",
     "text": [
      " 105\n"
     ]
    },
    {
     "name": "stdout",
     "output_type": "stream",
     "text": [
      "40.55555555555556\n"
     ]
    }
   ],
   "source": [
    "#Read in a Fahrenheit temperature. Calculate and display the equivalent centigrade temperature. \n",
    "#The following formula is used for the conversion: C = (5 / 9) * (F – 32)\n",
    "\n",
    "def Fahrenheit(F):\n",
    "    C=(5/9)*(F-32)\n",
    "    print(C)\n",
    "\n",
    "F=float(input())\n",
    "Fahrenheit(F)"
   ]
  },
  {
   "cell_type": "markdown",
   "id": "1b01d8e5-365d-454a-b2c1-e95a2c654770",
   "metadata": {},
   "source": [
    "TASK 3"
   ]
  },
  {
   "cell_type": "code",
   "execution_count": 21,
   "id": "3cf7671a-96f2-4059-ab13-9028a4742131",
   "metadata": {},
   "outputs": [
    {
     "name": "stdout",
     "output_type": "stream",
     "text": [
      "23.0 12.0\n"
     ]
    }
   ],
   "source": [
    "#Write a program to solve a classic puzzle: We count 35 heads and 94 legs among the chickens and rabbits in a farm. \n",
    "#How many rabbits and how many chickens do we have? create function: solve(numheads, numlegs):\n",
    "\n",
    "def solve(numheads, numlegs):\n",
    "    rabbits=(numlegs-(2*numheads))/2\n",
    "    chickens=numheads-rabbits\n",
    "    print(chickens, rabbits)\n",
    "\n",
    "heads=35\n",
    "legs=94\n",
    "solve(heads, legs)"
   ]
  },
  {
   "cell_type": "markdown",
   "id": "e2fd0af2-a3cf-4423-99f6-47fbdd775719",
   "metadata": {},
   "source": [
    "TASK 4"
   ]
  },
  {
   "cell_type": "code",
   "execution_count": 24,
   "id": "0b976967-ee3e-4be1-b0a1-7f63f0c29c82",
   "metadata": {},
   "outputs": [
    {
     "name": "stdin",
     "output_type": "stream",
     "text": [
      "  2 3 4 5 6 7 8 9 10\n"
     ]
    },
    {
     "name": "stdout",
     "output_type": "stream",
     "text": [
      "[2, 3, 5, 7]\n"
     ]
    }
   ],
   "source": [
    "#You are given list of numbers separated by spaces.\n",
    "#Write a function filter_prime, which will take list of numbers as an agrument and returns only prime numbers from the list\n",
    "\n",
    "import math\n",
    "\n",
    "def prime(a):\n",
    "    if a < 2:\n",
    "        return False\n",
    "    if a == 2:\n",
    "        return True\n",
    "    if a % 2 == 0:\n",
    "        return False\n",
    "    n = int(math.sqrt(a))\n",
    "    for i in range(3, n+1, 2):\n",
    "        if a %i==0:\n",
    "            return False\n",
    "    return True\n",
    "\n",
    "def filter_prime(b):\n",
    "    return [i for i in b if prime(i)]\n",
    "\n",
    "l = list(map(int, input().split()))\n",
    "print(filter_prime(l))"
   ]
  },
  {
   "cell_type": "markdown",
   "id": "11bcc0f1-d8e4-4f13-9ca8-1608e00fa6c8",
   "metadata": {},
   "source": [
    "TASK 5"
   ]
  },
  {
   "cell_type": "code",
   "execution_count": 27,
   "id": "f8d6d156-e29a-46c9-8f85-4bbb68596170",
   "metadata": {},
   "outputs": [
    {
     "name": "stdin",
     "output_type": "stream",
     "text": [
      " abcd\n"
     ]
    },
    {
     "name": "stdout",
     "output_type": "stream",
     "text": [
      "abcd\n",
      "abdc\n",
      "acbd\n",
      "acdb\n",
      "adbc\n",
      "adcb\n",
      "bacd\n",
      "badc\n",
      "bcad\n",
      "bcda\n",
      "bdac\n",
      "bdca\n",
      "cabd\n",
      "cadb\n",
      "cbad\n",
      "cbda\n",
      "cdab\n",
      "cdba\n",
      "dabc\n",
      "dacb\n",
      "dbac\n",
      "dbca\n",
      "dcab\n",
      "dcba\n"
     ]
    }
   ],
   "source": [
    "#Write a function that accepts string from user and print all permutations of that string.\n",
    "\n",
    "from itertools import permutations\n",
    "\n",
    "def ppermutations(s):\n",
    "    perm = permutations(s)\n",
    "    for x in perm:\n",
    "        print(''.join(x))\n",
    "\n",
    "s=input()\n",
    "ppermutations(s)"
   ]
  },
  {
   "cell_type": "markdown",
   "id": "19b0c271-8e26-4b78-a372-a17b27f7b912",
   "metadata": {},
   "source": [
    "TASK 6"
   ]
  },
  {
   "cell_type": "code",
   "execution_count": 32,
   "id": "82c16271-1cb5-4273-a005-d4a90f85c67c",
   "metadata": {},
   "outputs": [
    {
     "name": "stdin",
     "output_type": "stream",
     "text": [
      " Football is life\n"
     ]
    },
    {
     "name": "stdout",
     "output_type": "stream",
     "text": [
      "life is Football\n"
     ]
    }
   ],
   "source": [
    "#Write a function that accepts string from user,return a sentence with the words reversed. We are ready -> ready are We\n",
    "\n",
    "def reversed_words(s):\n",
    "    l=[]\n",
    "    t=\"\"\n",
    "    for x in s:\n",
    "        \n",
    "        if x==\" \":\n",
    "            l.append(t)\n",
    "            t=\"\"\n",
    "            continue\n",
    "        t+=x\n",
    "            \n",
    "    l.append(t)\n",
    "    l.reverse()\n",
    "    return l\n",
    "\n",
    "s=input()\n",
    "l=[]\n",
    "print(' '.join(reversed_words(s)))"
   ]
  },
  {
   "cell_type": "markdown",
   "id": "6517bed2-d84c-45c0-8034-74e91b27d2c9",
   "metadata": {},
   "source": [
    "TASK 7"
   ]
  },
  {
   "cell_type": "code",
   "execution_count": 35,
   "id": "b7db8465-d005-42f1-a8c0-108a52138958",
   "metadata": {},
   "outputs": [
    {
     "name": "stdout",
     "output_type": "stream",
     "text": [
      "True\n",
      "False\n",
      "False\n"
     ]
    }
   ],
   "source": [
    "#Given a list of ints, return True if the array contains a 3 next to a 3 somewhere.\n",
    "\n",
    "\"\"\"\n",
    "def has_33(nums):\n",
    "    pass\n",
    "\n",
    "has_33([1, 3, 3]) → True\n",
    "has_33([1, 3, 1, 3]) → False\n",
    "has_33([3, 1, 3]) → False\n",
    "\"\"\"\n",
    "\n",
    "def has_33(nums):\n",
    "    for i in range(len(nums)-1):\n",
    "        if nums[i]==3 and nums[i+1]==3:\n",
    "            return True\n",
    "    return False\n",
    "    \n",
    "print(has_33([1, 3, 3]))\n",
    "print(has_33([1, 3, 1, 3]))\n",
    "print(has_33([3, 1, 3]))"
   ]
  },
  {
   "cell_type": "markdown",
   "id": "ab07e1d5-bd64-467e-9169-759b3ab35701",
   "metadata": {},
   "source": [
    "TASK 8"
   ]
  },
  {
   "cell_type": "code",
   "execution_count": 38,
   "id": "7143d2ed-f489-4434-8ac1-361181c28d89",
   "metadata": {},
   "outputs": [
    {
     "name": "stdout",
     "output_type": "stream",
     "text": [
      "True\n",
      "True\n",
      "False\n"
     ]
    }
   ],
   "source": [
    "#Write a function that takes in a list of integers and returns True if it contains 007 in order\n",
    "\n",
    "\"\"\"\n",
    "def spy_game(nums):\n",
    "    pass\n",
    "\n",
    "spy_game([1,2,4,0,0,7,5]) --> True\n",
    "spy_game([1,0,2,4,0,5,7]) --> True\n",
    "spy_game([1,7,2,0,4,5,0]) --> False\n",
    "\"\"\"\n",
    "def spy_game(nums):    \n",
    "    zero_1, zero_2 ,seven = False, False, False\n",
    "    for i in nums:\n",
    "        if i ==0:\n",
    "            if zero_1:\n",
    "                zero_2 = True\n",
    "            else:\n",
    "                zero_1 = True\n",
    "        if zero_1 and zero_2 and i == 7:\n",
    "            seven  = True\n",
    "        if zero_1 and zero_2 and seven:\n",
    "            return True\n",
    "    return False\n",
    "\n",
    "print(spy_game([1,2,4,0,0,7,5]))\n",
    "print(spy_game([1,0,2,4,0,5,7]))\n",
    "print(spy_game([1,7,2,0,4,5,0]))"
   ]
  },
  {
   "cell_type": "markdown",
   "id": "fb90bfec-db60-436b-8984-19abd593d1cf",
   "metadata": {},
   "source": [
    "TASK 9"
   ]
  },
  {
   "cell_type": "code",
   "execution_count": 42,
   "id": "c8b3bafb-058d-4271-b11e-1afc55d6b03e",
   "metadata": {},
   "outputs": [
    {
     "name": "stdin",
     "output_type": "stream",
     "text": [
      " 4\n"
     ]
    },
    {
     "name": "stdout",
     "output_type": "stream",
     "text": [
      "268.082573106329\n"
     ]
    }
   ],
   "source": [
    "#Write a function that computes the volume of a sphere given its radius.\n",
    "\n",
    "import math\n",
    "\n",
    "def volume(r):\n",
    "    V=4/3*math.pi*r**3\n",
    "    return V\n",
    "\n",
    "r=float(input())\n",
    "print(volume(r))"
   ]
  },
  {
   "cell_type": "markdown",
   "id": "721fab67-d0c7-4db5-8a5b-4f0dd62c339a",
   "metadata": {},
   "source": [
    "TASK 10"
   ]
  },
  {
   "cell_type": "code",
   "execution_count": 41,
   "id": "8ff05b5b-0689-4c51-9fdc-8fa339e4aeb3",
   "metadata": {},
   "outputs": [
    {
     "name": "stdout",
     "output_type": "stream",
     "text": [
      "[3, 5, 7, 4]\n"
     ]
    }
   ],
   "source": [
    "#Write a Python function that takes a list and returns a new list with unique elements of the first list. Note: don't use collection set\n",
    "\n",
    "def unique_list(list_1):\n",
    "    list_2=[]\n",
    "    for x in list_1:\n",
    "        if x not in list_2:\n",
    "            list_2.append(x)\n",
    "    return list_2\n",
    "\n",
    "list_1=[3, 3, 3, 5, 7, 3, 4]\n",
    "print(unique_list(list_1))"
   ]
  },
  {
   "cell_type": "markdown",
   "id": "4e2b6418-80e9-4ed7-a10e-a106734fe8b3",
   "metadata": {},
   "source": [
    "TASK 11"
   ]
  },
  {
   "cell_type": "code",
   "execution_count": 52,
   "id": "7960e4d3-30ac-4b09-aa4b-317e30d63101",
   "metadata": {},
   "outputs": [
    {
     "name": "stdin",
     "output_type": "stream",
     "text": [
      " 12321\n"
     ]
    },
    {
     "name": "stdout",
     "output_type": "stream",
     "text": [
      "it is Palindrome\n"
     ]
    }
   ],
   "source": [
    "#Write a Python function that checks whether a word or phrase is palindrome or not. \n",
    "#Note: A palindrome is word, phrase, or sequence that reads the same backward as forward, e.g., madam\n",
    "\n",
    "def isPalindrome(s):\n",
    "    s=s.lower()\n",
    "    return s==s[::-1]\n",
    "\n",
    "s=input()\n",
    "if isPalindrome(s):\n",
    "    print(\"it is Palindrome\")\n",
    "else:\n",
    "    print(\"it is not a Palindrome\")"
   ]
  },
  {
   "cell_type": "markdown",
   "id": "47f5f571-fad5-4429-aad3-fe90749047de",
   "metadata": {},
   "source": [
    "TASK 12"
   ]
  },
  {
   "cell_type": "code",
   "execution_count": 54,
   "id": "55b19c34-ccbf-4ece-ac68-4184ce406ec2",
   "metadata": {
    "scrolled": true
   },
   "outputs": [
    {
     "name": "stdout",
     "output_type": "stream",
     "text": [
      "****\n",
      "*********\n",
      "*******\n"
     ]
    }
   ],
   "source": [
    "#Define a functino histogram() that takes a list of integers and prints a histogram to the screen. \n",
    "#For example, histogram([4, 9, 7]) should print the following:\n",
    "\n",
    "\"\"\"\n",
    "****\n",
    "*********\n",
    "*******\n",
    "\"\"\"\n",
    "def histogram(l):\n",
    "    for i in l:\n",
    "        print(\"*\"*i)\n",
    "    \n",
    "l=[4, 9, 7]\n",
    "histogram(l)"
   ]
  },
  {
   "cell_type": "markdown",
   "id": "5dc7363a-5e06-431f-b87e-90f0fb50f1b9",
   "metadata": {},
   "source": [
    "TASK 13"
   ]
  },
  {
   "cell_type": "code",
   "execution_count": 62,
   "id": "01d523e5-34e1-416f-812a-544a2a15001d",
   "metadata": {},
   "outputs": [
    {
     "name": "stdout",
     "output_type": "stream",
     "text": [
      "Hello! What is your name?\n"
     ]
    },
    {
     "name": "stdin",
     "output_type": "stream",
     "text": [
      " APEC\n"
     ]
    },
    {
     "name": "stdout",
     "output_type": "stream",
     "text": [
      "Well, APEC, I am thinking of a number between 1 and 20.\n",
      "Take a guess\n"
     ]
    },
    {
     "name": "stdin",
     "output_type": "stream",
     "text": [
      " 7\n"
     ]
    },
    {
     "name": "stdout",
     "output_type": "stream",
     "text": [
      "Good job, APEC! You guessed my number in 1 guesses!\n"
     ]
    }
   ],
   "source": [
    "#Write a program able to play the \"Guess the number\" - game, where the number \n",
    "#to be guessed is randomly chosen between 1 and 20. This is how it should work when run in a terminal:\n",
    "\n",
    "\n",
    "import random\n",
    "print(\"Hello! What is your name?\")\n",
    "name=input()\n",
    "print(\"Well, \" + name +  \", I am thinking of a number between 1 and 20.\")\n",
    "print(\"Take a guess\")\n",
    "r=random.randint(1, 20)\n",
    "cnt=0\n",
    "while True:\n",
    "    n=int(input())\n",
    "    if n<r:\n",
    "        print(\"Your guess is too low.\")\n",
    "        print(\"Take a guess\")\n",
    "        cnt+=1\n",
    "    elif n>r:\n",
    "        print(\"Your guess is too high.\")\n",
    "        print(\"Take a guess\")\n",
    "        cnt+=1\n",
    "    elif n==r:\n",
    "        cnt+=1\n",
    "        break\n",
    "print(\"Good job, \" + name + \"! You guessed my number in \" + str(cnt) + \" guesses!\")"
   ]
  },
  {
   "cell_type": "markdown",
   "id": "fdf5e693-96ed-4ed4-91f5-29005b40a8ca",
   "metadata": {},
   "source": [
    "TASK 14"
   ]
  },
  {
   "cell_type": "code",
   "execution_count": 64,
   "id": "830ba1a1-6dc5-443e-b205-84ef3171723b",
   "metadata": {},
   "outputs": [
    {
     "name": "stdout",
     "output_type": "stream",
     "text": [
      "Hello! What is your name?\n"
     ]
    },
    {
     "name": "stdin",
     "output_type": "stream",
     "text": [
      " BEKZAT\n"
     ]
    },
    {
     "name": "stdout",
     "output_type": "stream",
     "text": [
      "Well, BEKZAT, I am thinking of a number between 1 and 20.\n",
      "Take a guess\n"
     ]
    },
    {
     "name": "stdin",
     "output_type": "stream",
     "text": [
      " 8\n"
     ]
    },
    {
     "name": "stdout",
     "output_type": "stream",
     "text": [
      "Good job, BEKZAT! You guessed my number in 1 guesses!\n"
     ]
    }
   ],
   "source": [
    "#Create a python file and import some of the functions from the above 13 tasks and try to use them.\n",
    "\n",
    "import random\n",
    "\n",
    "def guessnumber():\n",
    "    print(\"Hello! What is your name?\")\n",
    "    name=input()\n",
    "    print(\"Well, \" + name +  \", I am thinking of a number between 1 and 20.\")\n",
    "    print(\"Take a guess\")\n",
    "    r=random.randint(1, 20)\n",
    "    cnt=0\n",
    "    while True:\n",
    "        n=int(input())\n",
    "        if n<r:\n",
    "            print(\"Your guess is too low.\")\n",
    "            print(\"Take a guess\")\n",
    "            cnt+=1\n",
    "        elif n>r:\n",
    "            print(\"Your guess is too high.\")\n",
    "            print(\"Take a guess\")\n",
    "            cnt+=1\n",
    "        elif n==r:\n",
    "            cnt+=1\n",
    "            break\n",
    "    print(\"Good job, \" + name + \"! You guessed my number in \" + str(cnt) + \" guesses!\")\n",
    "\n",
    "guessnumber()"
   ]
  },
  {
   "cell_type": "markdown",
   "id": "8d180c78-f198-4b31-a09f-4b23d0182d9e",
   "metadata": {},
   "source": [
    "FUNCTIONS 2 "
   ]
  },
  {
   "cell_type": "markdown",
   "id": "6004ee48-f4c1-4a79-b91c-d650450d6e2f",
   "metadata": {},
   "source": [
    "TAKS 1"
   ]
  },
  {
   "cell_type": "code",
   "execution_count": 66,
   "id": "df70f724-05c5-4d2f-bd0e-0e5710bfc918",
   "metadata": {},
   "outputs": [
    {
     "name": "stdout",
     "output_type": "stream",
     "text": [
      "True\n"
     ]
    }
   ],
   "source": [
    "# Dictionary of movies 1_st exercise: Write a function that takes a single movie and returns True if its IMDB score is above 5.5\n",
    "\n",
    "def imdbishigh(movies):\n",
    "    if movies[\"imdb\"]>=5.5:\n",
    "        return True\n",
    "    else:\n",
    "        return False\n",
    "\n",
    "movie={\n",
    "    \"name\": \"We Two\",\n",
    "    \"imdb\": 7.2,\n",
    "    \"category\": \"Romance\"\n",
    "}\n",
    "print(imdbishigh(movie))\n",
    "\n",
    "movies = [\n",
    "    {\n",
    "        \"name\": \"Fight Club\",\n",
    "        \"imdb\": 8.8,\n",
    "        \"category\": \"Drama\"\n",
    "    },\n",
    "    {\n",
    "        \"name\": \"The Intouchables\",\n",
    "        \"imdb\": 8.5,\n",
    "        \"category\": \"Biography\"\n",
    "    },\n",
    "    {\n",
    "        \"name\": \"Requiem for a Dream\",\n",
    "        \"imdb\": 8.3,\n",
    "        \"category\": \"Drama\"\n",
    "    },\n",
    "    {\n",
    "        \"name\": \"The Karate Kid\",\n",
    "        \"imdb\": 7.2,\n",
    "        \"category\": \"Action\"\n",
    "    },\n",
    "    {\n",
    "        \"name\": \"Saw\",\n",
    "        \"imdb\": 7.6,\n",
    "        \"category\": \"Horror\"\n",
    "    },\n",
    "    {\n",
    "        \"name\": \"Final Destination\",\n",
    "        \"imdb\": 6.7,\n",
    "        \"category\": \"Horror\"\n",
    "    },\n",
    "    {\n",
    "        \"name\": \"Scary Movie\",\n",
    "        \"imdb\": 6.2,\n",
    "        \"category\": \"Comedy\"\n",
    "    },\n",
    "    {\n",
    "        \"name\": \"Dumb and Dumber\",\n",
    "        \"imdb\": 7.3,\n",
    "        \"category\": \"Comedy\"\n",
    "    },\n",
    "    {\n",
    "        \"name\": \"It\",\n",
    "        \"imdb\": 7.3,\n",
    "        \"category\": \"Horror\"\n",
    "    },\n",
    "    {\n",
    "        \"name\": \"BoJack Horseman\",\n",
    "        \"imdb\": 8.8,\n",
    "        \"category\": \"Animation\"\n",
    "    },\n",
    "    {\n",
    "        \"name\": \"Rick and Morty\",\n",
    "        \"imdb\": 9.1,\n",
    "        \"category\": \"Animation\"\n",
    "    },\n",
    "    {\n",
    "        \"name\": \"Breaking Bad\",\n",
    "        \"imdb\": 9.5,\n",
    "        \"category\": \"Crime\"\n",
    "    },\n",
    "    {\n",
    "        \"name\": \"The Boys\",\n",
    "        \"imdb\": 8.7,\n",
    "        \"category\": \"Action\"\n",
    "    },\n",
    "    {\n",
    "        \"name\": \"Disaster Movie\",\n",
    "        \"imdb\": 2.3,\n",
    "        \"category\": \"Comedy\"\n",
    "    }\n",
    "]"
   ]
  },
  {
   "cell_type": "markdown",
   "id": "d1c70a20-49d3-4805-a23a-b576740d0251",
   "metadata": {},
   "source": [
    "TAKS 2"
   ]
  },
  {
   "cell_type": "code",
   "execution_count": 68,
   "id": "0a31fdf8-31d7-40db-84ac-8b1d80862c8c",
   "metadata": {},
   "outputs": [
    {
     "name": "stdout",
     "output_type": "stream",
     "text": [
      "['Fight Club', 'The Intouchables', 'Requiem for a Dream', 'The Karate Kid', 'Saw', 'Final Destination', 'Scary Movie', 'Dumb and Dumber', 'It', 'BoJack Horseman', 'Rick and Morty', 'Breaking Bad', 'The Boys']\n"
     ]
    }
   ],
   "source": [
    "#Movies 2_nd exercise: Write a function that returns a sublist of movies with an IMDB score above 5.5\n",
    "\n",
    "def high_imdb(movies):\n",
    "    movie_l=[]\n",
    "    for x in movies:\n",
    "        if x[\"imdb\"] > 5.5:\n",
    "            movie_l.append(x[\"name\"])\n",
    "    return movie_l\n",
    "\n",
    "movies = [\n",
    "    {\n",
    "        \"name\": \"Fight Club\",\n",
    "        \"imdb\": 8.8,\n",
    "        \"category\": \"Drama\"\n",
    "    },\n",
    "    {\n",
    "        \"name\": \"The Intouchables\",\n",
    "        \"imdb\": 8.5,\n",
    "        \"category\": \"Biography\"\n",
    "    },\n",
    "    {\n",
    "        \"name\": \"Requiem for a Dream\",\n",
    "        \"imdb\": 8.3,\n",
    "        \"category\": \"Drama\"\n",
    "    },\n",
    "    {\n",
    "        \"name\": \"The Karate Kid\",\n",
    "        \"imdb\": 7.2,\n",
    "        \"category\": \"Action\"\n",
    "    },\n",
    "    {\n",
    "        \"name\": \"Saw\",\n",
    "        \"imdb\": 7.6,\n",
    "        \"category\": \"Horror\"\n",
    "    },\n",
    "    {\n",
    "        \"name\": \"Final Destination\",\n",
    "        \"imdb\": 6.7,\n",
    "        \"category\": \"Horror\"\n",
    "    },\n",
    "    {\n",
    "        \"name\": \"Scary Movie\",\n",
    "        \"imdb\": 6.2,\n",
    "        \"category\": \"Comedy\"\n",
    "    },\n",
    "    {\n",
    "        \"name\": \"Dumb and Dumber\",\n",
    "        \"imdb\": 7.3,\n",
    "        \"category\": \"Comedy\"\n",
    "    },\n",
    "    {\n",
    "        \"name\": \"It\",\n",
    "        \"imdb\": 7.3,\n",
    "        \"category\": \"Horror\"\n",
    "    },\n",
    "    {\n",
    "        \"name\": \"BoJack Horseman\",\n",
    "        \"imdb\": 8.8,\n",
    "        \"category\": \"Animation\"\n",
    "    },\n",
    "    {\n",
    "        \"name\": \"Rick and Morty\",\n",
    "        \"imdb\": 9.1,\n",
    "        \"category\": \"Animation\"\n",
    "    },\n",
    "    {\n",
    "        \"name\": \"Breaking Bad\",\n",
    "        \"imdb\": 9.5,\n",
    "        \"category\": \"Crime\"\n",
    "    },\n",
    "    {\n",
    "        \"name\": \"The Boys\",\n",
    "        \"imdb\": 8.7,\n",
    "        \"category\": \"Action\"\n",
    "    },\n",
    "    {\n",
    "        \"name\": \"Disaster Movie\",\n",
    "        \"imdb\": 2.3,\n",
    "        \"category\": \"Comedy\"\n",
    "    }\n",
    "]\n",
    "\n",
    "\n",
    "\n",
    "print(high_imdb(movies))"
   ]
  },
  {
   "cell_type": "markdown",
   "id": "63c3f123-0051-47a9-a66e-87bc66e39dd5",
   "metadata": {},
   "source": [
    "TAKS 3"
   ]
  },
  {
   "cell_type": "code",
   "execution_count": 70,
   "id": "089d7c2a-ef29-45af-94c4-192184550a72",
   "metadata": {},
   "outputs": [
    {
     "name": "stdin",
     "output_type": "stream",
     "text": [
      "Choose: \n",
      "Thriller, Drama, Biography, Action, Horror, Comedy, Animation, Crime:  Drama\n"
     ]
    },
    {
     "name": "stdout",
     "output_type": "stream",
     "text": [
      "['Fight Club', 'Requiem for a Dream']\n"
     ]
    }
   ],
   "source": [
    "#Movies 3_rd exercise: Write a function that takes a category name and returns just those movies under that category\n",
    "\n",
    "def equal_category(movies, categ):\n",
    "    l=[]\n",
    "    for x in movies:\n",
    "        if x[\"category\"]==categ:\n",
    "            l.append(x[\"name\"])\n",
    "    return l\n",
    "\n",
    "movies = [\n",
    "    {\n",
    "        \"name\": \"Fight Club\",\n",
    "        \"imdb\": 8.8,\n",
    "        \"category\": \"Drama\"\n",
    "    },\n",
    "    {\n",
    "        \"name\": \"The Intouchables\",\n",
    "        \"imdb\": 8.5,\n",
    "        \"category\": \"Biography\"\n",
    "    },\n",
    "    {\n",
    "        \"name\": \"Requiem for a Dream\",\n",
    "        \"imdb\": 8.3,\n",
    "        \"category\": \"Drama\"\n",
    "    },\n",
    "    {\n",
    "        \"name\": \"The Karate Kid\",\n",
    "        \"imdb\": 7.2,\n",
    "        \"category\": \"Action\"\n",
    "    },\n",
    "    {\n",
    "        \"name\": \"Saw\",\n",
    "        \"imdb\": 7.6,\n",
    "        \"category\": \"Horror\"\n",
    "    },\n",
    "    {\n",
    "        \"name\": \"Final Destination\",\n",
    "        \"imdb\": 6.7,\n",
    "        \"category\": \"Horror\"\n",
    "    },\n",
    "    {\n",
    "        \"name\": \"Scary Movie\",\n",
    "        \"imdb\": 6.2,\n",
    "        \"category\": \"Comedy\"\n",
    "    },\n",
    "    {\n",
    "        \"name\": \"Dumb and Dumber\",\n",
    "        \"imdb\": 7.3,\n",
    "        \"category\": \"Comedy\"\n",
    "    },\n",
    "    {\n",
    "        \"name\": \"It\",\n",
    "        \"imdb\": 7.3,\n",
    "        \"category\": \"Horror\"\n",
    "    },\n",
    "    {\n",
    "        \"name\": \"BoJack Horseman\",\n",
    "        \"imdb\": 8.8,\n",
    "        \"category\": \"Animation\"\n",
    "    },\n",
    "    {\n",
    "        \"name\": \"Rick and Morty\",\n",
    "        \"imdb\": 9.1,\n",
    "        \"category\": \"Animation\"\n",
    "    },\n",
    "    {\n",
    "        \"name\": \"Breaking Bad\",\n",
    "        \"imdb\": 9.5,\n",
    "        \"category\": \"Crime\"\n",
    "    },\n",
    "    {\n",
    "        \"name\": \"The Boys\",\n",
    "        \"imdb\": 8.7,\n",
    "        \"category\": \"Action\"\n",
    "    },\n",
    "    {\n",
    "        \"name\": \"Disaster Movie\",\n",
    "        \"imdb\": 2.3,\n",
    "        \"category\": \"Comedy\"\n",
    "    }\n",
    "]\n",
    "\n",
    "categ=input(\"Choose: \\nThriller, Drama, Biography, Action, Horror, Comedy, Animation, Crime: \")\n",
    "print(equal_category(movies, categ))"
   ]
  },
  {
   "cell_type": "markdown",
   "id": "cc093d3b-4452-470e-9264-45ce412f7ece",
   "metadata": {},
   "source": [
    "TAKS 4"
   ]
  },
  {
   "cell_type": "code",
   "execution_count": 72,
   "id": "61b6f433-2ab2-40f5-9d33-5edcd0a3c6e3",
   "metadata": {},
   "outputs": [
    {
     "name": "stdout",
     "output_type": "stream",
     "text": [
      "7.5928571428571425\n"
     ]
    }
   ],
   "source": [
    "#Movies 4_th exercise: Write a function that takes a list of movies and computes the average IMDB score.\n",
    "\n",
    "def av_imdb(movie):\n",
    "    sum=0\n",
    "    for x in movie:\n",
    "        sum+=x[\"imdb\"]\n",
    "    aver=sum/len(movie)\n",
    "    return aver\n",
    "\n",
    "movies = [\n",
    "    {\n",
    "        \"name\": \"Fight Club\",\n",
    "        \"imdb\": 8.8,\n",
    "        \"category\": \"Drama\"\n",
    "    },\n",
    "    {\n",
    "        \"name\": \"The Intouchables\",\n",
    "        \"imdb\": 8.5,\n",
    "        \"category\": \"Biography\"\n",
    "    },\n",
    "    {\n",
    "        \"name\": \"Requiem for a Dream\",\n",
    "        \"imdb\": 8.3,\n",
    "        \"category\": \"Drama\"\n",
    "    },\n",
    "    {\n",
    "        \"name\": \"The Karate Kid\",\n",
    "        \"imdb\": 7.2,\n",
    "        \"category\": \"Action\"\n",
    "    },\n",
    "    {\n",
    "        \"name\": \"Saw\",\n",
    "        \"imdb\": 7.6,\n",
    "        \"category\": \"Horror\"\n",
    "    },\n",
    "    {\n",
    "        \"name\": \"Final Destination\",\n",
    "        \"imdb\": 6.7,\n",
    "        \"category\": \"Horror\"\n",
    "    },\n",
    "    {\n",
    "        \"name\": \"Scary Movie\",\n",
    "        \"imdb\": 6.2,\n",
    "        \"category\": \"Comedy\"\n",
    "    },\n",
    "    {\n",
    "        \"name\": \"Dumb and Dumber\",\n",
    "        \"imdb\": 7.3,\n",
    "        \"category\": \"Comedy\"\n",
    "    },\n",
    "    {\n",
    "        \"name\": \"It\",\n",
    "        \"imdb\": 7.3,\n",
    "        \"category\": \"Horror\"\n",
    "    },\n",
    "    {\n",
    "        \"name\": \"BoJack Horseman\",\n",
    "        \"imdb\": 8.8,\n",
    "        \"category\": \"Animation\"\n",
    "    },\n",
    "    {\n",
    "        \"name\": \"Rick and Morty\",\n",
    "        \"imdb\": 9.1,\n",
    "        \"category\": \"Animation\"\n",
    "    },\n",
    "    {\n",
    "        \"name\": \"Breaking Bad\",\n",
    "        \"imdb\": 9.5,\n",
    "        \"category\": \"Crime\"\n",
    "    },\n",
    "    {\n",
    "        \"name\": \"The Boys\",\n",
    "        \"imdb\": 8.7,\n",
    "        \"category\": \"Action\"\n",
    "    },\n",
    "    {\n",
    "        \"name\": \"Disaster Movie\",\n",
    "        \"imdb\": 2.3,\n",
    "        \"category\": \"Comedy\"\n",
    "    }\n",
    "]\n",
    "\n",
    "print(av_imdb(movies))"
   ]
  },
  {
   "cell_type": "markdown",
   "id": "1e63ea94-3822-4832-94a8-e72bc931e999",
   "metadata": {},
   "source": [
    "TAKS 5"
   ]
  },
  {
   "cell_type": "code",
   "execution_count": 74,
   "id": "00567c7d-f327-4278-b7ac-f0c17e6177f0",
   "metadata": {},
   "outputs": [
    {
     "name": "stdin",
     "output_type": "stream",
     "text": [
      "Choose: \n",
      "Thriller, Drama, Biography, Action, Horror, Comedy, Animation, Crime:  Crime\n"
     ]
    },
    {
     "name": "stdout",
     "output_type": "stream",
     "text": [
      "9.5\n"
     ]
    }
   ],
   "source": [
    "#Movies 5_th exercise: Write a function that takes a category and computes the average IMDB score\n",
    "\n",
    "def av_categ_sc(movie, categ):\n",
    "    sum=0\n",
    "    s=0\n",
    "    for x in movie:\n",
    "        if x[\"category\"]==categ:\n",
    "            sum+=x[\"imdb\"]\n",
    "            s+=1\n",
    "    av=sum/s\n",
    "    return av\n",
    "\n",
    "\n",
    "movies = [\n",
    "    {\n",
    "        \"name\": \"Fight Club\",\n",
    "        \"imdb\": 8.8,\n",
    "        \"category\": \"Drama\"\n",
    "    },\n",
    "    {\n",
    "        \"name\": \"The Intouchables\",\n",
    "        \"imdb\": 8.5,\n",
    "        \"category\": \"Biography\"\n",
    "    },\n",
    "    {\n",
    "        \"name\": \"Requiem for a Dream\",\n",
    "        \"imdb\": 8.3,\n",
    "        \"category\": \"Drama\"\n",
    "    },\n",
    "    {\n",
    "        \"name\": \"The Karate Kid\",\n",
    "        \"imdb\": 7.2,\n",
    "        \"category\": \"Action\"\n",
    "    },\n",
    "    {\n",
    "        \"name\": \"Saw\",\n",
    "        \"imdb\": 7.6,\n",
    "        \"category\": \"Horror\"\n",
    "    },\n",
    "    {\n",
    "        \"name\": \"Final Destination\",\n",
    "        \"imdb\": 6.7,\n",
    "        \"category\": \"Horror\"\n",
    "    },\n",
    "    {\n",
    "        \"name\": \"Scary Movie\",\n",
    "        \"imdb\": 6.2,\n",
    "        \"category\": \"Comedy\"\n",
    "    },\n",
    "    {\n",
    "        \"name\": \"Dumb and Dumber\",\n",
    "        \"imdb\": 7.3,\n",
    "        \"category\": \"Comedy\"\n",
    "    },\n",
    "    {\n",
    "        \"name\": \"It\",\n",
    "        \"imdb\": 7.3,\n",
    "        \"category\": \"Horror\"\n",
    "    },\n",
    "    {\n",
    "        \"name\": \"BoJack Horseman\",\n",
    "        \"imdb\": 8.8,\n",
    "        \"category\": \"Animation\"\n",
    "    },\n",
    "    {\n",
    "        \"name\": \"Rick and Morty\",\n",
    "        \"imdb\": 9.1,\n",
    "        \"category\": \"Animation\"\n",
    "    },\n",
    "    {\n",
    "        \"name\": \"Breaking Bad\",\n",
    "        \"imdb\": 9.5,\n",
    "        \"category\": \"Crime\"\n",
    "    },\n",
    "    {\n",
    "        \"name\": \"The Boys\",\n",
    "        \"imdb\": 8.7,\n",
    "        \"category\": \"Action\"\n",
    "    },\n",
    "    {\n",
    "        \"name\": \"Disaster Movie\",\n",
    "        \"imdb\": 2.3,\n",
    "        \"category\": \"Comedy\"\n",
    "    }\n",
    "]\n",
    "\n",
    "categ=input(\"Choose: \\nThriller, Drama, Biography, Action, Horror, Comedy, Animation, Crime: \")\n",
    "print(av_categ_sc(movies, categ))"
   ]
  },
  {
   "cell_type": "code",
   "execution_count": null,
   "id": "51f0185c-4e87-4571-857d-32325f1be1cf",
   "metadata": {},
   "outputs": [],
   "source": []
  }
 ],
 "metadata": {
  "kernelspec": {
   "display_name": "Python [conda env:base] *",
   "language": "python",
   "name": "conda-base-py"
  },
  "language_info": {
   "codemirror_mode": {
    "name": "ipython",
    "version": 3
   },
   "file_extension": ".py",
   "mimetype": "text/x-python",
   "name": "python",
   "nbconvert_exporter": "python",
   "pygments_lexer": "ipython3",
   "version": "3.12.7"
  }
 },
 "nbformat": 4,
 "nbformat_minor": 5
}
