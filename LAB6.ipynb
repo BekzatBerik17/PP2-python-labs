{
 "cells": [
  {
   "cell_type": "markdown",
   "id": "d2c1ac84-f2b0-4d69-8943-dc2710b155bf",
   "metadata": {},
   "source": [
    "Python LAB 6"
   ]
  },
  {
   "cell_type": "markdown",
   "id": "94576660-99c7-4572-9d5b-8782d287aec1",
   "metadata": {},
   "source": [
    "builtin functions 1"
   ]
  },
  {
   "cell_type": "code",
   "execution_count": 26,
   "id": "31888670-ebe0-4fc3-9ea6-fe5e161cad90",
   "metadata": {},
   "outputs": [
    {
     "name": "stdout",
     "output_type": "stream",
     "text": [
      "362880\n"
     ]
    }
   ],
   "source": [
    "import time, math\n",
    "\n",
    "nums = [9, 8, 7, 6, 5, 4, 3, 2, 1]\n",
    "def multiply_list(list):\n",
    "  res = 1\n",
    "  for i in list:\n",
    "    res *= i\n",
    "  return res\n",
    "print(multiply_list(nums))"
   ]
  },
  {
   "cell_type": "markdown",
   "id": "411d1d54-57a7-4255-9b7c-a48ae88deee1",
   "metadata": {},
   "source": [
    "builtin functions 2"
   ]
  },
  {
   "cell_type": "code",
   "execution_count": 28,
   "id": "9fa908db-5a08-4b6e-89f7-af8122ac2059",
   "metadata": {},
   "outputs": [
    {
     "name": "stdout",
     "output_type": "stream",
     "text": [
      "{'upper': 5, 'lower': 11}\n"
     ]
    }
   ],
   "source": [
    "import time, math\n",
    "\n",
    "def count_uppercase(message):\n",
    "  upper_counter = 0\n",
    "  lower_counter = 0\n",
    "  for i in message:\n",
    "    if 65 <= ord(i) <= 90:\n",
    "      upper_counter += 1\n",
    "    if 97 <= ord(i) <= 122:\n",
    "      lower_counter += 1\n",
    "      \n",
    "  return dict(upper=upper_counter, lower=lower_counter)\n",
    "message = \"Show Me How You Feel\"\n",
    "print(count_uppercase(message))"
   ]
  },
  {
   "cell_type": "markdown",
   "id": "83a1b407-fede-4956-8086-32d87a6a19f9",
   "metadata": {},
   "source": [
    " builtin functions"
   ]
  },
  {
   "cell_type": "code",
   "execution_count": 30,
   "id": "12c1df06-3772-4a8b-91b3-4ffea4ffa806",
   "metadata": {},
   "outputs": [
    {
     "name": "stdout",
     "output_type": "stream",
     "text": [
      "True\n",
      "False\n"
     ]
    }
   ],
   "source": [
    "import time, math\n",
    "\n",
    "def isPal(message):\n",
    "  reverze = str(message)[::-1]\n",
    "  if str(message) == reverze:\n",
    "    return True\n",
    "  else:\n",
    "    return False\n",
    "print(isPal(\"abba\"))\n",
    "print(isPal(\"abdulmuhhamadchert\"))"
   ]
  },
  {
   "cell_type": "markdown",
   "id": "685b3a37-bd04-4d71-9b40-3014a9b5c6e9",
   "metadata": {},
   "source": [
    " builtin functions"
   ]
  },
  {
   "cell_type": "code",
   "execution_count": 33,
   "id": "8a652475-7a77-4b5a-8260-255d8afff916",
   "metadata": {},
   "outputs": [
    {
     "name": "stdin",
     "output_type": "stream",
     "text": [
      " 25100\n",
      " 2123\n"
     ]
    },
    {
     "name": "stdout",
     "output_type": "stream",
     "text": [
      "Square root of 25100 after 2123 milliseconds is 158.42979517754858\n"
     ]
    }
   ],
   "source": [
    "import time, math\n",
    "\n",
    "num = int(input())\n",
    "delay = int(input())\n",
    "\n",
    "time.sleep(delay / 1000)\n",
    "result = math.sqrt(num)\n",
    "print(f\"Square root of {num} after {delay} milliseconds is {result}\")"
   ]
  },
  {
   "cell_type": "markdown",
   "id": "4f8d97d4-6ad4-4c2c-ab6c-3b8ae3be2932",
   "metadata": {},
   "source": [
    " builtin functions\n",
    " "
   ]
  },
  {
   "cell_type": "code",
   "execution_count": 35,
   "id": "97943c31-223a-4816-b2d3-91e098bf4e53",
   "metadata": {},
   "outputs": [
    {
     "name": "stdout",
     "output_type": "stream",
     "text": [
      "True\n"
     ]
    }
   ],
   "source": [
    "import time, math\n",
    "\n",
    "t = (True, 1, \"hello\", 5)\n",
    "result = all(t)\n",
    "print(result)\n",
    "\n"
   ]
  },
  {
   "cell_type": "markdown",
   "id": "080fa38c-ed9d-44fd-8f3b-a8b7d3dea532",
   "metadata": {},
   "source": [
    "Directories and Files exercises"
   ]
  },
  {
   "cell_type": "code",
   "execution_count": 93,
   "id": "ce72cefe-6f53-47d8-b6e2-d337780ebd11",
   "metadata": {},
   "outputs": [
    {
     "name": "stdin",
     "output_type": "stream",
     "text": [
      " C:\\Users\\Acer\\Downloads\\Jupyter notebook test\n"
     ]
    },
    {
     "name": "stdout",
     "output_type": "stream",
     "text": [
      "\n",
      "Directories:\n",
      "['.ipynb_checkpoints']\n",
      "\n",
      "Files:\n",
      "['LAB1python.ipynb', 'Lab2python.ipynb', 'lab3.ipynb', 'lab33.ipynb', 'lab4.ipynb', 'Lab5.ipynb', 'LAB6.ipynb', 'output.csv', 'output.txt', 'row.txt', 'sample-data (1).json']\n",
      "\n",
      "All contents:\n",
      "['.ipynb_checkpoints', 'LAB1python.ipynb', 'Lab2python.ipynb', 'lab3.ipynb', 'lab33.ipynb', 'lab4.ipynb', 'Lab5.ipynb', 'LAB6.ipynb', 'output.csv', 'output.txt', 'row.txt', 'sample-data (1).json']\n"
     ]
    }
   ],
   "source": [
    "import os\n",
    "\n",
    "\n",
    "\n",
    "\n",
    "path = input()\n",
    "\n",
    "if os.path.exists(path):\n",
    "    print(\"\\nDirectories:\")\n",
    "    print([d for d in os.listdir(path) if os.path.isdir(os.path.join(path, d))])\n",
    "\n",
    "    print(\"\\nFiles:\")\n",
    "    print([f for f in os.listdir(path) if os.path.isfile(os.path.join(path, f))])\n",
    "\n",
    "    print(\"\\nAll contents:\")\n",
    "    print(os.listdir(path))\n",
    "else:\n",
    "    print(\"Path does not exist.\")\n"
   ]
  },
  {
   "cell_type": "markdown",
   "id": "b5f569d5-c9e8-4ac9-ab70-48ba121e7c53",
   "metadata": {},
   "source": [
    "Directories and Files exercises"
   ]
  },
  {
   "cell_type": "code",
   "execution_count": 99,
   "id": "4062bbd1-282e-487d-a2e9-1f9e0e414f57",
   "metadata": {},
   "outputs": [
    {
     "name": "stdin",
     "output_type": "stream",
     "text": [
      "Enter the path to check:  C:\\Users\\Acer\\Downloads\\Jupyter notebook test\n"
     ]
    },
    {
     "name": "stdout",
     "output_type": "stream",
     "text": [
      "Checking access for: C:\\Users\\Acer\\Downloads\\Jupyter notebook test\n",
      "\n",
      "Path exists: True\n",
      "Readable: False\n",
      "Writable: False\n",
      "Executable: True\n"
     ]
    }
   ],
   "source": [
    "import os\n",
    "\n",
    "\n",
    "\n",
    "def check_path_access(path):\n",
    "    print(f\"Checking access for: {path}\\n\")\n",
    "    \n",
    "    if not os.path.exists(path):\n",
    "        print(\"Path does not exist!\")\n",
    "        return\n",
    "    \n",
    "    print(\"Path exists:\", os.path.exists(path))\n",
    "    \n",
    "    # Using W3Schools File Handling methods\n",
    "    try:\n",
    "        with open(path, 'r') as file:\n",
    "            print(\"Readable: True\")\n",
    "    except IOError:\n",
    "        print(\"Readable: False\")\n",
    "    \n",
    "    try:\n",
    "        with open(path, 'a') as file:\n",
    "            print(\"Writable: True\")\n",
    "    except IOError:\n",
    "        print(\"Writable: False\")\n",
    "    \n",
    "    print(\"Executable:\", os.access(path, os.X_OK))\n",
    "\n",
    "\n",
    "path = input(\"Enter the path to check: \")\n",
    "check_path_access(path)\n"
   ]
  },
  {
   "cell_type": "markdown",
   "id": "27a58ad5-4ddc-4d0e-adf4-352793ce126d",
   "metadata": {},
   "source": [
    "Directories and Files exercises"
   ]
  },
  {
   "cell_type": "code",
   "execution_count": 101,
   "id": "5343685f-8866-45e6-83e9-b9c50ba9a810",
   "metadata": {
    "scrolled": true
   },
   "outputs": [
    {
     "name": "stdin",
     "output_type": "stream",
     "text": [
      "Enter the path to check:  C:\\Users\\Acer\\Downloads\\Jupyter notebook test\n"
     ]
    },
    {
     "name": "stdout",
     "output_type": "stream",
     "text": [
      "Checking path: C:\\Users\\Acer\\Downloads\\Jupyter notebook test\n",
      "\n",
      "Path exists: True\n",
      "Directory portion: C:\\Users\\Acer\\Downloads\n",
      "Filename portion: Jupyter notebook test\n"
     ]
    }
   ],
   "source": [
    "import os\n",
    "\n",
    "def check_path(path):\n",
    "    print(f\"Checking path: {path}\\n\")\n",
    "    \n",
    "    if not os.path.exists(path):\n",
    "        print(\"Path does not exist!\")\n",
    "        return\n",
    "    \n",
    "    print(\"Path exists: True\")\n",
    "    print(\"Directory portion:\", os.path.dirname(path))\n",
    "    print(\"Filename portion:\", os.path.basename(path))\n",
    "\n",
    "\n",
    "path = input(\"Enter the path to check: \")\n",
    "check_path(path)\n"
   ]
  },
  {
   "cell_type": "markdown",
   "id": "b3892bb0-ebd6-4793-8bd7-5b0998736716",
   "metadata": {},
   "source": [
    "Directories and Files exercises"
   ]
  },
  {
   "cell_type": "code",
   "execution_count": 114,
   "id": "0558d9b3-e913-4134-8849-878d8db50fbe",
   "metadata": {},
   "outputs": [
    {
     "name": "stdin",
     "output_type": "stream",
     "text": [
      "Enter the file path:  C:\\Users\\Acer\\Downloads\\Jupyter notebook test\\txt1.txt\n"
     ]
    },
    {
     "name": "stdout",
     "output_type": "stream",
     "text": [
      "Number of lines in the file: 1\n"
     ]
    }
   ],
   "source": [
    "import os \n",
    "\n",
    "\n",
    "def count_lines_in_file(path):\n",
    "    if not os.path.exists(path):\n",
    "        print(\"File does not exist!\")\n",
    "        return\n",
    "    \n",
    "    try:\n",
    "        with open(path, 'r', encoding='utf-8') as file:\n",
    "            line_count = sum(1 for _ in file)\n",
    "        print(f\"Number of lines in the file: {line_count}\")\n",
    "    except Exception as e:\n",
    "        print(f\"Error reading file: {e}\")\n",
    "\n",
    "\n",
    "path = input(\"Enter the file path: \")\n",
    "count_lines_in_file(path)\n"
   ]
  },
  {
   "cell_type": "markdown",
   "id": "531fbccf-5a77-4e00-9661-136b89d07597",
   "metadata": {},
   "source": [
    "Directories and Files exercises"
   ]
  },
  {
   "cell_type": "code",
   "execution_count": 120,
   "id": "eee03481-3143-4f05-a6fd-377a8e7ea1f9",
   "metadata": {},
   "outputs": [
    {
     "name": "stdin",
     "output_type": "stream",
     "text": [
      "Enter the file path:  C:\\Users\\Acer\\Desktop\\mylist.txt\n"
     ]
    },
    {
     "name": "stdout",
     "output_type": "stream",
     "text": [
      "List successfully written to C:\\Users\\Acer\\Desktop\\mylist.txt\n"
     ]
    }
   ],
   "source": [
    "import os\n",
    "\n",
    "def write_list_to_file(path, data_list):\n",
    "    try:\n",
    "        with open(path, 'w', encoding='utf-8') as file:\n",
    "            for item in data_list:\n",
    "                file.write(str(item) + '\\n')\n",
    "        print(f\"List successfully written to {path}\")\n",
    "    except Exception as e:\n",
    "        print(f\"Error writing to file: {e}\")\n",
    "\n",
    "\n",
    "path = input(\"Enter the file path: \")\n",
    "data = [\"Apple\", \"Banana\", \"Cherry\", \"Date\", \"Elderberry\"]\n",
    "write_list_to_file(path, data)\n"
   ]
  },
  {
   "cell_type": "markdown",
   "id": "937b532a-eb7a-4bc2-8865-26f81018be35",
   "metadata": {},
   "source": [
    "Directories and Files exercises"
   ]
  },
  {
   "cell_type": "code",
   "execution_count": 122,
   "id": "ba6aa369-2700-4e0d-a63c-896ab2b649b6",
   "metadata": {},
   "outputs": [
    {
     "name": "stdin",
     "output_type": "stream",
     "text": [
      "Enter the directory to save files:  C:\\Users\\Acer\\Downloads\\Jupyter notebook test\n"
     ]
    },
    {
     "name": "stdout",
     "output_type": "stream",
     "text": [
      "Created: C:\\Users\\Acer\\Downloads\\Jupyter notebook test\\A.txt\n",
      "Created: C:\\Users\\Acer\\Downloads\\Jupyter notebook test\\B.txt\n",
      "Created: C:\\Users\\Acer\\Downloads\\Jupyter notebook test\\C.txt\n",
      "Created: C:\\Users\\Acer\\Downloads\\Jupyter notebook test\\D.txt\n",
      "Created: C:\\Users\\Acer\\Downloads\\Jupyter notebook test\\E.txt\n",
      "Created: C:\\Users\\Acer\\Downloads\\Jupyter notebook test\\F.txt\n",
      "Created: C:\\Users\\Acer\\Downloads\\Jupyter notebook test\\G.txt\n",
      "Created: C:\\Users\\Acer\\Downloads\\Jupyter notebook test\\H.txt\n",
      "Created: C:\\Users\\Acer\\Downloads\\Jupyter notebook test\\I.txt\n",
      "Created: C:\\Users\\Acer\\Downloads\\Jupyter notebook test\\J.txt\n",
      "Created: C:\\Users\\Acer\\Downloads\\Jupyter notebook test\\K.txt\n",
      "Created: C:\\Users\\Acer\\Downloads\\Jupyter notebook test\\L.txt\n",
      "Created: C:\\Users\\Acer\\Downloads\\Jupyter notebook test\\M.txt\n",
      "Created: C:\\Users\\Acer\\Downloads\\Jupyter notebook test\\N.txt\n",
      "Created: C:\\Users\\Acer\\Downloads\\Jupyter notebook test\\O.txt\n",
      "Created: C:\\Users\\Acer\\Downloads\\Jupyter notebook test\\P.txt\n",
      "Created: C:\\Users\\Acer\\Downloads\\Jupyter notebook test\\Q.txt\n",
      "Created: C:\\Users\\Acer\\Downloads\\Jupyter notebook test\\R.txt\n",
      "Created: C:\\Users\\Acer\\Downloads\\Jupyter notebook test\\S.txt\n",
      "Created: C:\\Users\\Acer\\Downloads\\Jupyter notebook test\\T.txt\n",
      "Created: C:\\Users\\Acer\\Downloads\\Jupyter notebook test\\U.txt\n",
      "Created: C:\\Users\\Acer\\Downloads\\Jupyter notebook test\\V.txt\n",
      "Created: C:\\Users\\Acer\\Downloads\\Jupyter notebook test\\W.txt\n",
      "Created: C:\\Users\\Acer\\Downloads\\Jupyter notebook test\\X.txt\n",
      "Created: C:\\Users\\Acer\\Downloads\\Jupyter notebook test\\Y.txt\n",
      "Created: C:\\Users\\Acer\\Downloads\\Jupyter notebook test\\Z.txt\n"
     ]
    }
   ],
   "source": [
    "import os\n",
    "\n",
    "def generate_text_files(directory):\n",
    "    if not os.path.exists(directory):\n",
    "        os.makedirs(directory)\n",
    "    \n",
    "    for letter in range(65, 91):  # ASCII values for A-Z\n",
    "        filename = os.path.join(directory, f\"{chr(letter)}.txt\")\n",
    "        with open(filename, 'w', encoding='utf-8') as file:\n",
    "            file.write(f\"This is file {chr(letter)}.txt\\n\")\n",
    "        print(f\"Created: {filename}\")\n",
    "\n",
    "directory = input(\"Enter the directory to save files: \")\n",
    "generate_text_files(directory)\n"
   ]
  },
  {
   "cell_type": "markdown",
   "id": "c791c4ce-f0c0-4026-b897-7e6c8ee812dc",
   "metadata": {},
   "source": [
    "Directories and Files exercises"
   ]
  },
  {
   "cell_type": "code",
   "execution_count": 129,
   "id": "02e65544-3ec0-41be-8ba4-ce48e687255b",
   "metadata": {},
   "outputs": [
    {
     "name": "stdin",
     "output_type": "stream",
     "text": [
      "Enter the source file path:  C:\\Users\\Acer\\Downloads\\Jupyter notebook test\\txt2.txt\n",
      "Enter the destination file path:  C:\\Users\\Acer\\Downloads\\Jupyter notebook test\\copy_of_txt2.txt\n"
     ]
    },
    {
     "name": "stdout",
     "output_type": "stream",
     "text": [
      "Successfully copied contents from C:\\Users\\Acer\\Downloads\\Jupyter notebook test\\txt2.txt to C:\\Users\\Acer\\Downloads\\Jupyter notebook test\\copy_of_txt2.txt\n"
     ]
    }
   ],
   "source": [
    "import os\n",
    "\n",
    "def copy_file(source, destination):\n",
    "    if not os.path.exists(source):\n",
    "        print(\"Source file does not exist!\")\n",
    "        return\n",
    "    \n",
    "    try:\n",
    "        with open(source, 'r', encoding='utf-8') as src:\n",
    "            content = src.read()\n",
    "        with open(destination, 'w', encoding='utf-8') as dest:\n",
    "            dest.write(content)\n",
    "        print(f\"Successfully copied contents from {source} to {destination}\")\n",
    "    except Exception as e:\n",
    "        print(f\"Error copying file: {e}\")\n",
    "\n",
    "\n",
    "source_file = input(\"Enter the source file path: \")\n",
    "destination_file = input(\"Enter the destination file path: \")\n",
    "copy_file(source_file, destination_file)"
   ]
  },
  {
   "cell_type": "markdown",
   "id": "ad79043c-3f0d-4c6a-90d9-d0a837b65df3",
   "metadata": {},
   "source": [
    "Directories and Files exercises"
   ]
  },
  {
   "cell_type": "code",
   "execution_count": 131,
   "id": "5e371941-88e2-4b31-b248-366b528aa06b",
   "metadata": {},
   "outputs": [
    {
     "name": "stdin",
     "output_type": "stream",
     "text": [
      "Enter the file path to delete:  C:\\Users\\Acer\\Downloads\\Jupyter notebook test\\deletetxt.txt\n"
     ]
    },
    {
     "name": "stdout",
     "output_type": "stream",
     "text": [
      "Successfully deleted: C:\\Users\\Acer\\Downloads\\Jupyter notebook test\\deletetxt.txt\n"
     ]
    }
   ],
   "source": [
    "import os\n",
    "\n",
    "def delete_file(file_path):\n",
    "    if not os.path.exists(file_path):\n",
    "        print(\"File does not exist!\")\n",
    "        return\n",
    "    \n",
    "    if not os.access(file_path, os.W_OK):\n",
    "        print(\"Permission denied: You do not have write access to delete this file.\")\n",
    "        return\n",
    "    \n",
    "    try:\n",
    "        os.remove(file_path)\n",
    "        print(f\"Successfully deleted: {file_path}\")\n",
    "    except Exception as e:\n",
    "        print(f\"Error deleting file: {e}\")\n",
    "\n",
    "\n",
    "file_path = input(\"Enter the file path to delete: \")\n",
    "delete_file(file_path)\n"
   ]
  }
 ],
 "metadata": {
  "kernelspec": {
   "display_name": "Python [conda env:base] *",
   "language": "python",
   "name": "conda-base-py"
  },
  "language_info": {
   "codemirror_mode": {
    "name": "ipython",
    "version": 3
   },
   "file_extension": ".py",
   "mimetype": "text/x-python",
   "name": "python",
   "nbconvert_exporter": "python",
   "pygments_lexer": "ipython3",
   "version": "3.12.7"
  }
 },
 "nbformat": 4,
 "nbformat_minor": 5
}
