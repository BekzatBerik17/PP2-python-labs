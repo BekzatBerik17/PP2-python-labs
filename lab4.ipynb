{
 "cells": [
  {
   "cell_type": "markdown",
   "id": "e9fcca30-2a83-46c6-b2a2-51cd18883284",
   "metadata": {},
   "source": [
    "LAB 4 PYTHON"
   ]
  },
  {
   "cell_type": "markdown",
   "id": "06effce7-a677-443d-aee5-83b2b0fb6063",
   "metadata": {},
   "source": [
    "DATE (1)"
   ]
  },
  {
   "cell_type": "code",
   "execution_count": 5,
   "id": "b6f5befa-c2dc-4a0b-ae5d-b1fa0288ba07",
   "metadata": {},
   "outputs": [
    {
     "name": "stdout",
     "output_type": "stream",
     "text": [
      "Date five days ago: 2025-02-05\n"
     ]
    }
   ],
   "source": [
    "from datetime import datetime, timedelta\n",
    "\n",
    "new_date = datetime.now() - timedelta(days=5)\n",
    "print(\"Date five days ago:\", new_date.strftime(\"%Y-%m-%d\"))"
   ]
  },
  {
   "cell_type": "markdown",
   "id": "9ab9a51b-9c64-4ed5-9c60-39e7e0f80f33",
   "metadata": {},
   "source": [
    "DATE (2)"
   ]
  },
  {
   "cell_type": "code",
   "execution_count": 7,
   "id": "19bb04bc-57ab-4dfd-87e2-4b9088b0a1a9",
   "metadata": {},
   "outputs": [
    {
     "name": "stdout",
     "output_type": "stream",
     "text": [
      "Yesterday: 2025-02-09\n",
      "Today: 2025-02-10\n",
      "Tomorrow: 2025-02-11\n"
     ]
    }
   ],
   "source": [
    "from datetime import datetime, timedelta\n",
    "\n",
    "today = datetime.now()\n",
    "yesterday = today - timedelta(days=1)\n",
    "tomorrow = today + timedelta(days=1)\n",
    "\n",
    "print(\"Yesterday:\", yesterday.strftime(\"%Y-%m-%d\"))\n",
    "print(\"Today:\", today.strftime(\"%Y-%m-%d\"))\n",
    "print(\"Tomorrow:\", tomorrow.strftime(\"%Y-%m-%d\"))\n"
   ]
  },
  {
   "cell_type": "markdown",
   "id": "08a7841e-3569-4a53-abef-18f460f47c9b",
   "metadata": {},
   "source": [
    "DATE (3)"
   ]
  },
  {
   "cell_type": "code",
   "execution_count": 94,
   "id": "22993992-d505-4195-8059-9cf5a8ca5ad7",
   "metadata": {},
   "outputs": [
    {
     "name": "stdout",
     "output_type": "stream",
     "text": [
      "2025-02-09 23:08:17\n"
     ]
    }
   ],
   "source": [
    "import datetime\n",
    "\n",
    "date_3 = str(datetime.datetime.now())\n",
    "ms = str(datetime.datetime.now().microsecond)\n",
    "print(date_3[0:len(date_3) - (len(ms)) - 1])"
   ]
  },
  {
   "cell_type": "markdown",
   "id": "b718be5c-35fb-434a-b535-9633346b5270",
   "metadata": {},
   "source": [
    "DATE (4)"
   ]
  },
  {
   "cell_type": "code",
   "execution_count": 40,
   "id": "d125057c-861b-49cb-a775-918de3bd443f",
   "metadata": {},
   "outputs": [
    {
     "name": "stdout",
     "output_type": "stream",
     "text": [
      "86400.0\n"
     ]
    }
   ],
   "source": [
    "from datetime import datetime\n",
    "\n",
    "date_1 = \"2025-01-21 12:00:00\"\n",
    "date_2 = \"2025-01-20 12:00:00\"\n",
    "date_format = \"%Y-%m-%d %H:%M:%S\"\n",
    "\n",
    "datetime_1 = datetime.strptime(date_1, date_format)\n",
    "datetime_2 = datetime.strptime(date_2, date_format)\n",
    "minus = abs((datetime_2 - datetime_1).total_seconds())\n",
    "print(minus)"
   ]
  },
  {
   "cell_type": "markdown",
   "id": "30d495ac-db58-45a6-8eb7-79286c8b8798",
   "metadata": {},
   "source": [
    "Generator (1)"
   ]
  },
  {
   "cell_type": "code",
   "execution_count": 30,
   "id": "5b9947a0-6f6b-4f53-8395-c792e90af57b",
   "metadata": {},
   "outputs": [
    {
     "name": "stdin",
     "output_type": "stream",
     "text": [
      " 5\n"
     ]
    },
    {
     "name": "stdout",
     "output_type": "stream",
     "text": [
      "1\n",
      "1\n",
      "4\n",
      "27\n",
      "256\n"
     ]
    }
   ],
   "source": [
    "n = int(input())\n",
    "for i in range(n):\n",
    "   print(i ** i, end=\"\\n\")"
   ]
  },
  {
   "cell_type": "markdown",
   "id": "6850eaa8-79d0-4870-8154-b34016ca1390",
   "metadata": {},
   "source": [
    "Generator (2)"
   ]
  },
  {
   "cell_type": "code",
   "execution_count": 34,
   "id": "fb7b1c75-ba0f-4ebc-9b20-56782d18fcbe",
   "metadata": {},
   "outputs": [
    {
     "name": "stdin",
     "output_type": "stream",
     "text": [
      " 10\n"
     ]
    },
    {
     "name": "stdout",
     "output_type": "stream",
     "text": [
      "0, 2, 4, 6, 8, "
     ]
    }
   ],
   "source": [
    " n = int(input())\n",
    " for i in range(0, n, 2):\n",
    "   print(i, end=\", \")"
   ]
  },
  {
   "cell_type": "markdown",
   "id": "f9ee3196-7a99-4ff7-8ce7-1555f6be53b1",
   "metadata": {},
   "source": [
    "Generator (3)"
   ]
  },
  {
   "cell_type": "code",
   "execution_count": 36,
   "id": "e6c445f5-7cff-45f9-a85c-d0ecc21aa4a2",
   "metadata": {},
   "outputs": [
    {
     "name": "stdout",
     "output_type": "stream",
     "text": [
      "0 - 3 - 4 - 6 - 8 - 9 - 12 - 15 - 16 - 18 - 20 - 21 - 24 - 27 - 28 - 30 - 32 - 33 - 36 - 39 - 40 - 42 - 44 - 45 - 48 - 51 - 52 - 54 - 56 - 57 - 60 - 63 - 64 - 66 - 68 - 69 - 72 - 75 - 76 - 78 - 80 - 81 - 84 - 87 - 88 - 90 - 92 - 93 - 96 - 99 - "
     ]
    }
   ],
   "source": [
    " n = 100\n",
    " for i in range(0, n):\n",
    "   if i % 3 == 0 or i % 4 == 0:\n",
    "     print(i, end=\" - \")"
   ]
  },
  {
   "cell_type": "markdown",
   "id": "96b93c5b-812d-4e23-96ce-f197702d6d3e",
   "metadata": {},
   "source": [
    "Generator (4)"
   ]
  },
  {
   "cell_type": "code",
   "execution_count": 50,
   "id": "5d5a4b06-180c-49c9-80e6-5dae48a32f30",
   "metadata": {},
   "outputs": [
    {
     "name": "stdin",
     "output_type": "stream",
     "text": [
      " 2 5\n"
     ]
    },
    {
     "name": "stdout",
     "output_type": "stream",
     "text": [
      "4\n",
      "9\n",
      "16\n",
      "25\n"
     ]
    }
   ],
   "source": [
    "a, b = map(int, input().split())\n",
    "for i in range(a, b + 1): \n",
    "    print(i ** 2)"
   ]
  },
  {
   "cell_type": "markdown",
   "id": "7697b549-eed7-4f8a-8a7b-6d84edbdbcad",
   "metadata": {},
   "source": [
    "Generator (5)"
   ]
  },
  {
   "cell_type": "code",
   "execution_count": 52,
   "id": "a47c3bdf-ae8e-47b8-8a40-961e2a029347",
   "metadata": {},
   "outputs": [
    {
     "name": "stdin",
     "output_type": "stream",
     "text": [
      " 7\n"
     ]
    },
    {
     "name": "stdout",
     "output_type": "stream",
     "text": [
      "7\n",
      "6\n",
      "5\n",
      "4\n",
      "3\n",
      "2\n",
      "1\n"
     ]
    }
   ],
   "source": [
    "n = int(input())\n",
    "for i in range(n, 0, -1):\n",
    "  print(i)"
   ]
  },
  {
   "cell_type": "markdown",
   "id": "f23436b2-9485-472d-99e5-0997fefe3fe8",
   "metadata": {},
   "source": [
    "Math (1)"
   ]
  },
  {
   "cell_type": "code",
   "execution_count": 64,
   "id": "c4cc63a4-3ba2-4b4b-91d2-767bdab881ec",
   "metadata": {},
   "outputs": [
    {
     "name": "stdout",
     "output_type": "stream",
     "text": [
      "0.2617993877991494\n"
     ]
    }
   ],
   "source": [
    "import math\n",
    "\n",
    "degree = 15\n",
    "print(math.radians(degree))"
   ]
  },
  {
   "cell_type": "markdown",
   "id": "b20c2c81-5083-4779-aa84-d07d3e10d305",
   "metadata": {},
   "source": [
    "Math (2)"
   ]
  },
  {
   "cell_type": "code",
   "execution_count": 72,
   "id": "a9d77f60-1a94-4956-86ae-9b2ed43957cd",
   "metadata": {},
   "outputs": [
    {
     "name": "stdin",
     "output_type": "stream",
     "text": [
      " 5 5 6\n"
     ]
    },
    {
     "name": "stdout",
     "output_type": "stream",
     "text": [
      "27.5\n"
     ]
    }
   ],
   "source": [
    "import math\n",
    "\n",
    "height, base_1, base_2 = list(map(int, input().split()))\n",
    "print((1/2) * (base_1 + base_2) * height)\n"
   ]
  },
  {
   "cell_type": "markdown",
   "id": "28fbe52b-5ac0-4674-8cb5-572bda05b869",
   "metadata": {},
   "source": [
    "Math (3)"
   ]
  },
  {
   "cell_type": "code",
   "execution_count": 84,
   "id": "c938070f-e5b2-4802-bcab-12db939f2983",
   "metadata": {},
   "outputs": [
    {
     "name": "stdin",
     "output_type": "stream",
     "text": [
      " 4 25\n"
     ]
    },
    {
     "name": "stdout",
     "output_type": "stream",
     "text": [
      "625.0000000000001\n"
     ]
    }
   ],
   "source": [
    "import math\n",
    "\n",
    "sides, length = list(map(int, input().split()))\n",
    "print((sides * length**2) / (4 * math.tan(math.pi / sides)))"
   ]
  },
  {
   "cell_type": "markdown",
   "id": "3d002a2b-4de8-4de5-bf45-f3c1118b8675",
   "metadata": {},
   "source": [
    "Math (4)"
   ]
  },
  {
   "cell_type": "code",
   "execution_count": 86,
   "id": "557ac87b-50b6-440b-a1f8-a4ab25c6d0de",
   "metadata": {},
   "outputs": [
    {
     "name": "stdin",
     "output_type": "stream",
     "text": [
      " 5 6\n"
     ]
    },
    {
     "name": "stdout",
     "output_type": "stream",
     "text": [
      "30\n"
     ]
    }
   ],
   "source": [
    "import math\n",
    "length, height = list(map(int, input().split()))\n",
    "print(length * height)"
   ]
  },
  {
   "cell_type": "code",
   "execution_count": null,
   "id": "23a3f261-8eb2-4a0d-af0d-a9fe20724851",
   "metadata": {},
   "outputs": [],
   "source": []
  }
 ],
 "metadata": {
  "kernelspec": {
   "display_name": "Python [conda env:base] *",
   "language": "python",
   "name": "conda-base-py"
  },
  "language_info": {
   "codemirror_mode": {
    "name": "ipython",
    "version": 3
   },
   "file_extension": ".py",
   "mimetype": "text/x-python",
   "name": "python",
   "nbconvert_exporter": "python",
   "pygments_lexer": "ipython3",
   "version": "3.12.7"
  }
 },
 "nbformat": 4,
 "nbformat_minor": 5
}
