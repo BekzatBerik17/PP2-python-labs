{
 "cells": [
  {
   "cell_type": "markdown",
   "id": "2a7064f0-4f05-49c9-9f86-c4913f6fc61a",
   "metadata": {},
   "source": [
    "Python RegEx lab 5"
   ]
  },
  {
   "cell_type": "markdown",
   "id": "1f976d51-8076-47c8-999b-1766ab816935",
   "metadata": {},
   "source": [
    "Python RegEx exercises (1)"
   ]
  },
  {
   "cell_type": "code",
   "execution_count": 67,
   "id": "a7aaee17-35f5-499a-ba32-25d94a9c4cf7",
   "metadata": {},
   "outputs": [
    {
     "name": "stdout",
     "output_type": "stream",
     "text": [
      "'a' matches the pattern\n",
      "'ab' matches the pattern\n",
      "'abb' matches the pattern\n",
      "'b' does NOT match the pattern\n",
      "'ba' does NOT match the pattern\n",
      "'abc' does NOT match the pattern\n"
     ]
    }
   ],
   "source": [
    "import re\n",
    "\n",
    "\n",
    "pattern = r\"ab*\"  \n",
    "\n",
    "\n",
    "def match_string(s):\n",
    "    if re.fullmatch(pattern, s):\n",
    "        return f\"'{s}' matches the pattern\"\n",
    "    else:\n",
    "        return f\"'{s}' does NOT match the pattern\"\n",
    "\n",
    "\n",
    "test_strings = [\"a\", \"ab\", \"abb\", \"b\", \"ba\", \"abc\"]\n",
    "\n",
    "\n",
    "for string in test_strings:\n",
    "    print(match_string(string))\n"
   ]
  },
  {
   "cell_type": "markdown",
   "id": "c6d86730-1096-480a-8e8a-afc627143e32",
   "metadata": {},
   "source": [
    "Python RegEx exercises (2)"
   ]
  },
  {
   "cell_type": "code",
   "execution_count": 69,
   "id": "2314012d-db3e-44d0-838d-3e79665a6cc8",
   "metadata": {},
   "outputs": [
    {
     "name": "stdout",
     "output_type": "stream",
     "text": [
      "abb: True\n",
      "abbb: True\n",
      "ab: False\n",
      "a: False\n",
      "abbbb: False\n",
      "abc: False\n",
      "aabb: False\n"
     ]
    }
   ],
   "source": [
    "import re\n",
    "\n",
    "def match_string(s):\n",
    "    pattern = r'ab{2,3}'  # 'a' followed by two or three 'b'\n",
    "    if re.fullmatch(pattern, s):\n",
    "        return True\n",
    "    return False\n",
    "\n",
    "\n",
    "strings = [\"abb\", \"abbb\", \"ab\", \"a\", \"abbbb\", \"abc\", \"aabb\"]\n",
    "for s in strings:\n",
    "    print(f\"{s}: {match_string(s)}\")"
   ]
  },
  {
   "cell_type": "markdown",
   "id": "d0036364-21f7-41d5-8c1f-77e4551bda0c",
   "metadata": {},
   "source": [
    "Python RegEx exercises (3)"
   ]
  },
  {
   "cell_type": "code",
   "execution_count": 71,
   "id": "18e93c17-2468-43d5-8820-b7cccb410bd7",
   "metadata": {},
   "outputs": [
    {
     "name": "stdout",
     "output_type": "stream",
     "text": [
      "hello_world: True\n",
      "test_case: True\n",
      "snake_case: True\n",
      "Hello_World: False\n",
      "testcase: False\n",
      "test_case_123: False\n"
     ]
    }
   ],
   "source": [
    "import re\n",
    "\n",
    "def match_sequence(s):\n",
    "    pattern = r'^[a-z]+_[a-z]+$'  \n",
    "    if re.fullmatch(pattern, s):\n",
    "        return True\n",
    "    return False\n",
    "\n",
    "\n",
    "strings = [\"hello_world\", \"test_case\", \"snake_case\", \"Hello_World\", \"testcase\", \"test_case_123\"]\n",
    "for s in strings:\n",
    "    print(f\"{s}: {match_sequence(s)}\")\n"
   ]
  },
  {
   "cell_type": "markdown",
   "id": "d15c9569-ff2e-4dae-91b8-bfebcb0691fb",
   "metadata": {},
   "source": [
    "Python RegEx exercises (4)"
   ]
  },
  {
   "cell_type": "code",
   "execution_count": 73,
   "id": "beacf05c-846d-4ae4-bbc8-c2ae8f583a92",
   "metadata": {},
   "outputs": [
    {
     "name": "stdout",
     "output_type": "stream",
     "text": [
      "Hello: True\n",
      "Test: True\n",
      "Snake: True\n",
      "hello: False\n",
      "WORLD: False\n",
      "Python3: False\n"
     ]
    }
   ],
   "source": [
    "import re\n",
    "\n",
    "def match_sequence(s):\n",
    "    pattern = r'[A-Z][a-z]+'  \n",
    "    if re.fullmatch(pattern, s):\n",
    "        return True\n",
    "    return False\n",
    "\n",
    "\n",
    "strings = [\"Hello\", \"Test\", \"Snake\", \"hello\", \"WORLD\", \"Python3\"]\n",
    "for s in strings:\n",
    "    print(f\"{s}: {match_sequence(s)}\")\n"
   ]
  },
  {
   "cell_type": "markdown",
   "id": "c2eea4ce-ed58-4831-9f20-9a7c0217ad9e",
   "metadata": {},
   "source": [
    "Python RegEx exercises (5)"
   ]
  },
  {
   "cell_type": "code",
   "execution_count": 75,
   "id": "9d645411-87cf-49fb-be54-ca4a75ac09c5",
   "metadata": {},
   "outputs": [
    {
     "name": "stdout",
     "output_type": "stream",
     "text": [
      "ab: True\n",
      "axb: True\n",
      "a123b: True\n",
      "abc: False\n",
      "bca: False\n",
      "a_b: True\n"
     ]
    }
   ],
   "source": [
    "import re\n",
    "\n",
    "def match_sequence(s):\n",
    "    pattern = r'a.*b$'  \n",
    "    if re.fullmatch(pattern, s):\n",
    "        return True\n",
    "    return False\n",
    "\n",
    "\n",
    "strings = [\"ab\", \"axb\", \"a123b\", \"abc\", \"bca\", \"a_b\"]\n",
    "for s in strings:\n",
    "    print(f\"{s}: {match_sequence(s)}\")\n"
   ]
  },
  {
   "cell_type": "markdown",
   "id": "71fc53b4-6ab9-495b-b20c-846a98d0dc15",
   "metadata": {},
   "source": [
    " Python RegEx exercises (6)"
   ]
  },
  {
   "cell_type": "code",
   "execution_count": 77,
   "id": "53c29e61-e53c-462b-9e02-6364fe0806f0",
   "metadata": {},
   "outputs": [
    {
     "name": "stdout",
     "output_type": "stream",
     "text": [
      "Original: Hello world, how are you?\n",
      "Modified: Hello:world::how:are:you?\n",
      "Original: This.is,a test\n",
      "Modified: This:is:a:test\n",
      "Original: No,replacement-needed\n",
      "Modified: No:replacement-needed\n"
     ]
    }
   ],
   "source": [
    "import re\n",
    "\n",
    "def replace_characters(s):\n",
    "    pattern = r'[ ,.]'  \n",
    "    return re.sub(pattern, ':', s)\n",
    "\n",
    "# Test cases\n",
    "strings = [\"Hello world, how are you?\", \"This.is,a test\", \"No,replacement-needed\"]\n",
    "for s in strings:\n",
    "    print(f\"Original: {s}\")\n",
    "    print(f\"Modified: {replace_characters(s)}\")\n"
   ]
  },
  {
   "cell_type": "markdown",
   "id": "7964da5f-ef73-416e-9172-d5483b85042d",
   "metadata": {},
   "source": [
    "Python RegEx exercises (7)"
   ]
  },
  {
   "cell_type": "code",
   "execution_count": 79,
   "id": "8da89e85-6f47-4cc9-a6fe-75ecc1a87045",
   "metadata": {},
   "outputs": [
    {
     "name": "stdout",
     "output_type": "stream",
     "text": [
      "Original: hello_world\n",
      "CamelCase: HelloWorld\n",
      "Original: convert_snake_case\n",
      "CamelCase: ConvertSnakeCase\n",
      "Original: python_programming\n",
      "CamelCase: PythonProgramming\n"
     ]
    }
   ],
   "source": [
    "import re\n",
    "\n",
    "def snake_to_camel(s):\n",
    "    return s.replace(\"_\", \" \").title().replace(\" \", \"\")\n",
    "\n",
    "\n",
    "strings = [\"hello_world\", \"convert_snake_case\", \"python_programming\"]\n",
    "for s in strings:\n",
    "    print(f\"Original: {s}\")\n",
    "    print(f\"CamelCase: {snake_to_camel(s)}\")\n"
   ]
  },
  {
   "cell_type": "markdown",
   "id": "92967890-e69d-4784-a29a-db744570ab4e",
   "metadata": {},
   "source": [
    "Python RegEx exercises (8)"
   ]
  },
  {
   "cell_type": "code",
   "execution_count": 81,
   "id": "69bf9df5-366c-4d8d-b5df-f63086e6a5d6",
   "metadata": {},
   "outputs": [
    {
     "name": "stdout",
     "output_type": "stream",
     "text": [
      "Original: HelloWorld\n",
      "Split: ['Hello', 'World']\n",
      "Original: SplitAtUppercase\n",
      "Split: ['Split', 'At', 'Uppercase']\n",
      "Original: PythonProgramming\n",
      "Split: ['Python', 'Programming']\n"
     ]
    }
   ],
   "source": [
    "import re\n",
    "\n",
    "def split_at_uppercase(s):\n",
    "    return re.findall(r'[A-Z][^A-Z]*', s)\n",
    "\n",
    "\n",
    "strings = [\"HelloWorld\", \"SplitAtUppercase\", \"PythonProgramming\"]\n",
    "for s in strings:\n",
    "    print(f\"Original: {s}\")\n",
    "    print(f\"Split: {split_at_uppercase(s)}\")\n"
   ]
  },
  {
   "cell_type": "markdown",
   "id": "bec3484b-dd55-4cb6-9968-bd410c01d6e7",
   "metadata": {},
   "source": [
    "Python RegEx exercises (9)"
   ]
  },
  {
   "cell_type": "code",
   "execution_count": 85,
   "id": "146b48ab-dd65-411b-af3b-13a60d458197",
   "metadata": {},
   "outputs": [
    {
     "name": "stdout",
     "output_type": "stream",
     "text": [
      "Original: HelloWorld\n",
      "Modified: Hello World\n",
      "Original: InsertSpacesBetweenWords\n",
      "Modified: Insert Spaces Between Words\n",
      "Original: PythonProgramming\n",
      "Modified: Python Programming\n"
     ]
    }
   ],
   "source": [
    "import re\n",
    "\n",
    "def insert_spaces(s):\n",
    "    return ' '.join(re.findall(r'[A-Z][^A-Z]*', s))\n",
    "\n",
    "\n",
    "strings = [\"HelloWorld\", \"InsertSpacesBetweenWords\", \"PythonProgramming\"]\n",
    "for s in strings:\n",
    "    print(f\"Original: {s}\")\n",
    "    print(f\"Modified: {insert_spaces(s)}\")"
   ]
  },
  {
   "cell_type": "markdown",
   "id": "55a3baaf-c5c5-405e-87ec-6990f7cdee4d",
   "metadata": {},
   "source": [
    "Python RegEx exercises (10)"
   ]
  },
  {
   "cell_type": "code",
   "execution_count": 87,
   "id": "3caed386-5ab7-45e7-8e19-ec932233c88f",
   "metadata": {},
   "outputs": [
    {
     "name": "stdout",
     "output_type": "stream",
     "text": [
      "Original: HelloWorld\n",
      "Snake case: hello_world\n",
      "Original: ConvertCamelCase\n",
      "Snake case: convert_camel_case\n",
      "Original: PythonProgramming\n",
      "Snake case: python_programming\n"
     ]
    }
   ],
   "source": [
    "import re\n",
    "\n",
    "def camel_to_snake(s):\n",
    "    return re.sub(r'([a-z])([A-Z])', r'\\1_\\2', s).lower()\n",
    "\n",
    "# Test cases\n",
    "strings = [\"HelloWorld\", \"ConvertCamelCase\", \"PythonProgramming\"]\n",
    "for s in strings:\n",
    "    print(f\"Original: {s}\")\n",
    "    print(f\"Snake case: {camel_to_snake(s)}\")"
   ]
  },
  {
   "cell_type": "code",
   "execution_count": null,
   "id": "9d92b428-7986-4bf7-9e89-0ef2dffdbc46",
   "metadata": {},
   "outputs": [],
   "source": []
  }
 ],
 "metadata": {
  "kernelspec": {
   "display_name": "Python [conda env:base] *",
   "language": "python",
   "name": "conda-base-py"
  },
  "language_info": {
   "codemirror_mode": {
    "name": "ipython",
    "version": 3
   },
   "file_extension": ".py",
   "mimetype": "text/x-python",
   "name": "python",
   "nbconvert_exporter": "python",
   "pygments_lexer": "ipython3",
   "version": "3.12.7"
  }
 },
 "nbformat": 4,
 "nbformat_minor": 5
}
