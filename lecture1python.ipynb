{
 "cells": [
  {
   "cell_type": "markdown",
   "id": "8d80d84d-51bb-4f40-8b12-1eb0de7cb621",
   "metadata": {},
   "source": [
    "Python Home (1)\n",
    "\n"
   ]
  },
  {
   "cell_type": "code",
   "execution_count": 9,
   "id": "5bd4863c-ab08-4fe7-9655-a5fa33b0c212",
   "metadata": {},
   "outputs": [
    {
     "name": "stdout",
     "output_type": "stream",
     "text": [
      "Hello, World!\n"
     ]
    }
   ],
   "source": [
    "print(\"Hello, World!\")\n"
   ]
  },
  {
   "cell_type": "markdown",
   "id": "28547dcb-53a0-4794-8039-c5f89b94948f",
   "metadata": {},
   "source": [
    "Pythnon Syntax (2.1)"
   ]
  },
  {
   "cell_type": "code",
   "execution_count": 6,
   "id": "5f2922d2-8bf6-4194-a33c-2e2069f3733c",
   "metadata": {},
   "outputs": [
    {
     "name": "stdout",
     "output_type": "stream",
     "text": [
      "Five is greater than two!\n"
     ]
    }
   ],
   "source": [
    "if 5 > 2:\n",
    "  print(\"Five is greater than two!\")"
   ]
  },
  {
   "cell_type": "markdown",
   "id": "c640782e-c561-4f5f-af96-0e9d5f8007de",
   "metadata": {},
   "source": [
    "Pythnon Syntax (2.2)"
   ]
  },
  {
   "cell_type": "code",
   "execution_count": 13,
   "id": "0950b9a2-d628-4ef6-a2f5-01ae7620bc32",
   "metadata": {},
   "outputs": [
    {
     "name": "stdout",
     "output_type": "stream",
     "text": [
      "Five is greater than two!\n",
      "Five is greater than two!\n"
     ]
    }
   ],
   "source": [
    "if 5 > 2:\n",
    " print(\"Five is greater than two!\") \n",
    "if 5 > 2:\n",
    "        print(\"Five is greater than two!\")"
   ]
  },
  {
   "cell_type": "markdown",
   "id": "b22b44fd-48f7-46ab-b6d3-fa0322c0c0bb",
   "metadata": {},
   "source": [
    "Python Comments (3.1)"
   ]
  },
  {
   "cell_type": "code",
   "execution_count": 17,
   "id": "cd1a0a78-7c1d-4e2e-909b-304163888dbe",
   "metadata": {},
   "outputs": [
    {
     "name": "stdout",
     "output_type": "stream",
     "text": [
      "Hello, World!\n"
     ]
    }
   ],
   "source": [
    "#This is a comment\n",
    "print(\"Hello, World!\")"
   ]
  },
  {
   "cell_type": "markdown",
   "id": "49b22053-5ee6-4472-9209-2970adf10acc",
   "metadata": {},
   "source": [
    "Python Comments (3.2)"
   ]
  },
  {
   "cell_type": "code",
   "execution_count": 20,
   "id": "37dbc9d3-de64-4a68-97b6-5c6464349024",
   "metadata": {},
   "outputs": [
    {
     "name": "stdout",
     "output_type": "stream",
     "text": [
      "Cheers, Mate!\n"
     ]
    }
   ],
   "source": [
    "#print(\"Hello, World!\")\n",
    "print(\"Cheers, Mate!\")"
   ]
  },
  {
   "cell_type": "markdown",
   "id": "fccf2488-e6e8-4c59-98f4-d57cc6fee211",
   "metadata": {},
   "source": [
    "Python Comments (3.3)"
   ]
  },
  {
   "cell_type": "code",
   "execution_count": 23,
   "id": "19e9f241-831d-4f99-91f1-d529d6f4b02b",
   "metadata": {},
   "outputs": [
    {
     "name": "stdout",
     "output_type": "stream",
     "text": [
      "Hello, World!\n"
     ]
    }
   ],
   "source": [
    "#This is a comment\n",
    "#written in\n",
    "#more than just one line\n",
    "print(\"Hello, World!\")"
   ]
  },
  {
   "cell_type": "markdown",
   "id": "3412ab47-ddaa-4873-878a-464a3f96c41f",
   "metadata": {},
   "source": [
    "Python Comments (3.4)"
   ]
  },
  {
   "cell_type": "code",
   "execution_count": 26,
   "id": "9d331fdb-7246-4197-bb13-8709d15aee54",
   "metadata": {},
   "outputs": [
    {
     "name": "stdout",
     "output_type": "stream",
     "text": [
      "Hello, World!\n"
     ]
    }
   ],
   "source": [
    "\"\"\"\n",
    "This is a comment\n",
    "written in\n",
    "more than just one line\n",
    "\"\"\"\n",
    "print(\"Hello, World!\")"
   ]
  },
  {
   "cell_type": "markdown",
   "id": "ac702f03-ea63-478f-8635-29d2853483d3",
   "metadata": {},
   "source": [
    "Python Variables (4.1)\n"
   ]
  },
  {
   "cell_type": "code",
   "execution_count": 29,
   "id": "dd0c3e59-f330-40d1-b822-56a83ac66e62",
   "metadata": {},
   "outputs": [
    {
     "name": "stdout",
     "output_type": "stream",
     "text": [
      "5\n",
      "John\n"
     ]
    }
   ],
   "source": [
    "x = 5\n",
    "y = \"John\"\n",
    "print(x)\n",
    "print(y)"
   ]
  },
  {
   "cell_type": "markdown",
   "id": "38fca3be-4703-469a-ae0c-f927f9fc3289",
   "metadata": {},
   "source": [
    "Python Variables (4.2)"
   ]
  },
  {
   "cell_type": "code",
   "execution_count": 33,
   "id": "f2cf5ed2-5ba3-4859-a8d5-26ea59df25cb",
   "metadata": {},
   "outputs": [
    {
     "name": "stdout",
     "output_type": "stream",
     "text": [
      "Sally\n"
     ]
    }
   ],
   "source": [
    "x = 4       # x is of type int\n",
    "x = \"Sally\" # x is now of type str\n",
    "print(x)"
   ]
  },
  {
   "cell_type": "markdown",
   "id": "ad7f837b-fac5-4c3f-b80c-35694a58959a",
   "metadata": {},
   "source": [
    "Python Variables (4.3)"
   ]
  },
  {
   "cell_type": "code",
   "execution_count": 40,
   "id": "c2080efb-4f78-4b06-9d24-a10ccd26c9d3",
   "metadata": {},
   "outputs": [
    {
     "name": "stdout",
     "output_type": "stream",
     "text": [
      "3\n",
      "3\n",
      "3.0\n"
     ]
    }
   ],
   "source": [
    "x = str(3)\n",
    "y = int(3)\n",
    "z = float(3)\n",
    "\n",
    "print(x)\n",
    "print(y)\n",
    "print(z)\n"
   ]
  },
  {
   "cell_type": "markdown",
   "id": "f8afdd4d-2784-49ca-b2b0-c7745c3dff9f",
   "metadata": {},
   "source": [
    "Python Variables (4.4)"
   ]
  },
  {
   "cell_type": "code",
   "execution_count": 43,
   "id": "602ee1b5-4c22-49ad-9458-f76d57e51be0",
   "metadata": {},
   "outputs": [
    {
     "name": "stdout",
     "output_type": "stream",
     "text": [
      "<class 'int'>\n",
      "<class 'str'>\n"
     ]
    }
   ],
   "source": [
    "x = 5\n",
    "y = \"John\"\n",
    "print(type(x))\n",
    "print(type(y))\n"
   ]
  },
  {
   "cell_type": "markdown",
   "id": "1ccd1e16-4283-43ab-863a-ad9c7c6df6b3",
   "metadata": {},
   "source": [
    "Python Variables (4.5)"
   ]
  },
  {
   "cell_type": "markdown",
   "id": "6e53453d-521a-4d7f-9b98-41ee56e0fb4d",
   "metadata": {},
   "source": [
    "x = \"John\"\n",
    "print(x)\n",
    "#double quotes are the same as single quotes:\n",
    "x = 'John'\n",
    "print(x)\n"
   ]
  },
  {
   "cell_type": "markdown",
   "id": "cbd11575-3ed4-4589-a2e2-98d0e8c9a5ff",
   "metadata": {},
   "source": [
    "\n",
    "Python Variables (4.6)"
   ]
  },
  {
   "cell_type": "code",
   "execution_count": 53,
   "id": "7d638d32-ee04-49a6-a450-3c679004c914",
   "metadata": {},
   "outputs": [
    {
     "name": "stdout",
     "output_type": "stream",
     "text": [
      "John\n",
      "John\n"
     ]
    }
   ],
   "source": [
    "x = \"John\"\n",
    "print(x)\n",
    "#double quotes are the same as single quotes:\n",
    "x = 'John'\n",
    "print(x)\n"
   ]
  },
  {
   "cell_type": "markdown",
   "id": "fb52a023-a578-4893-84eb-af516c2f45fc",
   "metadata": {},
   "source": [
    "Python Variables (4.7)"
   ]
  },
  {
   "cell_type": "code",
   "execution_count": 57,
   "id": "341ce391-f60a-4a68-bb90-ac1d48291520",
   "metadata": {},
   "outputs": [
    {
     "name": "stdout",
     "output_type": "stream",
     "text": [
      "4\n",
      "Sally\n"
     ]
    }
   ],
   "source": [
    "a = 4\n",
    "A = \"Sally\"\n",
    "\n",
    "print(a)\n",
    "print(A)\n"
   ]
  },
  {
   "cell_type": "markdown",
   "id": "df0d02d1-471f-43ed-b3e5-5cd3250f3762",
   "metadata": {},
   "source": [
    "Variable Names (1) Legal variable names:"
   ]
  },
  {
   "cell_type": "code",
   "execution_count": 71,
   "id": "ccd1a1b5-2911-47ea-8e4e-4ef439a62492",
   "metadata": {},
   "outputs": [
    {
     "name": "stdout",
     "output_type": "stream",
     "text": [
      "John\n",
      "John\n",
      "John\n",
      "John\n",
      "John\n",
      "John\n"
     ]
    }
   ],
   "source": [
    "\n",
    "myvar = \"John\"\n",
    "my_var = \"John\"\n",
    "_my_var = \"John\"\n",
    "myVar = \"John\"\n",
    "MYVAR = \"John\"\n",
    "myvar2 = \"John\"\n",
    "\n",
    "\n",
    "print(myvar)\n",
    "print(my_var)\n",
    "print(_my_var)\n",
    "print(myVar)\n",
    "print(MYVAR)\n",
    "print(myvar2)\n",
    "\n"
   ]
  },
  {
   "cell_type": "markdown",
   "id": "bfe2c8a1-dd5c-4276-8825-4423a15766be",
   "metadata": {},
   "source": [
    "Variable Names (2) Illegal variable names:"
   ]
  },
  {
   "cell_type": "code",
   "execution_count": 64,
   "id": "3c375a3f-32cd-43c4-8cb5-3fb503889ff7",
   "metadata": {},
   "outputs": [
    {
     "ename": "SyntaxError",
     "evalue": "invalid decimal literal (2347162828.py, line 1)",
     "output_type": "error",
     "traceback": [
      "\u001b[1;36m  Cell \u001b[1;32mIn[64], line 1\u001b[1;36m\u001b[0m\n\u001b[1;33m    2myvar = \"John\"\u001b[0m\n\u001b[1;37m    ^\u001b[0m\n\u001b[1;31mSyntaxError\u001b[0m\u001b[1;31m:\u001b[0m invalid decimal literal\n"
     ]
    }
   ],
   "source": [
    "2myvar = \"John\"\n",
    "my-var = \"John\"\n",
    "my var = \"John\"\n",
    "\n",
    "#This example will produce an error in the result\n"
   ]
  },
  {
   "cell_type": "markdown",
   "id": "e37af7ee-edce-4009-9780-4697aa9fa965",
   "metadata": {},
   "source": [
    "Python Variables - Assign Multiple Values (1)"
   ]
  },
  {
   "cell_type": "code",
   "execution_count": 81,
   "id": "62aac0dc-e428-4804-b223-97fcb3af079a",
   "metadata": {},
   "outputs": [
    {
     "name": "stdout",
     "output_type": "stream",
     "text": [
      "Orange\n",
      "Banana\n",
      "Cherry\n"
     ]
    }
   ],
   "source": [
    "x, y, z = \"Orange\", \"Banana\", \"Cherry\"\n",
    "print(x)\n",
    "print(y)\n",
    "print(z)"
   ]
  },
  {
   "cell_type": "markdown",
   "id": "1a0d049c-7edc-4e69-8779-2cd533e2b59c",
   "metadata": {},
   "source": [
    "Python Variables - Assign Multiple Values (2)"
   ]
  },
  {
   "cell_type": "code",
   "execution_count": 83,
   "id": "ea338566-1f13-4896-92cc-a891697fc8b6",
   "metadata": {},
   "outputs": [
    {
     "name": "stdout",
     "output_type": "stream",
     "text": [
      "Orange\n",
      "Orange\n",
      "Orange\n"
     ]
    }
   ],
   "source": [
    "x = y = z = \"Orange\"\n",
    "print(x)\n",
    "print(y)\n",
    "print(z)"
   ]
  },
  {
   "cell_type": "markdown",
   "id": "69bbb3fe-b5b8-4642-8f69-8fb85967b73d",
   "metadata": {},
   "source": [
    "Python Variables - Assign Multiple Values (3)"
   ]
  },
  {
   "cell_type": "code",
   "execution_count": 85,
   "id": "e262d5ce-b257-4114-a419-b89de25a0751",
   "metadata": {},
   "outputs": [
    {
     "name": "stdout",
     "output_type": "stream",
     "text": [
      "apple\n",
      "banana\n",
      "cherry\n"
     ]
    }
   ],
   "source": [
    "fruits = [\"apple\", \"banana\", \"cherry\"]\n",
    "x, y, z = fruits\n",
    "print(x)\n",
    "print(y)\n",
    "print(z)"
   ]
  },
  {
   "cell_type": "markdown",
   "id": "b889ac2a-eda7-4e4b-9592-f58f3b91d7a8",
   "metadata": {},
   "source": [
    "Python - Output Variables (1)"
   ]
  },
  {
   "cell_type": "code",
   "execution_count": 93,
   "id": "1cf763c0-3996-4c47-9359-c17c2115362c",
   "metadata": {},
   "outputs": [
    {
     "name": "stdout",
     "output_type": "stream",
     "text": [
      "Python is awesome\n"
     ]
    }
   ],
   "source": [
    "x = \"Python is awesome\"\n",
    "print(x)"
   ]
  },
  {
   "cell_type": "markdown",
   "id": "eb5a407c-9194-4f51-95bb-1f47190b81a9",
   "metadata": {},
   "source": [
    "Python - Output Variables (2)"
   ]
  },
  {
   "cell_type": "code",
   "execution_count": 95,
   "id": "47d20526-1304-4b4e-a4a4-3c3a9e265910",
   "metadata": {},
   "outputs": [
    {
     "name": "stdout",
     "output_type": "stream",
     "text": [
      "Python is awesome\n"
     ]
    }
   ],
   "source": [
    "x = \"Python\"\n",
    "y = \"is\"\n",
    "z = \"awesome\"\n",
    "print(x, y, z)"
   ]
  },
  {
   "cell_type": "markdown",
   "id": "1993a19a-6562-493b-bc0a-8c1fc3f29873",
   "metadata": {},
   "source": [
    "Python - Output Variables (3)"
   ]
  },
  {
   "cell_type": "code",
   "execution_count": 97,
   "id": "72160360-dd28-4ddd-befd-11ffc777f4db",
   "metadata": {},
   "outputs": [
    {
     "name": "stdout",
     "output_type": "stream",
     "text": [
      "Python is awesome\n"
     ]
    }
   ],
   "source": [
    "x = \"Python \"\n",
    "y = \"is \"\n",
    "z = \"awesome\"\n",
    "print(x + y + z)"
   ]
  },
  {
   "cell_type": "markdown",
   "id": "45824187-771f-459a-9794-e35fa9f8d015",
   "metadata": {},
   "source": [
    "Python - Output Variables (4)"
   ]
  },
  {
   "cell_type": "code",
   "execution_count": 99,
   "id": "75553f79-18d4-4ca1-9770-6e740bd30a60",
   "metadata": {},
   "outputs": [
    {
     "name": "stdout",
     "output_type": "stream",
     "text": [
      "15\n"
     ]
    }
   ],
   "source": [
    "x = 5\n",
    "y = 10\n",
    "print(x + y)"
   ]
  },
  {
   "cell_type": "markdown",
   "id": "53061040-0d40-4f17-8642-26f03646ec31",
   "metadata": {},
   "source": [
    "Python - Output Variables (5)"
   ]
  },
  {
   "cell_type": "code",
   "execution_count": 101,
   "id": "7f63ac16-37b0-4560-bae3-0559df75b1d1",
   "metadata": {},
   "outputs": [
    {
     "ename": "TypeError",
     "evalue": "unsupported operand type(s) for +: 'int' and 'str'",
     "output_type": "error",
     "traceback": [
      "\u001b[1;31m---------------------------------------------------------------------------\u001b[0m",
      "\u001b[1;31mTypeError\u001b[0m                                 Traceback (most recent call last)",
      "Cell \u001b[1;32mIn[101], line 3\u001b[0m\n\u001b[0;32m      1\u001b[0m x \u001b[38;5;241m=\u001b[39m \u001b[38;5;241m5\u001b[39m\n\u001b[0;32m      2\u001b[0m y \u001b[38;5;241m=\u001b[39m \u001b[38;5;124m\"\u001b[39m\u001b[38;5;124mJohn\u001b[39m\u001b[38;5;124m\"\u001b[39m\n\u001b[1;32m----> 3\u001b[0m \u001b[38;5;28mprint\u001b[39m(x \u001b[38;5;241m+\u001b[39m y)\n",
      "\u001b[1;31mTypeError\u001b[0m: unsupported operand type(s) for +: 'int' and 'str'"
     ]
    }
   ],
   "source": [
    "x = 5\n",
    "y = \"John\"\n",
    "print(x + y)\n"
   ]
  },
  {
   "cell_type": "markdown",
   "id": "2d32c237-7da8-40c4-8e74-78957bfbd102",
   "metadata": {},
   "source": [
    "Python - Output Variables (6)"
   ]
  },
  {
   "cell_type": "code",
   "execution_count": 103,
   "id": "f4d7b5e4-5b2f-4266-95aa-040aa1304067",
   "metadata": {},
   "outputs": [
    {
     "name": "stdout",
     "output_type": "stream",
     "text": [
      "5 John\n"
     ]
    }
   ],
   "source": [
    "x = 5\n",
    "y = \"John\"\n",
    "print(x, y)"
   ]
  },
  {
   "cell_type": "markdown",
   "id": "d4f27bc2-b3fa-4c4e-b5f7-e2457b2be723",
   "metadata": {},
   "source": [
    "Python - Global Variables (1)"
   ]
  },
  {
   "cell_type": "code",
   "execution_count": 111,
   "id": "78e3c1fc-a537-4f6d-a43d-a7ba1f65ca83",
   "metadata": {},
   "outputs": [
    {
     "name": "stdout",
     "output_type": "stream",
     "text": [
      "Python is awesome\n"
     ]
    }
   ],
   "source": [
    "x = \"awesome\"\n",
    "\n",
    "def myfunc():\n",
    "  print(\"Python is \" + x)\n",
    "\n",
    "myfunc()"
   ]
  },
  {
   "cell_type": "markdown",
   "id": "3cc5bd94-b68d-4134-aefc-23ff93445dbd",
   "metadata": {},
   "source": [
    "Python - Global Variables (2)"
   ]
  },
  {
   "cell_type": "code",
   "execution_count": 113,
   "id": "1bba2ba7-2dd0-4cb0-ab8e-a5972ff7a9e5",
   "metadata": {},
   "outputs": [
    {
     "name": "stdout",
     "output_type": "stream",
     "text": [
      "Python is fantastic\n",
      "Python is awesome\n"
     ]
    }
   ],
   "source": [
    "x = \"awesome\"\n",
    "\n",
    "def myfunc():\n",
    "  x = \"fantastic\"\n",
    "  print(\"Python is \" + x)\n",
    "\n",
    "myfunc()\n",
    "\n",
    "print(\"Python is \" + x)"
   ]
  },
  {
   "cell_type": "markdown",
   "id": "41cc4765-61f7-4490-87ab-b798e5747e8c",
   "metadata": {},
   "source": [
    "Python - Global Variables (3)"
   ]
  },
  {
   "cell_type": "code",
   "execution_count": 117,
   "id": "dff02c73-22dc-4fe8-91d2-ce9eeae10a59",
   "metadata": {},
   "outputs": [
    {
     "name": "stdout",
     "output_type": "stream",
     "text": [
      "Python is fantastic\n"
     ]
    }
   ],
   "source": [
    "def myfunc():\n",
    "  global x\n",
    "  x = \"fantastic\"\n",
    "\n",
    "myfunc()\n",
    "\n",
    "print(\"Python is \" + x)"
   ]
  },
  {
   "cell_type": "markdown",
   "id": "d4c6ec7c-42ae-4932-a75b-dd4f0a229139",
   "metadata": {},
   "source": [
    "Python - Global Variables (4)"
   ]
  },
  {
   "cell_type": "code",
   "execution_count": 119,
   "id": "dd2017c1-b5d8-4213-9fd6-849a9f2f9139",
   "metadata": {},
   "outputs": [
    {
     "name": "stdout",
     "output_type": "stream",
     "text": [
      "Python is fantastic\n"
     ]
    }
   ],
   "source": [
    "x = \"awesome\"\n",
    "\n",
    "def myfunc():\n",
    "  global x\n",
    "  x = \"fantastic\"\n",
    "\n",
    "myfunc()\n",
    "\n",
    "print(\"Python is \" + x)"
   ]
  },
  {
   "cell_type": "markdown",
   "id": "a19e1ebd-cae2-4e49-8a90-794441c00480",
   "metadata": {},
   "source": [
    "Python Data Types (1)"
   ]
  },
  {
   "cell_type": "code",
   "execution_count": 122,
   "id": "25e8408e-fcce-4bc3-be39-7bf68f8575e2",
   "metadata": {},
   "outputs": [
    {
     "name": "stdout",
     "output_type": "stream",
     "text": [
      "<class 'int'>\n"
     ]
    }
   ],
   "source": [
    "x = 5\n",
    "print(type(x))"
   ]
  },
  {
   "cell_type": "markdown",
   "id": "d40f493e-54f0-4b51-819a-e3a116598bdf",
   "metadata": {},
   "source": [
    "Python Numbers (1) "
   ]
  },
  {
   "cell_type": "code",
   "execution_count": 137,
   "id": "d9eacef4-420a-4baf-9081-e71cf28f1b1a",
   "metadata": {},
   "outputs": [
    {
     "name": "stdout",
     "output_type": "stream",
     "text": [
      "<class 'int'>\n",
      "<class 'float'>\n",
      "<class 'complex'>\n"
     ]
    }
   ],
   "source": [
    "x = 1    # int\n",
    "y = 2.8  # float\n",
    "z = 1j   # complex\n",
    "\n",
    "print(type(x))\n",
    "print(type(y))\n",
    "print(type(z))"
   ]
  },
  {
   "cell_type": "markdown",
   "id": "fe7249c4-8589-41d7-a023-3c62ec279a3c",
   "metadata": {},
   "source": [
    "Python Numbers (2)"
   ]
  },
  {
   "cell_type": "code",
   "execution_count": 139,
   "id": "338956b4-30c8-441f-b51b-3e34370b47c6",
   "metadata": {},
   "outputs": [
    {
     "name": "stdout",
     "output_type": "stream",
     "text": [
      "<class 'int'>\n",
      "<class 'int'>\n",
      "<class 'int'>\n"
     ]
    }
   ],
   "source": [
    "x = 1\n",
    "y = 35656222554887711\n",
    "z = -3255522\n",
    "\n",
    "print(type(x))\n",
    "print(type(y))\n",
    "print(type(z))\n"
   ]
  },
  {
   "cell_type": "markdown",
   "id": "75c49da7-4d1f-4fd5-b0f5-8d609a0ba16f",
   "metadata": {},
   "source": [
    "Python Numbers (3)"
   ]
  },
  {
   "cell_type": "code",
   "execution_count": 141,
   "id": "6e34d4f8-c1de-4bdc-a4bb-d29733871083",
   "metadata": {},
   "outputs": [
    {
     "name": "stdout",
     "output_type": "stream",
     "text": [
      "<class 'float'>\n",
      "<class 'float'>\n",
      "<class 'float'>\n"
     ]
    }
   ],
   "source": [
    "x = 1.10\n",
    "y = 1.0\n",
    "z = -35.59\n",
    "\n",
    "print(type(x))\n",
    "print(type(y))\n",
    "print(type(z))"
   ]
  },
  {
   "cell_type": "markdown",
   "id": "ec239e9f-a643-442d-8a45-03b71aefb71a",
   "metadata": {},
   "source": [
    "Python Numbers (4)"
   ]
  },
  {
   "cell_type": "code",
   "execution_count": 143,
   "id": "d818e0b5-3eac-4d78-9da6-5320df8d7f97",
   "metadata": {},
   "outputs": [
    {
     "name": "stdout",
     "output_type": "stream",
     "text": [
      "<class 'float'>\n",
      "<class 'float'>\n",
      "<class 'float'>\n"
     ]
    }
   ],
   "source": [
    "x = 35e3\n",
    "y = 12E4\n",
    "z = -87.7e100\n",
    "\n",
    "print(type(x))\n",
    "print(type(y))\n",
    "print(type(z))"
   ]
  },
  {
   "cell_type": "markdown",
   "id": "f035b211-6ef5-4cc4-a863-4f2b159717eb",
   "metadata": {},
   "source": [
    "Python Numbers (5)"
   ]
  },
  {
   "cell_type": "code",
   "execution_count": 145,
   "id": "94673697-b673-444e-92d6-c9768927eceb",
   "metadata": {},
   "outputs": [
    {
     "name": "stdout",
     "output_type": "stream",
     "text": [
      "<class 'complex'>\n",
      "<class 'complex'>\n",
      "<class 'complex'>\n"
     ]
    }
   ],
   "source": [
    "x = 3+5j\n",
    "y = 5j\n",
    "z = -5j\n",
    "\n",
    "print(type(x))\n",
    "print(type(y))\n",
    "print(type(z))"
   ]
  },
  {
   "cell_type": "markdown",
   "id": "ab30ae2a-960d-4948-9349-bbbed0978256",
   "metadata": {},
   "source": [
    "Python Numbers (6)"
   ]
  },
  {
   "cell_type": "code",
   "execution_count": 147,
   "id": "fdc2604e-73b3-4b9d-b03d-b41b242d75ed",
   "metadata": {},
   "outputs": [
    {
     "name": "stdout",
     "output_type": "stream",
     "text": [
      "1.0\n",
      "2\n",
      "(1+0j)\n",
      "<class 'float'>\n",
      "<class 'int'>\n",
      "<class 'complex'>\n"
     ]
    }
   ],
   "source": [
    "x = 1    # int\n",
    "y = 2.8  # float\n",
    "z = 1j   # complex\n",
    "\n",
    "#convert from int to float:\n",
    "a = float(x)\n",
    "\n",
    "#convert from float to int:\n",
    "b = int(y)\n",
    "\n",
    "#convert from int to complex:\n",
    "c = complex(x)\n",
    "\n",
    "print(a)\n",
    "print(b)\n",
    "print(c)\n",
    "\n",
    "print(type(a))\n",
    "print(type(b))\n",
    "print(type(c))"
   ]
  },
  {
   "cell_type": "markdown",
   "id": "3ddd8aef-0eb6-4316-9659-bd8c81873ef8",
   "metadata": {},
   "source": [
    "Python Numbers (7)"
   ]
  },
  {
   "cell_type": "code",
   "execution_count": 149,
   "id": "1f9f7ea7-d1df-41fe-8b9a-1131cba50e57",
   "metadata": {},
   "outputs": [
    {
     "name": "stdout",
     "output_type": "stream",
     "text": [
      "9\n"
     ]
    }
   ],
   "source": [
    "import random\n",
    "\n",
    "print(random.randrange(1, 10))"
   ]
  },
  {
   "cell_type": "markdown",
   "id": "9e774d07-8da9-4537-8fef-a908e9b639f5",
   "metadata": {},
   "source": [
    "Python Casting (1)"
   ]
  },
  {
   "cell_type": "code",
   "execution_count": 156,
   "id": "696c75b0-9dae-40cf-b66b-9cb3e18ca93c",
   "metadata": {},
   "outputs": [
    {
     "name": "stdout",
     "output_type": "stream",
     "text": [
      "1\n",
      "2\n",
      "3\n"
     ]
    }
   ],
   "source": [
    "x = int(1)\n",
    "y = int(2.8)\n",
    "z = int(\"3\")\n",
    "print(x)\n",
    "print(y)\n",
    "print(z)\n"
   ]
  },
  {
   "cell_type": "markdown",
   "id": "a1d09b0e-9772-4f7a-917a-31765105c368",
   "metadata": {},
   "source": [
    "Python Casting (2)"
   ]
  },
  {
   "cell_type": "code",
   "execution_count": 158,
   "id": "b3b04f03-f90b-416d-b6ab-e7a55938371a",
   "metadata": {},
   "outputs": [
    {
     "name": "stdout",
     "output_type": "stream",
     "text": [
      "1.0\n",
      "2.8\n",
      "3.0\n",
      "4.2\n"
     ]
    }
   ],
   "source": [
    "x = float(1)\n",
    "y = float(2.8)\n",
    "z = float(\"3\")\n",
    "w = float(\"4.2\")\n",
    "print(x)\n",
    "print(y)\n",
    "print(z)\n",
    "print(w)\n"
   ]
  },
  {
   "cell_type": "markdown",
   "id": "c82a98ba-8e93-4e62-a1dc-500c5c0aa31a",
   "metadata": {},
   "source": [
    "Python Casting (3)"
   ]
  },
  {
   "cell_type": "code",
   "execution_count": 160,
   "id": "399a0342-4450-47d6-91f3-f3e6b5a7d42d",
   "metadata": {},
   "outputs": [
    {
     "name": "stdout",
     "output_type": "stream",
     "text": [
      "s1\n",
      "2\n",
      "3.0\n"
     ]
    }
   ],
   "source": [
    "x = str(\"s1\")\n",
    "y = str(2)\n",
    "z = str(3.0)\n",
    "print(x)\n",
    "print(y)\n",
    "print(z)\n"
   ]
  },
  {
   "cell_type": "markdown",
   "id": "b713cfb1-e1a1-46d0-8284-7bd1bbd9d5d4",
   "metadata": {},
   "source": [
    "Python Strings (1)"
   ]
  },
  {
   "cell_type": "code",
   "execution_count": 183,
   "id": "fe7638e8-7227-4b04-9c38-ffd4444dd575",
   "metadata": {},
   "outputs": [
    {
     "name": "stdout",
     "output_type": "stream",
     "text": [
      "Hello\n",
      "Hello\n"
     ]
    }
   ],
   "source": [
    "print(\"Hello\")\n",
    "print('Hello')"
   ]
  },
  {
   "cell_type": "markdown",
   "id": "bf641e80-6d86-4369-ba7c-8e13bfb9f7ce",
   "metadata": {},
   "source": [
    "Python Strings (2)"
   ]
  },
  {
   "cell_type": "code",
   "execution_count": 185,
   "id": "cc4bc5ee-6898-409e-8bce-65edebf22066",
   "metadata": {},
   "outputs": [
    {
     "name": "stdout",
     "output_type": "stream",
     "text": [
      "It's alright\n",
      "He is called 'Johnny'\n",
      "He is called \"Johnny\"\n"
     ]
    }
   ],
   "source": [
    "print(\"It's alright\")\n",
    "print(\"He is called 'Johnny'\")\n",
    "print('He is called \"Johnny\"')"
   ]
  },
  {
   "cell_type": "markdown",
   "id": "e206c0f2-a99e-4f73-9a15-6e3920437b6e",
   "metadata": {},
   "source": [
    "Python Strings (3)"
   ]
  },
  {
   "cell_type": "code",
   "execution_count": 187,
   "id": "262b2806-e0d4-463f-8f18-02554e6f8c75",
   "metadata": {},
   "outputs": [
    {
     "name": "stdout",
     "output_type": "stream",
     "text": [
      "Hello\n"
     ]
    }
   ],
   "source": [
    "a = \"Hello\"\n",
    "print(a)\n"
   ]
  },
  {
   "cell_type": "markdown",
   "id": "93dce685-e5c8-4e4c-bf8a-5603930aecb3",
   "metadata": {},
   "source": [
    "Python Strings (4)"
   ]
  },
  {
   "cell_type": "code",
   "execution_count": 189,
   "id": "dd52591a-6c09-4720-8601-860b7d6e6ae7",
   "metadata": {},
   "outputs": [
    {
     "name": "stdout",
     "output_type": "stream",
     "text": [
      "Lorem ipsum dolor sit amet,\n",
      "consectetur adipiscing elit,\n",
      "sed do eiusmod tempor incididunt\n",
      "ut labore et dolore magna aliqua.\n"
     ]
    }
   ],
   "source": [
    "a = \"\"\"Lorem ipsum dolor sit amet,\n",
    "consectetur adipiscing elit,\n",
    "sed do eiusmod tempor incididunt\n",
    "ut labore et dolore magna aliqua.\"\"\"\n",
    "print(a)"
   ]
  },
  {
   "cell_type": "markdown",
   "id": "3de1b0b6-71c8-47cc-bcff-6fc03529636a",
   "metadata": {},
   "source": [
    "Python Strings (5)"
   ]
  },
  {
   "cell_type": "code",
   "execution_count": 191,
   "id": "9606cc85-9276-4b22-938d-66275b63ab83",
   "metadata": {},
   "outputs": [
    {
     "name": "stdout",
     "output_type": "stream",
     "text": [
      "Lorem ipsum dolor sit amet,\n",
      "consectetur adipiscing elit,\n",
      "sed do eiusmod tempor incididunt\n",
      "ut labore et dolore magna aliqua.\n"
     ]
    }
   ],
   "source": [
    "a = '''Lorem ipsum dolor sit amet,\n",
    "consectetur adipiscing elit,\n",
    "sed do eiusmod tempor incididunt\n",
    "ut labore et dolore magna aliqua.'''\n",
    "print(a)"
   ]
  },
  {
   "cell_type": "markdown",
   "id": "e2910717-d61a-44e5-a57b-8ed3148f0421",
   "metadata": {},
   "source": [
    "Python Strings (6)"
   ]
  },
  {
   "cell_type": "code",
   "execution_count": 193,
   "id": "03a9ce0b-59ef-4a0f-9d9c-b3bfc7635534",
   "metadata": {},
   "outputs": [
    {
     "name": "stdout",
     "output_type": "stream",
     "text": [
      "e\n"
     ]
    }
   ],
   "source": [
    "a = \"Hello, World!\"\n",
    "print(a[1])"
   ]
  },
  {
   "cell_type": "markdown",
   "id": "59c613cb-759d-488c-a216-af64e7289940",
   "metadata": {},
   "source": [
    "Python Strings (7)"
   ]
  },
  {
   "cell_type": "code",
   "execution_count": 195,
   "id": "aa9ecfae-a78f-4059-b9f1-53e5b140dcd5",
   "metadata": {},
   "outputs": [
    {
     "name": "stdout",
     "output_type": "stream",
     "text": [
      "b\n",
      "a\n",
      "n\n",
      "a\n",
      "n\n",
      "a\n"
     ]
    }
   ],
   "source": [
    "for x in \"banana\":\n",
    "  print(x)"
   ]
  },
  {
   "cell_type": "markdown",
   "id": "3f53857d-d704-47d1-8acc-63b3dacbb641",
   "metadata": {},
   "source": [
    "Python Strings (8)"
   ]
  },
  {
   "cell_type": "code",
   "execution_count": 197,
   "id": "e68a7f8a-bc32-48b4-ac9e-751174ff6c3c",
   "metadata": {},
   "outputs": [
    {
     "name": "stdout",
     "output_type": "stream",
     "text": [
      "13\n"
     ]
    }
   ],
   "source": [
    "a = \"Hello, World!\"\n",
    "print(len(a))"
   ]
  },
  {
   "cell_type": "markdown",
   "id": "513fa21c-64ac-4175-a2c9-934444412813",
   "metadata": {},
   "source": [
    "Python Strings (9)"
   ]
  },
  {
   "cell_type": "code",
   "execution_count": 199,
   "id": "b9934528-3244-400f-a22f-d091ce7779a7",
   "metadata": {},
   "outputs": [
    {
     "name": "stdout",
     "output_type": "stream",
     "text": [
      "True\n"
     ]
    }
   ],
   "source": [
    "txt = \"The best things in life are free!\"\n",
    "print(\"free\" in txt)"
   ]
  },
  {
   "cell_type": "markdown",
   "id": "f53ce315-69c2-41d4-aa93-3ce14cd50b40",
   "metadata": {},
   "source": [
    "Python Strings (10)"
   ]
  },
  {
   "cell_type": "code",
   "execution_count": 201,
   "id": "24fa2fc6-c0a6-4ee9-a1da-5b0f292f84c7",
   "metadata": {},
   "outputs": [
    {
     "name": "stdout",
     "output_type": "stream",
     "text": [
      "Yes, 'free' is present.\n"
     ]
    }
   ],
   "source": [
    "txt = \"The best things in life are free!\"\n",
    "if \"free\" in txt:\n",
    "  print(\"Yes, 'free' is present.\")"
   ]
  },
  {
   "cell_type": "markdown",
   "id": "47da197b-c427-4a75-8afc-07ebf3304ee6",
   "metadata": {},
   "source": [
    "Python Strings (11)"
   ]
  },
  {
   "cell_type": "code",
   "execution_count": 203,
   "id": "e489e307-a761-4a71-a4d4-ea8c946ebcde",
   "metadata": {},
   "outputs": [
    {
     "name": "stdout",
     "output_type": "stream",
     "text": [
      "True\n"
     ]
    }
   ],
   "source": [
    "txt = \"The best things in life are free!\"\n",
    "print(\"expensive\" not in txt)"
   ]
  },
  {
   "cell_type": "markdown",
   "id": "4a99da79-cbb5-4e65-b625-7fe1564fe9f2",
   "metadata": {},
   "source": [
    "Python Strings (12)"
   ]
  },
  {
   "cell_type": "code",
   "execution_count": 205,
   "id": "ae434cd2-40c3-432d-9b89-b236f3bfabbf",
   "metadata": {},
   "outputs": [
    {
     "name": "stdout",
     "output_type": "stream",
     "text": [
      "No, 'expensive' is NOT present.\n"
     ]
    }
   ],
   "source": [
    "txt = \"The best things in life are free!\"\n",
    "if \"expensive\" not in txt:\n",
    "  print(\"No, 'expensive' is NOT present.\")"
   ]
  },
  {
   "cell_type": "markdown",
   "id": "752f3d76-2b0d-4967-b4f5-d593f5b55296",
   "metadata": {},
   "source": [
    "Python-Slicing Strings (1)"
   ]
  },
  {
   "cell_type": "code",
   "execution_count": 211,
   "id": "1e6e47b5-bc59-484d-9670-fd231574d976",
   "metadata": {},
   "outputs": [
    {
     "name": "stdout",
     "output_type": "stream",
     "text": [
      "llo\n"
     ]
    }
   ],
   "source": [
    "b = \"Hello, World!\"\n",
    "print(b[2:5])"
   ]
  },
  {
   "cell_type": "markdown",
   "id": "c4f73801-9e21-451a-ac33-f89095f3deab",
   "metadata": {},
   "source": [
    "Python-Slicing Strings (2)"
   ]
  },
  {
   "cell_type": "code",
   "execution_count": 213,
   "id": "1b9cd796-24f3-4308-86dd-a9c565f37207",
   "metadata": {},
   "outputs": [
    {
     "name": "stdout",
     "output_type": "stream",
     "text": [
      "Hello\n"
     ]
    }
   ],
   "source": [
    "b = \"Hello, World!\"\n",
    "print(b[:5])"
   ]
  },
  {
   "cell_type": "markdown",
   "id": "e008f166-2e40-4156-8bfd-f3f73bb717ad",
   "metadata": {},
   "source": [
    "Python-Slicing Strings (3)"
   ]
  },
  {
   "cell_type": "code",
   "execution_count": 215,
   "id": "882f1d63-d5e4-4890-ae5c-73c3a0d75d0a",
   "metadata": {},
   "outputs": [
    {
     "name": "stdout",
     "output_type": "stream",
     "text": [
      "llo, World!\n"
     ]
    }
   ],
   "source": [
    "b = \"Hello, World!\"\n",
    "print(b[2:])"
   ]
  },
  {
   "cell_type": "markdown",
   "id": "cd59b0bd-2b5f-4295-acd7-2f8f363ea874",
   "metadata": {},
   "source": [
    "Python-Slicing Strings (4)"
   ]
  },
  {
   "cell_type": "code",
   "execution_count": 217,
   "id": "8be419d5-0da1-45e0-9b3d-1cdcf69693ce",
   "metadata": {},
   "outputs": [
    {
     "name": "stdout",
     "output_type": "stream",
     "text": [
      "orl\n"
     ]
    }
   ],
   "source": [
    "b = \"Hello, World!\"\n",
    "print(b[-5:-2])"
   ]
  },
  {
   "cell_type": "markdown",
   "id": "c1f078e1-ba65-425b-a4d6-045c039c79fb",
   "metadata": {},
   "source": [
    "Modify Strings (1)"
   ]
  },
  {
   "cell_type": "code",
   "execution_count": 224,
   "id": "6288be75-7c3d-41e1-88fa-72a88a3e2d3b",
   "metadata": {},
   "outputs": [
    {
     "name": "stdout",
     "output_type": "stream",
     "text": [
      "HELLO, WORLD!\n"
     ]
    }
   ],
   "source": [
    "a = \"Hello, World!\"\n",
    "print(a.upper())"
   ]
  },
  {
   "cell_type": "markdown",
   "id": "51f1ea91-5b4d-48a0-b230-bdcd1bbe86c9",
   "metadata": {},
   "source": [
    "Modify Strings (2)"
   ]
  },
  {
   "cell_type": "code",
   "execution_count": 226,
   "id": "74681d2a-34e0-4e46-9e18-fff62849a4fd",
   "metadata": {},
   "outputs": [
    {
     "name": "stdout",
     "output_type": "stream",
     "text": [
      "hello, world!\n"
     ]
    }
   ],
   "source": [
    "a = \"Hello, World!\"\n",
    "print(a.lower())"
   ]
  },
  {
   "cell_type": "markdown",
   "id": "e694b87e-452a-48a2-b243-8ea33db8c9ca",
   "metadata": {},
   "source": [
    "Modify Strings (3)"
   ]
  },
  {
   "cell_type": "code",
   "execution_count": 228,
   "id": "f40352f7-edf0-4838-876d-1d61b1107863",
   "metadata": {},
   "outputs": [
    {
     "name": "stdout",
     "output_type": "stream",
     "text": [
      "Hello, World!\n"
     ]
    }
   ],
   "source": [
    "a = \" Hello, World! \"\n",
    "print(a.strip()) # returns \"Hello, World!\""
   ]
  },
  {
   "cell_type": "markdown",
   "id": "be124a5d-a2a0-4d6f-979e-336a287850d0",
   "metadata": {},
   "source": [
    "Modify Strings (4)"
   ]
  },
  {
   "cell_type": "code",
   "execution_count": 230,
   "id": "73eaf3f2-85a4-459b-80a0-229aa576d85b",
   "metadata": {},
   "outputs": [
    {
     "name": "stdout",
     "output_type": "stream",
     "text": [
      "Hello, World!\n"
     ]
    }
   ],
   "source": [
    "a = \" Hello, World! \"\n",
    "print(a.strip()) # returns \"Hello, World!\""
   ]
  },
  {
   "cell_type": "markdown",
   "id": "f2c9a11a-dc76-4f7d-b9d8-d8dfc287348e",
   "metadata": {},
   "source": [
    "Modify Strings (5)"
   ]
  },
  {
   "cell_type": "code",
   "execution_count": 232,
   "id": "d794b3d1-fdc5-47e6-be85-cedb80603c0d",
   "metadata": {},
   "outputs": [
    {
     "name": "stdout",
     "output_type": "stream",
     "text": [
      "['Hello', ' World!']\n"
     ]
    }
   ],
   "source": [
    "a = \"Hello, World!\"\n",
    "print(a.split(\",\")) # returns ['Hello', ' World!']"
   ]
  },
  {
   "cell_type": "markdown",
   "id": "f04c13eb-2b0c-4f9c-8e9c-ce841b905e88",
   "metadata": {},
   "source": [
    "String Concatenation (1)"
   ]
  },
  {
   "cell_type": "markdown",
   "id": "824c1159-1ae3-4d6c-98c4-7d3269a80d3d",
   "metadata": {},
   "source": [
    "a = \"Hello\"\n",
    "b = \"World\"\n",
    "c = a + b\n",
    "print(c)"
   ]
  },
  {
   "cell_type": "markdown",
   "id": "ac892f66-c471-434e-97a8-9d5437d36d23",
   "metadata": {},
   "source": [
    "String Concatenation (2)"
   ]
  },
  {
   "cell_type": "code",
   "execution_count": 238,
   "id": "4c96367d-65a4-47a7-8840-c1534d8227cf",
   "metadata": {},
   "outputs": [
    {
     "name": "stdout",
     "output_type": "stream",
     "text": [
      "Hello World\n"
     ]
    }
   ],
   "source": [
    "a = \"Hello\"\n",
    "b = \"World\"\n",
    "c = a + \" \" + b\n",
    "print(c)"
   ]
  },
  {
   "cell_type": "markdown",
   "id": "c37c5d88-0d37-4295-9531-7d956e9e2c66",
   "metadata": {},
   "source": [
    "Format - Strings (1)"
   ]
  },
  {
   "cell_type": "code",
   "execution_count": 241,
   "id": "fb5f8060-4dfd-49cb-9dad-524a242b816c",
   "metadata": {},
   "outputs": [
    {
     "name": "stdout",
     "output_type": "stream",
     "text": [
      "My name is John, I am 36\n"
     ]
    }
   ],
   "source": [
    "age = 36\n",
    "txt = f\"My name is John, I am {age}\"\n",
    "print(txt)"
   ]
  },
  {
   "cell_type": "markdown",
   "id": "1c1e80df-a23b-466a-8737-db9cef56cd60",
   "metadata": {},
   "source": [
    "Format - Strings (2)"
   ]
  },
  {
   "cell_type": "code",
   "execution_count": 245,
   "id": "ed6b75b1-b33c-41fe-a104-0fd141f3a0b6",
   "metadata": {},
   "outputs": [
    {
     "name": "stdout",
     "output_type": "stream",
     "text": [
      "The price is 59 dollars\n"
     ]
    }
   ],
   "source": [
    "price = 59\n",
    "txt = f\"The price is {price} dollars\"\n",
    "print(txt)"
   ]
  },
  {
   "cell_type": "markdown",
   "id": "74c2fa10-cd16-45bd-ad98-5ccfee386c88",
   "metadata": {},
   "source": [
    "Format - Strings (3)"
   ]
  },
  {
   "cell_type": "code",
   "execution_count": 247,
   "id": "e695a1bc-ad8f-492d-88f2-961112b2474d",
   "metadata": {},
   "outputs": [
    {
     "name": "stdout",
     "output_type": "stream",
     "text": [
      "The price is 59.00 dollars\n"
     ]
    }
   ],
   "source": [
    "price = 59\n",
    "txt = f\"The price is {price:.2f} dollars\"\n",
    "print(txt)"
   ]
  },
  {
   "cell_type": "markdown",
   "id": "451f193f-1d6e-4b75-bd8b-85073361dae2",
   "metadata": {},
   "source": [
    "Format - Strings (4)"
   ]
  },
  {
   "cell_type": "code",
   "execution_count": 249,
   "id": "2e59e18a-f73e-4018-ab12-3e58343c327e",
   "metadata": {},
   "outputs": [
    {
     "name": "stdout",
     "output_type": "stream",
     "text": [
      "The price is 1180 dollars\n"
     ]
    }
   ],
   "source": [
    "txt = f\"The price is {20 * 59} dollars\"\n",
    "print(txt)"
   ]
  },
  {
   "cell_type": "code",
   "execution_count": null,
   "id": "d754cbd0-4c0d-4d31-b680-da1e90aed864",
   "metadata": {},
   "outputs": [],
   "source": [
    "Escape Characters (1)"
   ]
  },
  {
   "cell_type": "code",
   "execution_count": 252,
   "id": "d1bd489d-098f-4fd1-864b-10585da5ade9",
   "metadata": {},
   "outputs": [
    {
     "name": "stdout",
     "output_type": "stream",
     "text": [
      "We are the so-called \"Vikings\" from the north.\n"
     ]
    }
   ],
   "source": [
    "txt = \"We are the so-called \\\"Vikings\\\" from the north.\"\n",
    "print(txt) \n"
   ]
  },
  {
   "cell_type": "code",
   "execution_count": null,
   "id": "75b61a5f-039f-464a-a5d6-387cc74485ef",
   "metadata": {},
   "outputs": [],
   "source": []
  }
 ],
 "metadata": {
  "kernelspec": {
   "display_name": "Python [conda env:base] *",
   "language": "python",
   "name": "conda-base-py"
  },
  "language_info": {
   "codemirror_mode": {
    "name": "ipython",
    "version": 3
   },
   "file_extension": ".py",
   "mimetype": "text/x-python",
   "name": "python",
   "nbconvert_exporter": "python",
   "pygments_lexer": "ipython3",
   "version": "3.12.7"
  }
 },
 "nbformat": 4,
 "nbformat_minor": 5
}
