{
 "cells": [
  {
   "cell_type": "markdown",
   "id": "cfc433d4-eb65-4517-8a77-c160f33cfbe1",
   "metadata": {},
   "source": [
    "Python Booleans (1) "
   ]
  },
  {
   "cell_type": "code",
   "execution_count": 3,
   "id": "8b06eea8-34b8-4dfc-9f1b-11ec26f076c9",
   "metadata": {
    "collapsed": true,
    "jupyter": {
     "outputs_hidden": true
    }
   },
   "outputs": [
    {
     "name": "stdout",
     "output_type": "stream",
     "text": [
      "True\n",
      "False\n",
      "False\n"
     ]
    }
   ],
   "source": [
    "print(10 > 9)\n",
    "print(10 == 9)\n",
    "print(10 < 9)"
   ]
  },
  {
   "cell_type": "markdown",
   "id": "5b02de9d-b495-48a7-a9ab-a9b95128920e",
   "metadata": {},
   "source": [
    "Python Booleans (2) "
   ]
  },
  {
   "cell_type": "code",
   "execution_count": 9,
   "id": "da4ba114-e45e-41df-bb27-c2556c9e1327",
   "metadata": {},
   "outputs": [
    {
     "name": "stdout",
     "output_type": "stream",
     "text": [
      "b is not greater than a\n"
     ]
    }
   ],
   "source": [
    "a = 200\n",
    "b = 33\n",
    "\n",
    "if b > a:\n",
    "  print(\"b is greater than a\")\n",
    "else:\n",
    "  print(\"b is not greater than a\")"
   ]
  },
  {
   "cell_type": "markdown",
   "id": "2b767d5d-1144-4df6-94c0-24b651f86baa",
   "metadata": {},
   "source": [
    "Python Booleans (3) "
   ]
  },
  {
   "cell_type": "code",
   "execution_count": 11,
   "id": "456bbe16-f1fc-477d-8770-14d29448e7b4",
   "metadata": {},
   "outputs": [
    {
     "name": "stdout",
     "output_type": "stream",
     "text": [
      "True\n",
      "True\n"
     ]
    }
   ],
   "source": [
    "print(bool(\"Hello\"))\n",
    "print(bool(15))"
   ]
  },
  {
   "cell_type": "markdown",
   "id": "4cf5d10e-dd57-4227-8e63-6f1cd0fcb8d4",
   "metadata": {},
   "source": [
    "Python Booleans (4) "
   ]
  },
  {
   "cell_type": "code",
   "execution_count": 13,
   "id": "7340ddd8-466c-4f09-8d89-4e1220eeebd4",
   "metadata": {},
   "outputs": [
    {
     "name": "stdout",
     "output_type": "stream",
     "text": [
      "True\n",
      "True\n"
     ]
    }
   ],
   "source": [
    "x = \"Hello\"\n",
    "y = 15\n",
    "\n",
    "print(bool(x))\n",
    "print(bool(y))"
   ]
  },
  {
   "cell_type": "markdown",
   "id": "9af2d878-c378-4d5c-ae43-1a2b1df78f41",
   "metadata": {},
   "source": [
    "Python Booleans (5)"
   ]
  },
  {
   "cell_type": "code",
   "execution_count": 23,
   "id": "1cb81083-c392-4acf-8553-cb1d1e5a24bc",
   "metadata": {},
   "outputs": [
    {
     "data": {
      "text/plain": [
       "True"
      ]
     },
     "execution_count": 23,
     "metadata": {},
     "output_type": "execute_result"
    }
   ],
   "source": [
    "bool(\"abc\")\n",
    "bool(123)\n",
    "bool([\"apple\", \"cherry\", \"banana\"])"
   ]
  },
  {
   "cell_type": "markdown",
   "id": "7393a86d-4ef2-413c-b456-63d6f0c97ce7",
   "metadata": {},
   "source": [
    "Python Booleans (6)"
   ]
  },
  {
   "cell_type": "code",
   "execution_count": 25,
   "id": "2834b299-6dd3-4072-b384-796f3fd339a8",
   "metadata": {},
   "outputs": [
    {
     "data": {
      "text/plain": [
       "False"
      ]
     },
     "execution_count": 25,
     "metadata": {},
     "output_type": "execute_result"
    }
   ],
   "source": [
    "bool(False)\n",
    "bool(None)\n",
    "bool(0)\n",
    "bool(\"\")\n",
    "bool(())\n",
    "bool([])\n",
    "bool({})"
   ]
  },
  {
   "cell_type": "markdown",
   "id": "77d3e047-848b-4cb7-879a-dd0a904f6d9c",
   "metadata": {},
   "source": [
    "Python Booleans (7)"
   ]
  },
  {
   "cell_type": "code",
   "execution_count": 27,
   "id": "68f87a2f-3fa0-425b-855b-af1437aeba84",
   "metadata": {},
   "outputs": [
    {
     "name": "stdout",
     "output_type": "stream",
     "text": [
      "False\n"
     ]
    }
   ],
   "source": [
    "class myclass():\n",
    "  def __len__(self):\n",
    "    return 0\n",
    "\n",
    "myobj = myclass()\n",
    "print(bool(myobj))"
   ]
  },
  {
   "cell_type": "markdown",
   "id": "62599bd7-481b-46f6-85b7-63865d6f0a1f",
   "metadata": {},
   "source": [
    "Python Booleans (8)"
   ]
  },
  {
   "cell_type": "code",
   "execution_count": 29,
   "id": "5275b042-598c-4c59-aa7d-c8a7755a517e",
   "metadata": {},
   "outputs": [
    {
     "name": "stdout",
     "output_type": "stream",
     "text": [
      "True\n"
     ]
    }
   ],
   "source": [
    "def myFunction() :\n",
    "  return True\n",
    "\n",
    "print(myFunction())"
   ]
  },
  {
   "cell_type": "markdown",
   "id": "310770f6-16b9-4cd0-aef2-76d9b8050ad2",
   "metadata": {},
   "source": [
    "Python Booleans (9)"
   ]
  },
  {
   "cell_type": "code",
   "execution_count": 31,
   "id": "c3a4a611-c87e-49dc-9c43-0be2d4a123d7",
   "metadata": {},
   "outputs": [
    {
     "name": "stdout",
     "output_type": "stream",
     "text": [
      "YES!\n"
     ]
    }
   ],
   "source": [
    "def myFunction() :\n",
    "  return True\n",
    "\n",
    "if myFunction():\n",
    "  print(\"YES!\")\n",
    "else:\n",
    "  print(\"NO!\")"
   ]
  },
  {
   "cell_type": "markdown",
   "id": "d0bedf1a-dd08-4717-84e7-876c6ebb8dcc",
   "metadata": {},
   "source": [
    "Python Booleans (10)"
   ]
  },
  {
   "cell_type": "code",
   "execution_count": 33,
   "id": "547ee458-7dce-4879-be75-fc2e2f48d64b",
   "metadata": {},
   "outputs": [
    {
     "name": "stdout",
     "output_type": "stream",
     "text": [
      "True\n"
     ]
    }
   ],
   "source": [
    "x = 200\n",
    "print(isinstance(x, int))"
   ]
  },
  {
   "cell_type": "markdown",
   "id": "0223fc34-5c26-457c-9350-eee569a23d24",
   "metadata": {},
   "source": [
    "Python Operators (1)"
   ]
  },
  {
   "cell_type": "code",
   "execution_count": 36,
   "id": "2a471949-a2ba-4186-9291-e7bbdddd61d5",
   "metadata": {},
   "outputs": [
    {
     "name": "stdout",
     "output_type": "stream",
     "text": [
      "15\n"
     ]
    }
   ],
   "source": [
    "print(10 + 5)"
   ]
  },
  {
   "cell_type": "markdown",
   "id": "4db129da-d149-4811-9a45-0f091d50a429",
   "metadata": {},
   "source": [
    "Python Operators (2)"
   ]
  },
  {
   "cell_type": "code",
   "execution_count": 38,
   "id": "c3ce4064-2dba-4fd8-a192-72d820c13b4d",
   "metadata": {},
   "outputs": [
    {
     "name": "stdout",
     "output_type": "stream",
     "text": [
      "0\n"
     ]
    }
   ],
   "source": [
    "print((6 + 3) - (6 + 3))"
   ]
  },
  {
   "cell_type": "markdown",
   "id": "fa5b8c40-5fca-473f-b46f-cbfb84564509",
   "metadata": {},
   "source": [
    "Python Operators (3)"
   ]
  },
  {
   "cell_type": "code",
   "execution_count": 40,
   "id": "dd7f5639-0815-46d6-b398-c3880cd37f37",
   "metadata": {},
   "outputs": [
    {
     "name": "stdout",
     "output_type": "stream",
     "text": [
      "115\n"
     ]
    }
   ],
   "source": [
    "print(100 + 5 * 3)"
   ]
  },
  {
   "cell_type": "markdown",
   "id": "5f170515-e407-4b12-a179-33955eb6c6f2",
   "metadata": {},
   "source": [
    "Python Operators (4)"
   ]
  },
  {
   "cell_type": "code",
   "execution_count": 42,
   "id": "4b005d9b-a242-42cf-9acc-4ff42df70893",
   "metadata": {},
   "outputs": [
    {
     "name": "stdout",
     "output_type": "stream",
     "text": [
      "5\n"
     ]
    }
   ],
   "source": [
    "print(5 + 4 - 7 + 3)"
   ]
  },
  {
   "cell_type": "markdown",
   "id": "3a159a7e-4fa3-4b2d-b197-ef8eb837d28a",
   "metadata": {},
   "source": [
    "Python Lists (1)"
   ]
  },
  {
   "cell_type": "code",
   "execution_count": 1,
   "id": "fd11024a-5fa1-4274-a2ed-bbca4498c951",
   "metadata": {},
   "outputs": [
    {
     "name": "stdout",
     "output_type": "stream",
     "text": [
      "['apple', 'banana', 'cherry']\n"
     ]
    }
   ],
   "source": [
    "thislist = [\"apple\", \"banana\", \"cherry\"]\n",
    "print(thislist)"
   ]
  },
  {
   "cell_type": "markdown",
   "id": "b9545732-462b-45b3-b6f1-57d8ef9befb4",
   "metadata": {},
   "source": [
    "Python Lists  (2)"
   ]
  },
  {
   "cell_type": "code",
   "execution_count": 4,
   "id": "c2fc6c9d-e612-4675-acf0-5881271f9495",
   "metadata": {},
   "outputs": [
    {
     "name": "stdout",
     "output_type": "stream",
     "text": [
      "3\n"
     ]
    }
   ],
   "source": [
    "thislist = [\"apple\", \"banana\", \"cherry\"]\n",
    "print(len(thislist))"
   ]
  },
  {
   "cell_type": "markdown",
   "id": "ab99a4b9-e0e8-487c-8f95-f6fc2312921b",
   "metadata": {},
   "source": [
    "Python Lists (3)"
   ]
  },
  {
   "cell_type": "code",
   "execution_count": 6,
   "id": "64736f49-6cbe-4c75-93e7-e5906d6d9dc5",
   "metadata": {},
   "outputs": [],
   "source": [
    "list1 = [\"apple\", \"banana\", \"cherry\"]\n",
    "list2 = [1, 5, 7, 9, 3]\n",
    "list3 = [True, False, False]"
   ]
  },
  {
   "cell_type": "markdown",
   "id": "7263a204-14d7-4725-b83b-3bdee18d91d9",
   "metadata": {},
   "source": [
    "Python Lists (4)"
   ]
  },
  {
   "cell_type": "code",
   "execution_count": 21,
   "id": "70c9d1db-4ea0-46cc-aac2-51c6541a2af6",
   "metadata": {},
   "outputs": [
    {
     "name": "stdout",
     "output_type": "stream",
     "text": [
      "['abc', 34, True, 40, 'male']\n"
     ]
    }
   ],
   "source": [
    "list1 = [\"abc\", 34, True, 40, \"male\"]\n",
    "\n",
    "print(list1)\n"
   ]
  },
  {
   "cell_type": "markdown",
   "id": "df26d9fb-8320-43b0-9f5c-af9baf621f6a",
   "metadata": {},
   "source": [
    "Python Lists (5)"
   ]
  },
  {
   "cell_type": "code",
   "execution_count": 10,
   "id": "8ce42739-6cfb-40aa-9966-c015e22c6827",
   "metadata": {},
   "outputs": [
    {
     "name": "stdout",
     "output_type": "stream",
     "text": [
      "<class 'list'>\n"
     ]
    }
   ],
   "source": [
    "mylist = [\"apple\", \"banana\", \"cherry\"]\n",
    "print(type(mylist))"
   ]
  },
  {
   "cell_type": "markdown",
   "id": "e169ca3f-b6ab-4097-b410-7efda6d78db5",
   "metadata": {},
   "source": [
    "Python Lists (6)"
   ]
  },
  {
   "cell_type": "code",
   "execution_count": 23,
   "id": "34e23cbd-04c3-4db5-b5b6-ac50fd14abe2",
   "metadata": {},
   "outputs": [
    {
     "name": "stdout",
     "output_type": "stream",
     "text": [
      "['apple', 'banana', 'cherry']\n"
     ]
    }
   ],
   "source": [
    "thislist = list((\"apple\", \"banana\", \"cherry\")) # note the double round-brackets\n",
    "print(thislist)"
   ]
  },
  {
   "cell_type": "markdown",
   "id": "2ccb615e-c1a8-4afe-abcc-857442c7a902",
   "metadata": {},
   "source": [
    "Access List Items "
   ]
  },
  {
   "cell_type": "code",
   "execution_count": 40,
   "id": "64581362-4849-4a81-9d4c-752a29c32ce5",
   "metadata": {},
   "outputs": [
    {
     "name": "stdout",
     "output_type": "stream",
     "text": [
      "banana\n"
     ]
    }
   ],
   "source": [
    "thislist = [\"apple\", \"banana\", \"cherry\"]\n",
    "print(thislist[1])"
   ]
  },
  {
   "cell_type": "markdown",
   "id": "102633d4-972e-4636-8462-8321a14e095a",
   "metadata": {},
   "source": [
    "Access List Items (2)"
   ]
  },
  {
   "cell_type": "code",
   "execution_count": 42,
   "id": "f1e66b8b-4464-4375-92fa-f4967ccd753e",
   "metadata": {},
   "outputs": [
    {
     "name": "stdout",
     "output_type": "stream",
     "text": [
      "cherry\n"
     ]
    }
   ],
   "source": [
    "thislist = [\"apple\", \"banana\", \"cherry\"]\n",
    "print(thislist[-1])"
   ]
  },
  {
   "cell_type": "markdown",
   "id": "acf71dd7-32a0-4810-8239-aeb712a2896d",
   "metadata": {},
   "source": [
    "Access List Items (3)"
   ]
  },
  {
   "cell_type": "code",
   "execution_count": 51,
   "id": "a73999e3-2f16-41f8-bc33-42069d357f89",
   "metadata": {},
   "outputs": [
    {
     "name": "stdout",
     "output_type": "stream",
     "text": [
      "['cherry', 'orange', 'kiwi']\n"
     ]
    }
   ],
   "source": [
    "thislist = [\"apple\", \"banana\", \"cherry\", \"orange\", \"kiwi\", \"melon\", \"mango\"]\n",
    "print(thislist[2:5])"
   ]
  },
  {
   "cell_type": "markdown",
   "id": "17017cbe-1f73-47c9-b13e-c8f2d18bf0e7",
   "metadata": {},
   "source": [
    "Access List Items (4)"
   ]
  },
  {
   "cell_type": "code",
   "execution_count": 53,
   "id": "e0c6a659-8c65-4057-8e44-e9bedee22c59",
   "metadata": {},
   "outputs": [
    {
     "name": "stdout",
     "output_type": "stream",
     "text": [
      "['apple', 'banana', 'cherry', 'orange']\n"
     ]
    }
   ],
   "source": [
    "thislist = [\"apple\", \"banana\", \"cherry\", \"orange\", \"kiwi\", \"melon\", \"mango\"]\n",
    "print(thislist[:4])"
   ]
  },
  {
   "cell_type": "markdown",
   "id": "925b79ea-323a-48fb-88d6-cf2f0a88560a",
   "metadata": {},
   "source": [
    "Access List Items (5)"
   ]
  },
  {
   "cell_type": "code",
   "execution_count": 55,
   "id": "d151c163-1cd1-4917-b79c-e88803f23bdb",
   "metadata": {},
   "outputs": [
    {
     "name": "stdout",
     "output_type": "stream",
     "text": [
      "['cherry', 'orange', 'kiwi', 'melon', 'mango']\n"
     ]
    }
   ],
   "source": [
    "thislist = [\"apple\", \"banana\", \"cherry\", \"orange\", \"kiwi\", \"melon\", \"mango\"]\n",
    "print(thislist[2:])"
   ]
  },
  {
   "cell_type": "markdown",
   "id": "7c00f609-04ba-4dbe-ab68-ade563319370",
   "metadata": {},
   "source": [
    "Access List Items (6)"
   ]
  },
  {
   "cell_type": "code",
   "execution_count": 57,
   "id": "872dbb79-11f9-4af3-a148-ffcf76a30be9",
   "metadata": {},
   "outputs": [
    {
     "name": "stdout",
     "output_type": "stream",
     "text": [
      "['orange', 'kiwi', 'melon']\n"
     ]
    }
   ],
   "source": [
    "thislist = [\"apple\", \"banana\", \"cherry\", \"orange\", \"kiwi\", \"melon\", \"mango\"]\n",
    "print(thislist[-4:-1])"
   ]
  },
  {
   "cell_type": "markdown",
   "id": "0b8e74bc-6b51-47a9-9128-e48b568eec74",
   "metadata": {},
   "source": [
    "Access List Items (7)"
   ]
  },
  {
   "cell_type": "code",
   "execution_count": 59,
   "id": "f7098aca-e183-40fd-8989-dd20ae5b5437",
   "metadata": {},
   "outputs": [
    {
     "name": "stdout",
     "output_type": "stream",
     "text": [
      "Yes, 'apple' is in the fruits list\n"
     ]
    }
   ],
   "source": [
    "thislist = [\"apple\", \"banana\", \"cherry\"]\n",
    "if \"apple\" in thislist:\n",
    "  print(\"Yes, 'apple' is in the fruits list\")"
   ]
  },
  {
   "cell_type": "markdown",
   "id": "9ce68802-f9fb-4fa6-8269-4417ec1dd704",
   "metadata": {},
   "source": [
    "Change List Items (1)"
   ]
  },
  {
   "cell_type": "code",
   "execution_count": 67,
   "id": "8fd5d369-3a8c-4aef-92a0-565a99f007f7",
   "metadata": {},
   "outputs": [
    {
     "name": "stdout",
     "output_type": "stream",
     "text": [
      "['apple', 'blackcurrant', 'cherry']\n"
     ]
    }
   ],
   "source": [
    "thislist = [\"apple\", \"banana\", \"cherry\"]\n",
    "thislist[1] = \"blackcurrant\"\n",
    "print(thislist)"
   ]
  },
  {
   "cell_type": "markdown",
   "id": "63a350c6-f802-4952-8875-ac9c078988ae",
   "metadata": {},
   "source": [
    "Change List Items (2)"
   ]
  },
  {
   "cell_type": "code",
   "execution_count": 69,
   "id": "e18b5a46-67db-4be2-afbf-04caa7f40baa",
   "metadata": {},
   "outputs": [
    {
     "name": "stdout",
     "output_type": "stream",
     "text": [
      "['apple', 'blackcurrant', 'watermelon', 'orange', 'kiwi', 'mango']\n"
     ]
    }
   ],
   "source": [
    "thislist = [\"apple\", \"banana\", \"cherry\", \"orange\", \"kiwi\", \"mango\"]\n",
    "thislist[1:3] = [\"blackcurrant\", \"watermelon\"]\n",
    "print(thislist)"
   ]
  },
  {
   "cell_type": "markdown",
   "id": "cef114f5-2301-4a33-886e-533a2dd53ab6",
   "metadata": {},
   "source": [
    "Change List Items (3)"
   ]
  },
  {
   "cell_type": "code",
   "execution_count": 71,
   "id": "b5acf81b-adac-4bb5-a6ab-0b69edfe6a3a",
   "metadata": {},
   "outputs": [
    {
     "name": "stdout",
     "output_type": "stream",
     "text": [
      "['apple', 'blackcurrant', 'watermelon', 'cherry']\n"
     ]
    }
   ],
   "source": [
    "thislist = [\"apple\", \"banana\", \"cherry\"]\n",
    "thislist[1:2] = [\"blackcurrant\", \"watermelon\"]\n",
    "print(thislist)"
   ]
  },
  {
   "cell_type": "markdown",
   "id": "2a5b0d75-f805-4496-a17f-0f51192acfe8",
   "metadata": {},
   "source": [
    "Change List Items (4)"
   ]
  },
  {
   "cell_type": "code",
   "execution_count": 73,
   "id": "42dad983-af20-4e60-9e6c-45cdbf5af704",
   "metadata": {},
   "outputs": [
    {
     "name": "stdout",
     "output_type": "stream",
     "text": [
      "['apple', 'watermelon']\n"
     ]
    }
   ],
   "source": [
    "thislist = [\"apple\", \"banana\", \"cherry\"]\n",
    "thislist[1:3] = [\"watermelon\"]\n",
    "print(thislist)"
   ]
  },
  {
   "cell_type": "markdown",
   "id": "f28ced39-cc21-46c8-b93d-2118bd82c220",
   "metadata": {},
   "source": [
    "Change List Items (5)"
   ]
  },
  {
   "cell_type": "code",
   "execution_count": 75,
   "id": "f004f024-8c0d-47f6-b784-c8391c22ac32",
   "metadata": {},
   "outputs": [
    {
     "name": "stdout",
     "output_type": "stream",
     "text": [
      "['apple', 'banana', 'watermelon', 'cherry']\n"
     ]
    }
   ],
   "source": [
    "thislist = [\"apple\", \"banana\", \"cherry\"]\n",
    "thislist.insert(2, \"watermelon\")\n",
    "print(thislist)"
   ]
  },
  {
   "cell_type": "markdown",
   "id": "889148e3-b5f2-4d3f-b0e7-c7c0f174b35b",
   "metadata": {},
   "source": [
    "Add List Items (1)"
   ]
  },
  {
   "cell_type": "code",
   "execution_count": 83,
   "id": "38f93015-a490-41fe-b940-d5f3847bff20",
   "metadata": {},
   "outputs": [
    {
     "name": "stdout",
     "output_type": "stream",
     "text": [
      "['apple', 'banana', 'cherry', 'orange']\n"
     ]
    }
   ],
   "source": [
    "thislist = [\"apple\", \"banana\", \"cherry\"]\n",
    "\n",
    "thislist.append(\"orange\")\n",
    "\n",
    "print(thislist)\n"
   ]
  },
  {
   "cell_type": "markdown",
   "id": "bb370d05-403d-4cbe-9380-592b9b1a4b9c",
   "metadata": {},
   "source": [
    "Add List Items (2)"
   ]
  },
  {
   "cell_type": "code",
   "execution_count": 85,
   "id": "e8bfe799-f76c-474a-8875-428477bea81b",
   "metadata": {},
   "outputs": [
    {
     "name": "stdout",
     "output_type": "stream",
     "text": [
      "['apple', 'orange', 'banana', 'cherry']\n"
     ]
    }
   ],
   "source": [
    "thislist = [\"apple\", \"banana\", \"cherry\"]\n",
    "thislist.insert(1, \"orange\")\n",
    "print(thislist)"
   ]
  },
  {
   "cell_type": "markdown",
   "id": "581bb330-5fb7-48a1-a9a6-23a133dd8ad3",
   "metadata": {},
   "source": [
    "Add List Items (3)"
   ]
  },
  {
   "cell_type": "code",
   "execution_count": 87,
   "id": "f01395d0-3604-4e1d-8671-d2529c562120",
   "metadata": {},
   "outputs": [
    {
     "name": "stdout",
     "output_type": "stream",
     "text": [
      "['apple', 'banana', 'cherry', 'mango', 'pineapple', 'papaya']\n"
     ]
    }
   ],
   "source": [
    "thislist = [\"apple\", \"banana\", \"cherry\"]\n",
    "tropical = [\"mango\", \"pineapple\", \"papaya\"]\n",
    "thislist.extend(tropical)\n",
    "print(thislist)"
   ]
  },
  {
   "cell_type": "markdown",
   "id": "a4c00e37-c94d-4a1c-aa7f-1aef3e50738e",
   "metadata": {},
   "source": [
    "Add List Items (4)"
   ]
  },
  {
   "cell_type": "code",
   "execution_count": 89,
   "id": "b73db1a3-63c3-4eb2-addc-db7a7065b35c",
   "metadata": {},
   "outputs": [
    {
     "name": "stdout",
     "output_type": "stream",
     "text": [
      "['apple', 'banana', 'cherry', 'kiwi', 'orange']\n"
     ]
    }
   ],
   "source": [
    "thislist = [\"apple\", \"banana\", \"cherry\"]\n",
    "thistuple = (\"kiwi\", \"orange\")\n",
    "thislist.extend(thistuple)\n",
    "print(thislist)"
   ]
  },
  {
   "cell_type": "markdown",
   "id": "5aa82049-4a35-43ab-9733-edf483f3eeec",
   "metadata": {},
   "source": [
    "Remove List Items (1)"
   ]
  },
  {
   "cell_type": "code",
   "execution_count": 98,
   "id": "aba9d505-dfa6-415a-bf90-84d281caf5d5",
   "metadata": {},
   "outputs": [
    {
     "name": "stdout",
     "output_type": "stream",
     "text": [
      "['apple', 'cherry']\n"
     ]
    }
   ],
   "source": [
    "thislist = [\"apple\", \"banana\", \"cherry\"]\n",
    "thislist.remove(\"banana\")\n",
    "print(thislist)"
   ]
  },
  {
   "cell_type": "markdown",
   "id": "9c6f1b92-6ae2-44ad-95fa-0c3ab2b0f223",
   "metadata": {},
   "source": [
    "Remove List Items (2)"
   ]
  },
  {
   "cell_type": "code",
   "execution_count": 100,
   "id": "93b077ae-e9d6-4b4b-bdf8-4b5e80c3e5ae",
   "metadata": {},
   "outputs": [
    {
     "name": "stdout",
     "output_type": "stream",
     "text": [
      "['apple', 'cherry', 'banana', 'kiwi']\n"
     ]
    }
   ],
   "source": [
    "thislist = [\"apple\", \"banana\", \"cherry\", \"banana\", \"kiwi\"]\n",
    "thislist.remove(\"banana\")\n",
    "print(thislist)"
   ]
  },
  {
   "cell_type": "markdown",
   "id": "760441aa-c995-446b-97f8-1dc6d351c802",
   "metadata": {},
   "source": [
    "Remove List Items (3)"
   ]
  },
  {
   "cell_type": "code",
   "execution_count": 102,
   "id": "6161b417-1f07-42e4-b2ae-7565559ff6a2",
   "metadata": {},
   "outputs": [
    {
     "name": "stdout",
     "output_type": "stream",
     "text": [
      "['apple', 'cherry']\n"
     ]
    }
   ],
   "source": [
    "thislist = [\"apple\", \"banana\", \"cherry\"]\n",
    "thislist.pop(1)\n",
    "print(thislist)"
   ]
  },
  {
   "cell_type": "markdown",
   "id": "29d3975f-3fa4-4d7a-b746-173af634c9d2",
   "metadata": {},
   "source": [
    "Remove List Items (4)"
   ]
  },
  {
   "cell_type": "code",
   "execution_count": 104,
   "id": "2c79306c-1850-4a77-879d-016f6824e484",
   "metadata": {},
   "outputs": [
    {
     "name": "stdout",
     "output_type": "stream",
     "text": [
      "['apple', 'banana']\n"
     ]
    }
   ],
   "source": [
    "thislist = [\"apple\", \"banana\", \"cherry\"]\n",
    "thislist.pop()\n",
    "print(thislist)"
   ]
  },
  {
   "cell_type": "markdown",
   "id": "9fb7561e-6457-40fb-aab6-ec16b72a0673",
   "metadata": {},
   "source": [
    "Remove List Items (5)\n"
   ]
  },
  {
   "cell_type": "code",
   "execution_count": 106,
   "id": "2ef9e73f-ffe3-4d01-90cf-6a6c40205e5f",
   "metadata": {},
   "outputs": [
    {
     "name": "stdout",
     "output_type": "stream",
     "text": [
      "['banana', 'cherry']\n"
     ]
    }
   ],
   "source": [
    "thislist = [\"apple\", \"banana\", \"cherry\"]\n",
    "del thislist[0]\n",
    "print(thislist)"
   ]
  },
  {
   "cell_type": "markdown",
   "id": "c1fa062f-f294-4b14-b278-52f213cccc46",
   "metadata": {},
   "source": [
    "Remove List Items (6)"
   ]
  },
  {
   "cell_type": "code",
   "execution_count": 112,
   "id": "0783675f-f21d-4ddb-814b-31e14e0f41d0",
   "metadata": {},
   "outputs": [],
   "source": [
    "thislist = [\"apple\", \"banana\", \"cherry\"]\n",
    "del thislist"
   ]
  },
  {
   "cell_type": "markdown",
   "id": "45cc8a47-7b53-4e85-b922-dd06d103ddb5",
   "metadata": {},
   "source": [
    "Remove List Items (7)"
   ]
  },
  {
   "cell_type": "code",
   "execution_count": 110,
   "id": "3496a6bb-30e6-47ea-a2df-e17525093f1d",
   "metadata": {},
   "outputs": [
    {
     "name": "stdout",
     "output_type": "stream",
     "text": [
      "[]\n"
     ]
    }
   ],
   "source": [
    "thislist = [\"apple\", \"banana\", \"cherry\"]\n",
    "thislist.clear()\n",
    "print(thislist)"
   ]
  },
  {
   "cell_type": "markdown",
   "id": "3484eef7-7123-4633-a57a-6e9363ac356e",
   "metadata": {},
   "source": [
    "Loop Lists (1)"
   ]
  },
  {
   "cell_type": "code",
   "execution_count": 118,
   "id": "d367e3cd-692f-4fa0-ab80-627185c5c38e",
   "metadata": {},
   "outputs": [
    {
     "name": "stdout",
     "output_type": "stream",
     "text": [
      "apple\n",
      "banana\n",
      "cherry\n"
     ]
    }
   ],
   "source": [
    "thislist = [\"apple\", \"banana\", \"cherry\"]\n",
    "for x in thislist:\n",
    "  print(x)"
   ]
  },
  {
   "cell_type": "markdown",
   "id": "7232539d-361a-4f43-8ba5-4edabbbd14c2",
   "metadata": {},
   "source": [
    "Loop Lists (2)"
   ]
  },
  {
   "cell_type": "code",
   "execution_count": 120,
   "id": "f06f64f4-3820-4623-b748-c81411ddb24b",
   "metadata": {},
   "outputs": [
    {
     "name": "stdout",
     "output_type": "stream",
     "text": [
      "apple\n",
      "banana\n",
      "cherry\n"
     ]
    }
   ],
   "source": [
    "thislist = [\"apple\", \"banana\", \"cherry\"]\n",
    "for i in range(len(thislist)):\n",
    "  print(thislist[i])"
   ]
  },
  {
   "cell_type": "markdown",
   "id": "f6d9f323-c93a-43fa-9640-021be8c2942c",
   "metadata": {},
   "source": [
    "Loop Lists (3)"
   ]
  },
  {
   "cell_type": "code",
   "execution_count": 122,
   "id": "8a987192-b86b-417a-aa22-3770fd54f96f",
   "metadata": {},
   "outputs": [
    {
     "name": "stdout",
     "output_type": "stream",
     "text": [
      "apple\n",
      "banana\n",
      "cherry\n"
     ]
    }
   ],
   "source": [
    "thislist = [\"apple\", \"banana\", \"cherry\"]\n",
    "i = 0\n",
    "while i < len(thislist):\n",
    "  print(thislist[i])\n",
    "  i = i + 1"
   ]
  },
  {
   "cell_type": "markdown",
   "id": "48fba993-8628-41b8-9bfc-fcbefdb34d40",
   "metadata": {},
   "source": [
    "Loop Lists (4)"
   ]
  },
  {
   "cell_type": "code",
   "execution_count": 124,
   "id": "9cb20dfe-4b38-4eda-bd11-ab6c326c8777",
   "metadata": {},
   "outputs": [
    {
     "name": "stdout",
     "output_type": "stream",
     "text": [
      "apple\n",
      "banana\n",
      "cherry\n"
     ]
    },
    {
     "data": {
      "text/plain": [
       "[None, None, None]"
      ]
     },
     "execution_count": 124,
     "metadata": {},
     "output_type": "execute_result"
    }
   ],
   "source": [
    "thislist = [\"apple\", \"banana\", \"cherry\"]\n",
    "[print(x) for x in thislist]"
   ]
  },
  {
   "cell_type": "markdown",
   "id": "4c3bc6e6-70ce-47d6-8f61-0bca078ef17f",
   "metadata": {},
   "source": [
    "List Comprehension (1)"
   ]
  },
  {
   "cell_type": "code",
   "execution_count": 126,
   "id": "8e3232a7-c581-4214-9292-8ac0d76f160d",
   "metadata": {},
   "outputs": [
    {
     "name": "stdout",
     "output_type": "stream",
     "text": [
      "['apple', 'banana', 'mango']\n"
     ]
    }
   ],
   "source": [
    "fruits = [\"apple\", \"banana\", \"cherry\", \"kiwi\", \"mango\"]\n",
    "newlist = []\n",
    "\n",
    "for x in fruits:\n",
    "  if \"a\" in x:\n",
    "    newlist.append(x)\n",
    "\n",
    "print(newlist)"
   ]
  },
  {
   "cell_type": "markdown",
   "id": "415a5429-07a2-4825-b985-e369fbe7a94f",
   "metadata": {},
   "source": [
    "List Comprehension (2)"
   ]
  },
  {
   "cell_type": "code",
   "execution_count": 130,
   "id": "b7b3c467-c2f8-4edb-83bf-42152769f7b3",
   "metadata": {},
   "outputs": [
    {
     "name": "stdout",
     "output_type": "stream",
     "text": [
      "['apple', 'banana', 'mango']\n"
     ]
    }
   ],
   "source": [
    "fruits = [\"apple\", \"banana\", \"cherry\", \"kiwi\", \"mango\"]\n",
    "\n",
    "newlist = [x for x in fruits if \"a\" in x]\n",
    "\n",
    "print(newlist)"
   ]
  },
  {
   "cell_type": "markdown",
   "id": "79452574-9429-4f70-a56d-35438da341d9",
   "metadata": {},
   "source": [
    "List Comprehension (3)"
   ]
  },
  {
   "cell_type": "code",
   "execution_count": 134,
   "id": "b25014b9-3cb4-4dec-a612-cdc123de6197",
   "metadata": {},
   "outputs": [
    {
     "name": "stdout",
     "output_type": "stream",
     "text": [
      "['banana', 'cherry', 'kiwi', 'mango']\n"
     ]
    }
   ],
   "source": [
    "fruits = [\"apple\", \"banana\", \"cherry\", \"kiwi\", \"mango\"]\n",
    "\n",
    "newlist = [x for x in fruits if x != \"apple\"]\n",
    "\n",
    "print(newlist)\n"
   ]
  },
  {
   "cell_type": "markdown",
   "id": "c4cb28f4-bd0c-4b83-93f1-5a86d87f1673",
   "metadata": {},
   "source": [
    "List Comprehension (4)"
   ]
  },
  {
   "cell_type": "code",
   "execution_count": 136,
   "id": "b0fd8595-12c0-4e15-856f-52002504a5ba",
   "metadata": {},
   "outputs": [
    {
     "name": "stdout",
     "output_type": "stream",
     "text": [
      "['apple', 'banana', 'cherry', 'kiwi', 'mango']\n"
     ]
    }
   ],
   "source": [
    "fruits = [\"apple\", \"banana\", \"cherry\", \"kiwi\", \"mango\"]\n",
    "\n",
    "newlist = [x for x in fruits]\n",
    "\n",
    "print(newlist)\n"
   ]
  },
  {
   "cell_type": "markdown",
   "id": "38f41dd2-f89e-4974-9be9-663fdd05c868",
   "metadata": {},
   "source": [
    "List Comprehension (5)"
   ]
  },
  {
   "cell_type": "code",
   "execution_count": 138,
   "id": "cabd6c2d-d5de-42a1-be85-dca9628c08f1",
   "metadata": {},
   "outputs": [
    {
     "name": "stdout",
     "output_type": "stream",
     "text": [
      "[0, 1, 2, 3, 4, 5, 6, 7, 8, 9]\n"
     ]
    }
   ],
   "source": [
    "newlist = [x for x in range(10)]\n",
    "\n",
    "print(newlist)\n"
   ]
  },
  {
   "cell_type": "markdown",
   "id": "d93655d1-0a9b-4077-8a3f-e33d39cb3b4a",
   "metadata": {},
   "source": [
    "List Comprehension (6)"
   ]
  },
  {
   "cell_type": "code",
   "execution_count": 142,
   "id": "50b57977-d12d-49da-8096-061bda8745fd",
   "metadata": {},
   "outputs": [
    {
     "name": "stdout",
     "output_type": "stream",
     "text": [
      "[0, 1, 2, 3, 4]\n"
     ]
    }
   ],
   "source": [
    "newlist = [x for x in range(10) if x < 5]\n",
    "\n",
    "print(newlist)\n",
    "\n"
   ]
  },
  {
   "cell_type": "markdown",
   "id": "8f6da284-10de-4cd3-bd8f-9c522437169b",
   "metadata": {},
   "source": [
    "List Comprehension (7)"
   ]
  },
  {
   "cell_type": "code",
   "execution_count": 144,
   "id": "9473c5ba-bf98-43ee-8526-d50d6440e676",
   "metadata": {},
   "outputs": [
    {
     "name": "stdout",
     "output_type": "stream",
     "text": [
      "['APPLE', 'BANANA', 'CHERRY', 'KIWI', 'MANGO']\n"
     ]
    }
   ],
   "source": [
    "fruits = [\"apple\", \"banana\", \"cherry\", \"kiwi\", \"mango\"]\n",
    "\n",
    "newlist = [x.upper() for x in fruits]\n",
    "\n",
    "print(newlist)\n"
   ]
  },
  {
   "cell_type": "markdown",
   "id": "a7028096-7883-442e-8956-a2cbfaede2ec",
   "metadata": {},
   "source": [
    "List Comprehension (8)"
   ]
  },
  {
   "cell_type": "code",
   "execution_count": 146,
   "id": "cdec377b-9f67-4203-a395-46bf63ee88e7",
   "metadata": {},
   "outputs": [
    {
     "name": "stdout",
     "output_type": "stream",
     "text": [
      "['hello', 'hello', 'hello', 'hello', 'hello']\n"
     ]
    }
   ],
   "source": [
    "fruits = [\"apple\", \"banana\", \"cherry\", \"kiwi\", \"mango\"]\n",
    "\n",
    "newlist = ['hello' for x in fruits]\n",
    "\n",
    "print(newlist)\n"
   ]
  },
  {
   "cell_type": "markdown",
   "id": "f2da9c14-ae6d-4f84-8572-9b069aeade15",
   "metadata": {},
   "source": [
    "List Comprehension (9)"
   ]
  },
  {
   "cell_type": "code",
   "execution_count": 148,
   "id": "0115289f-ad4c-47e8-b61e-241304541f50",
   "metadata": {},
   "outputs": [
    {
     "name": "stdout",
     "output_type": "stream",
     "text": [
      "['apple', 'orange', 'cherry', 'kiwi', 'mango']\n"
     ]
    }
   ],
   "source": [
    "fruits = [\"apple\", \"banana\", \"cherry\", \"kiwi\", \"mango\"]\n",
    "\n",
    "newlist = [x if x != \"banana\" else \"orange\" for x in fruits]\n",
    "\n",
    "print(newlist)\n"
   ]
  },
  {
   "cell_type": "markdown",
   "id": "e5a564a8-cc40-4f37-9716-65f2bd9084ca",
   "metadata": {},
   "source": [
    "Sort Lists (1)"
   ]
  },
  {
   "cell_type": "code",
   "execution_count": 19,
   "id": "5fd06ce7-14eb-44ad-ad38-12fe1a859885",
   "metadata": {},
   "outputs": [
    {
     "name": "stdout",
     "output_type": "stream",
     "text": [
      "['banana', 'kiwi', 'mango', 'orange', 'pineapple']\n"
     ]
    }
   ],
   "source": [
    "thislist = [\"orange\", \"mango\", \"kiwi\", \"pineapple\", \"banana\"]\n",
    "thislist.sort()\n",
    "print(thislist)"
   ]
  },
  {
   "cell_type": "markdown",
   "id": "fb735e83-356d-4c63-8630-6fbeae19ef19",
   "metadata": {},
   "source": [
    "Sort Lists (2)"
   ]
  },
  {
   "cell_type": "code",
   "execution_count": 21,
   "id": "8f4a8d86-ed5c-44b2-a2d6-378976dbaee0",
   "metadata": {},
   "outputs": [
    {
     "name": "stdout",
     "output_type": "stream",
     "text": [
      "[23, 50, 65, 82, 100]\n"
     ]
    }
   ],
   "source": [
    "thislist = [100, 50, 65, 82, 23]\n",
    "thislist.sort()\n",
    "print(thislist)"
   ]
  },
  {
   "cell_type": "markdown",
   "id": "58b660ce-47fb-440f-826a-8df36c39b62d",
   "metadata": {},
   "source": [
    "Sort Lists (3)"
   ]
  },
  {
   "cell_type": "code",
   "execution_count": 23,
   "id": "dcb9596a-441c-47a6-8863-c90362fca132",
   "metadata": {},
   "outputs": [
    {
     "name": "stdout",
     "output_type": "stream",
     "text": [
      "['pineapple', 'orange', 'mango', 'kiwi', 'banana']\n"
     ]
    }
   ],
   "source": [
    "thislist = [\"orange\", \"mango\", \"kiwi\", \"pineapple\", \"banana\"]\n",
    "thislist.sort(reverse = True)\n",
    "print(thislist)"
   ]
  },
  {
   "cell_type": "markdown",
   "id": "12e202cc-e0ab-4709-897e-af03b16f8143",
   "metadata": {},
   "source": [
    "Sort Lists (4)"
   ]
  },
  {
   "cell_type": "code",
   "execution_count": 25,
   "id": "5a4e1a3e-6963-4755-8d09-700648ac0583",
   "metadata": {},
   "outputs": [
    {
     "name": "stdout",
     "output_type": "stream",
     "text": [
      "[100, 82, 65, 50, 23]\n"
     ]
    }
   ],
   "source": [
    "thislist = [100, 50, 65, 82, 23]\n",
    "thislist.sort(reverse = True)\n",
    "print(thislist)"
   ]
  },
  {
   "cell_type": "markdown",
   "id": "702595dc-3aa0-4d1e-8d7d-c372ed43099f",
   "metadata": {},
   "source": [
    "Sort Lists (5)"
   ]
  },
  {
   "cell_type": "code",
   "execution_count": 27,
   "id": "c937b076-0ebf-47d2-bcc3-cebaf1993bc7",
   "metadata": {},
   "outputs": [
    {
     "name": "stdout",
     "output_type": "stream",
     "text": [
      "[50, 65, 23, 82, 100]\n"
     ]
    }
   ],
   "source": [
    "def myfunc(n):\n",
    "  return abs(n - 50)\n",
    "\n",
    "thislist = [100, 50, 65, 82, 23]\n",
    "thislist.sort(key = myfunc)\n",
    "print(thislist)"
   ]
  },
  {
   "cell_type": "markdown",
   "id": "03c7c075-0f40-4766-bd11-f88f8f750936",
   "metadata": {},
   "source": [
    "Sort Lists (6)"
   ]
  },
  {
   "cell_type": "code",
   "execution_count": 29,
   "id": "5167e307-8ff0-4765-b043-41ca6fb8a2e7",
   "metadata": {},
   "outputs": [
    {
     "name": "stdout",
     "output_type": "stream",
     "text": [
      "['Kiwi', 'Orange', 'banana', 'cherry']\n"
     ]
    }
   ],
   "source": [
    "thislist = [\"banana\", \"Orange\", \"Kiwi\", \"cherry\"]\n",
    "thislist.sort()\n",
    "print(thislist)"
   ]
  },
  {
   "cell_type": "markdown",
   "id": "21ba51d0-4bb8-4592-a877-298917e7547e",
   "metadata": {},
   "source": [
    "Sort Lists (7)"
   ]
  },
  {
   "cell_type": "code",
   "execution_count": 31,
   "id": "ec196c37-85d8-40e6-824b-54cca1e1c542",
   "metadata": {},
   "outputs": [
    {
     "name": "stdout",
     "output_type": "stream",
     "text": [
      "['banana', 'cherry', 'Kiwi', 'Orange']\n"
     ]
    }
   ],
   "source": [
    "thislist = [\"banana\", \"Orange\", \"Kiwi\", \"cherry\"]\n",
    "thislist.sort(key = str.lower)\n",
    "print(thislist)"
   ]
  },
  {
   "cell_type": "markdown",
   "id": "daa08482-7844-4cec-9f54-3cc5a35eee6c",
   "metadata": {},
   "source": [
    "Sort Lists (8)"
   ]
  },
  {
   "cell_type": "code",
   "execution_count": 33,
   "id": "5ccd13de-21ca-4071-85b0-622bc91afed9",
   "metadata": {},
   "outputs": [
    {
     "name": "stdout",
     "output_type": "stream",
     "text": [
      "['cherry', 'Kiwi', 'Orange', 'banana']\n"
     ]
    }
   ],
   "source": [
    "thislist = [\"banana\", \"Orange\", \"Kiwi\", \"cherry\"]\n",
    "thislist.reverse()\n",
    "print(thislist)"
   ]
  },
  {
   "cell_type": "markdown",
   "id": "130f116f-b64a-4513-9ce6-6069732612ed",
   "metadata": {},
   "source": [
    "Copy Lists (1)"
   ]
  },
  {
   "cell_type": "code",
   "execution_count": 38,
   "id": "0803b38a-a9ba-4e60-a5ce-f809e47a5fc0",
   "metadata": {},
   "outputs": [
    {
     "name": "stdout",
     "output_type": "stream",
     "text": [
      "['apple', 'banana', 'cherry']\n"
     ]
    }
   ],
   "source": [
    "thislist = [\"apple\", \"banana\", \"cherry\"]\n",
    "mylist = thislist.copy()\n",
    "print(mylist)"
   ]
  },
  {
   "cell_type": "markdown",
   "id": "37ddfa20-e640-46c1-96ed-d3d3f5576cfd",
   "metadata": {},
   "source": [
    "Copy Lists (2)"
   ]
  },
  {
   "cell_type": "code",
   "execution_count": 40,
   "id": "578e17b0-3e27-4ef5-81cb-85df07f93c50",
   "metadata": {},
   "outputs": [
    {
     "name": "stdout",
     "output_type": "stream",
     "text": [
      "['apple', 'banana', 'cherry']\n"
     ]
    }
   ],
   "source": [
    "thislist = [\"apple\", \"banana\", \"cherry\"]\n",
    "mylist = list(thislist)\n",
    "print(mylist)"
   ]
  },
  {
   "cell_type": "markdown",
   "id": "87233c21-51c7-4e7b-84e5-5237323c687f",
   "metadata": {},
   "source": [
    "Copy Lists (3)"
   ]
  },
  {
   "cell_type": "code",
   "execution_count": 42,
   "id": "4b6d64a0-9933-4bb7-8a86-b3fce8b116c6",
   "metadata": {},
   "outputs": [
    {
     "name": "stdout",
     "output_type": "stream",
     "text": [
      "['apple', 'banana', 'cherry']\n"
     ]
    }
   ],
   "source": [
    "thislist = [\"apple\", \"banana\", \"cherry\"]\n",
    "mylist = thislist[:]\n",
    "print(mylist)"
   ]
  },
  {
   "cell_type": "markdown",
   "id": "088714ab-92da-48b5-902e-47c0bcea4c1e",
   "metadata": {},
   "source": [
    "Join Lists (1) "
   ]
  },
  {
   "cell_type": "code",
   "execution_count": 47,
   "id": "4ef23289-9269-4e7b-a9e6-e0cd52b47bf4",
   "metadata": {},
   "outputs": [
    {
     "name": "stdout",
     "output_type": "stream",
     "text": [
      "['a', 'b', 'c', 1, 2, 3]\n"
     ]
    }
   ],
   "source": [
    "list1 = [\"a\", \"b\", \"c\"]\n",
    "list2 = [1, 2, 3]\n",
    "\n",
    "list3 = list1 + list2\n",
    "print(list3)"
   ]
  },
  {
   "cell_type": "markdown",
   "id": "644f3d63-5ae2-4cb3-b387-24e5e1b5f81d",
   "metadata": {},
   "source": [
    "Join Lists (2)"
   ]
  },
  {
   "cell_type": "code",
   "execution_count": 50,
   "id": "24c03971-f0b7-4f83-a565-a3abc5c33514",
   "metadata": {},
   "outputs": [
    {
     "name": "stdout",
     "output_type": "stream",
     "text": [
      "['a', 'b', 'c', 1, 2, 3]\n"
     ]
    }
   ],
   "source": [
    "list1 = [\"a\", \"b\" , \"c\"]\n",
    "list2 = [1, 2, 3]\n",
    "\n",
    "for x in list2:\n",
    "  list1.append(x)\n",
    "\n",
    "print(list1)"
   ]
  },
  {
   "cell_type": "markdown",
   "id": "0a62d245-00db-49f2-abbd-4905b173142c",
   "metadata": {},
   "source": [
    "Join Lists (3)"
   ]
  },
  {
   "cell_type": "code",
   "execution_count": 52,
   "id": "04e1a0f4-560d-4ee8-906d-d801464f8fcc",
   "metadata": {},
   "outputs": [
    {
     "name": "stdout",
     "output_type": "stream",
     "text": [
      "['a', 'b', 'c', 1, 2, 3]\n"
     ]
    }
   ],
   "source": [
    "list1 = [\"a\", \"b\" , \"c\"]\n",
    "list2 = [1, 2, 3]\n",
    "\n",
    "list1.extend(list2)\n",
    "print(list1)"
   ]
  },
  {
   "cell_type": "markdown",
   "id": "d1b0d5d9-8810-4d20-aadc-8d54f40fc503",
   "metadata": {},
   "source": [
    "List Methods "
   ]
  },
  {
   "cell_type": "code",
   "execution_count": null,
   "id": "c25c89d4-d5e5-4444-b377-8360e2eb17bc",
   "metadata": {},
   "outputs": [],
   "source": [
    "Method\tDescription\n",
    "append()\tAdds an element at the end of the list\n",
    "clear()\t    Removes all the elements from the list\n",
    "copy()\t    Returns a copy of the list\n",
    "count()\t    Returns the number of elements with the specified value\n",
    "extend()\tAdd the elements of a list (or any iterable), to the end of the current list\n",
    "index()\t    Returns the index of the first element with the specified value\n",
    "insert()\tAdds an element at the specified position\n",
    "pop()\t    Removes the element at the specified position\n",
    "remove()\tRemoves the item with the specified value\n",
    "reverse()\tReverses the order of the list\n",
    "sort()\t    Sorts the list"
   ]
  },
  {
   "cell_type": "markdown",
   "id": "44717789-93e8-43c0-ab71-aea723746d47",
   "metadata": {},
   "source": [
    "Python Tuples (1)\n"
   ]
  },
  {
   "cell_type": "code",
   "execution_count": 66,
   "id": "be1b647c-c0d0-412a-aac9-63451a98efa2",
   "metadata": {},
   "outputs": [
    {
     "name": "stdout",
     "output_type": "stream",
     "text": [
      "('apple', 'banana', 'cherry')\n"
     ]
    }
   ],
   "source": [
    "thistuple = (\"apple\", \"banana\", \"cherry\")\n",
    "print(thistuple)"
   ]
  },
  {
   "cell_type": "markdown",
   "id": "842708e1-013d-4682-8383-300a3ba659f9",
   "metadata": {},
   "source": [
    "Python Tuples (2)"
   ]
  },
  {
   "cell_type": "code",
   "execution_count": 68,
   "id": "a9250121-7721-403b-a08d-5e3dd965b7a8",
   "metadata": {},
   "outputs": [
    {
     "name": "stdout",
     "output_type": "stream",
     "text": [
      "('apple', 'banana', 'cherry', 'apple', 'cherry')\n"
     ]
    }
   ],
   "source": [
    "thistuple = (\"apple\", \"banana\", \"cherry\", \"apple\", \"cherry\")\n",
    "print(thistuple)"
   ]
  },
  {
   "cell_type": "markdown",
   "id": "299f6a60-5e4f-4c54-bb7e-d6c97de9cee9",
   "metadata": {},
   "source": [
    "Python Tuples (3)"
   ]
  },
  {
   "cell_type": "code",
   "execution_count": 70,
   "id": "db4e16d8-f664-444f-a450-a89c547dce94",
   "metadata": {},
   "outputs": [
    {
     "name": "stdout",
     "output_type": "stream",
     "text": [
      "3\n"
     ]
    }
   ],
   "source": [
    "thistuple = (\"apple\", \"banana\", \"cherry\")\n",
    "print(len(thistuple))"
   ]
  },
  {
   "cell_type": "markdown",
   "id": "9a96bd73-2bbf-424f-9137-28e268bf0d53",
   "metadata": {},
   "source": [
    "Python Tuples (4)"
   ]
  },
  {
   "cell_type": "code",
   "execution_count": 76,
   "id": "4df5350f-0dfc-43b6-9b25-745708e17e66",
   "metadata": {},
   "outputs": [
    {
     "name": "stdout",
     "output_type": "stream",
     "text": [
      "<class 'tuple'>\n",
      "<class 'str'>\n"
     ]
    }
   ],
   "source": [
    "thistuple = (\"apple\",)\n",
    "print(type(thistuple))\n",
    "\n",
    "#NOT a tuple\n",
    "thistuple = (\"apple\")\n",
    "print(type(thistuple))\n",
    " "
   ]
  },
  {
   "cell_type": "markdown",
   "id": "8e0583ab-6d29-4afd-ac7a-3e4e7f722fa3",
   "metadata": {},
   "source": [
    "Python Tuples (5)"
   ]
  },
  {
   "cell_type": "code",
   "execution_count": 84,
   "id": "8ed00d76-5414-4635-b55c-4a966e3fef0c",
   "metadata": {},
   "outputs": [
    {
     "name": "stdout",
     "output_type": "stream",
     "text": [
      "('apple', 'banana', 'cherry')\n",
      "(1, 5, 7, 9, 3)\n",
      "(True, False, False)\n"
     ]
    }
   ],
   "source": [
    "tuple1 = (\"apple\", \"banana\", \"cherry\")\n",
    "tuple2 = (1, 5, 7, 9, 3)\n",
    "tuple3 = (True, False, False)\n",
    "\n",
    "print(tuple1)\n",
    "print(tuple2)\n",
    "print(tuple3)\n"
   ]
  },
  {
   "cell_type": "markdown",
   "id": "102cae5b-0b72-46dc-ae7b-7e5659354c9d",
   "metadata": {},
   "source": [
    "Python Tuples (6)"
   ]
  },
  {
   "cell_type": "code",
   "execution_count": 88,
   "id": "774debc5-f289-4059-901c-019c3f3e99ce",
   "metadata": {},
   "outputs": [
    {
     "name": "stdout",
     "output_type": "stream",
     "text": [
      "('abc', 34, True, 40, 'male')\n"
     ]
    }
   ],
   "source": [
    "tuple1 = (\"abc\", 34, True, 40, \"male\")\n",
    "\n",
    "print(tuple1)\n"
   ]
  },
  {
   "cell_type": "markdown",
   "id": "cd103131-ea01-4a34-85fc-3fa83aeb7f6d",
   "metadata": {},
   "source": [
    "Python Tuples (7)"
   ]
  },
  {
   "cell_type": "code",
   "execution_count": 90,
   "id": "23fe964d-d71c-4626-8bc0-62a6e68f2205",
   "metadata": {},
   "outputs": [
    {
     "name": "stdout",
     "output_type": "stream",
     "text": [
      "<class 'tuple'>\n"
     ]
    }
   ],
   "source": [
    "mytuple = (\"apple\", \"banana\", \"cherry\")\n",
    "print(type(mytuple))"
   ]
  },
  {
   "cell_type": "markdown",
   "id": "ff512e6a-153d-4f38-9aea-9a78ccc4ca45",
   "metadata": {},
   "source": [
    "Python Tuples (8)"
   ]
  },
  {
   "cell_type": "code",
   "execution_count": 92,
   "id": "96b5e43e-1855-4542-ab40-12db1e4562a8",
   "metadata": {},
   "outputs": [
    {
     "name": "stdout",
     "output_type": "stream",
     "text": [
      "('apple', 'banana', 'cherry')\n"
     ]
    }
   ],
   "source": [
    "thistuple = tuple((\"apple\", \"banana\", \"cherry\")) # note the double round-brackets\n",
    "print(thistuple)"
   ]
  },
  {
   "cell_type": "markdown",
   "id": "1b1e23aa-0e15-4e7c-8c58-e0f7721450bf",
   "metadata": {},
   "source": [
    "Python Tuples (9)"
   ]
  },
  {
   "cell_type": "markdown",
   "id": "96529c40-3121-45ae-93c7-f448cf6bb3b6",
   "metadata": {},
   "source": [
    "Access Tuple Items (1)"
   ]
  },
  {
   "cell_type": "code",
   "execution_count": 101,
   "id": "3e108bff-dffa-48b8-9e0a-9283ee7a4aad",
   "metadata": {},
   "outputs": [
    {
     "name": "stdout",
     "output_type": "stream",
     "text": [
      "banana\n"
     ]
    }
   ],
   "source": [
    "thistuple = (\"apple\", \"banana\", \"cherry\")\n",
    "print(thistuple[1])"
   ]
  },
  {
   "cell_type": "markdown",
   "id": "2e1d22f5-b33a-4dc3-9d79-200d2f8bc034",
   "metadata": {},
   "source": [
    "Access Tuple Items (2)"
   ]
  },
  {
   "cell_type": "code",
   "execution_count": 103,
   "id": "102bcf30-63de-4dd5-aef2-c40a37385f7f",
   "metadata": {},
   "outputs": [
    {
     "name": "stdout",
     "output_type": "stream",
     "text": [
      "cherry\n"
     ]
    }
   ],
   "source": [
    "thistuple = (\"apple\", \"banana\", \"cherry\")\n",
    "print(thistuple[-1])"
   ]
  },
  {
   "cell_type": "markdown",
   "id": "b8bea328-4bf1-4c52-8036-de87a4d4300d",
   "metadata": {},
   "source": [
    "Access Tuple Items (3)\n"
   ]
  },
  {
   "cell_type": "code",
   "execution_count": 105,
   "id": "2d29050d-5921-48f5-8ffe-20b98ef47187",
   "metadata": {},
   "outputs": [
    {
     "name": "stdout",
     "output_type": "stream",
     "text": [
      "('cherry', 'orange', 'kiwi')\n"
     ]
    }
   ],
   "source": [
    "thistuple = (\"apple\", \"banana\", \"cherry\", \"orange\", \"kiwi\", \"melon\", \"mango\")\n",
    "print(thistuple[2:5])"
   ]
  },
  {
   "cell_type": "markdown",
   "id": "91c0d202-d238-4cac-93cc-1efe57066526",
   "metadata": {},
   "source": [
    "Access Tuple Items (4)"
   ]
  },
  {
   "cell_type": "code",
   "execution_count": 107,
   "id": "a5aaf5e6-cb3d-4011-bc42-ca82c52921fb",
   "metadata": {},
   "outputs": [
    {
     "name": "stdout",
     "output_type": "stream",
     "text": [
      "('apple', 'banana', 'cherry', 'orange')\n"
     ]
    }
   ],
   "source": [
    "thistuple = (\"apple\", \"banana\", \"cherry\", \"orange\", \"kiwi\", \"melon\", \"mango\")\n",
    "print(thistuple[:4])"
   ]
  },
  {
   "cell_type": "markdown",
   "id": "4f454cd2-6a9d-4096-bca6-1c0ce6a0e0dd",
   "metadata": {},
   "source": [
    "Access Tuple Items (5)"
   ]
  },
  {
   "cell_type": "code",
   "execution_count": 109,
   "id": "bee41f05-f5a6-471a-890e-62b233e693f5",
   "metadata": {},
   "outputs": [
    {
     "name": "stdout",
     "output_type": "stream",
     "text": [
      "('cherry', 'orange', 'kiwi', 'melon', 'mango')\n"
     ]
    }
   ],
   "source": [
    "thistuple = (\"apple\", \"banana\", \"cherry\", \"orange\", \"kiwi\", \"melon\", \"mango\")\n",
    "print(thistuple[2:])"
   ]
  },
  {
   "cell_type": "markdown",
   "id": "02bd81b4-2a01-43b2-8e8d-8aa551851c4b",
   "metadata": {},
   "source": [
    "Access Tuple Items (6)"
   ]
  },
  {
   "cell_type": "code",
   "execution_count": 111,
   "id": "52199181-1fe1-490b-a147-dc24dac06c0d",
   "metadata": {},
   "outputs": [
    {
     "name": "stdout",
     "output_type": "stream",
     "text": [
      "('orange', 'kiwi', 'melon')\n"
     ]
    }
   ],
   "source": [
    "thistuple = (\"apple\", \"banana\", \"cherry\", \"orange\", \"kiwi\", \"melon\", \"mango\")\n",
    "print(thistuple[-4:-1])"
   ]
  },
  {
   "cell_type": "markdown",
   "id": "158ba8eb-cabc-41ac-9f85-f90a94041821",
   "metadata": {},
   "source": [
    "Access Tuple Items (7) \n",
    "\n"
   ]
  },
  {
   "cell_type": "code",
   "execution_count": 113,
   "id": "3964b492-3beb-4f7c-b15f-80c516cb2ec3",
   "metadata": {},
   "outputs": [
    {
     "name": "stdout",
     "output_type": "stream",
     "text": [
      "Yes, 'apple' is in the fruits tuple\n"
     ]
    }
   ],
   "source": [
    "thistuple = (\"apple\", \"banana\", \"cherry\")\n",
    "if \"apple\" in thistuple:\n",
    "  print(\"Yes, 'apple' is in the fruits tuple\")"
   ]
  },
  {
   "cell_type": "markdown",
   "id": "db09ceb0-dd89-42e1-965b-99e9b581bf27",
   "metadata": {},
   "source": [
    "Update Tuples (1)"
   ]
  },
  {
   "cell_type": "code",
   "execution_count": 116,
   "id": "9bc8891a-cdd3-4158-9531-9e5adeb95421",
   "metadata": {},
   "outputs": [
    {
     "name": "stdout",
     "output_type": "stream",
     "text": [
      "('apple', 'kiwi', 'cherry')\n"
     ]
    }
   ],
   "source": [
    "x = (\"apple\", \"banana\", \"cherry\")\n",
    "y = list(x)\n",
    "y[1] = \"kiwi\"\n",
    "x = tuple(y)\n",
    "\n",
    "print(x)"
   ]
  },
  {
   "cell_type": "markdown",
   "id": "a65cf63c-f9c1-4115-a8f1-1d1e20891486",
   "metadata": {},
   "source": [
    "Update Tuples (2)"
   ]
  },
  {
   "cell_type": "code",
   "execution_count": 123,
   "id": "2348e4af-b82d-464b-a330-778732dcd433",
   "metadata": {},
   "outputs": [
    {
     "name": "stdout",
     "output_type": "stream",
     "text": [
      "('apple', 'banana', 'cherry', 'orange')\n"
     ]
    }
   ],
   "source": [
    "thistuple = (\"apple\", \"banana\", \"cherry\")\n",
    "y = list(thistuple)\n",
    "y.append(\"orange\")\n",
    "thistuple = tuple(y)\n",
    "\n",
    "print(thistuple)\n"
   ]
  },
  {
   "cell_type": "markdown",
   "id": "3ad3c6c6-2489-4d15-9579-760f3c228d84",
   "metadata": {},
   "source": [
    "Update Tuples (3)"
   ]
  },
  {
   "cell_type": "markdown",
   "id": "35b833ea-5266-4b0d-8789-06d97de447a6",
   "metadata": {},
   "source": [
    "thistuple = (\"apple\", \"banana\", \"cherry\")\n",
    "y = (\"orange\",)\n",
    "thistuple += y\n",
    "\n",
    "print(thistuple)"
   ]
  },
  {
   "cell_type": "markdown",
   "id": "f9610a4c-81a1-4e87-8e88-3df3c4ca107b",
   "metadata": {},
   "source": [
    "Update Tuples (4)"
   ]
  },
  {
   "cell_type": "code",
   "execution_count": 133,
   "id": "4cec2deb-9527-4693-98dd-6a5f4e4b44f6",
   "metadata": {},
   "outputs": [
    {
     "name": "stdout",
     "output_type": "stream",
     "text": [
      "('banana', 'cherry')\n"
     ]
    }
   ],
   "source": [
    "thistuple = (\"apple\", \"banana\", \"cherry\")\n",
    "y = list(thistuple)\n",
    "y.remove(\"apple\")\n",
    "thistuple = tuple(y)\n",
    "\n",
    "print(thistuple)\n"
   ]
  },
  {
   "cell_type": "markdown",
   "id": "a4003561-321b-4154-8610-535c6bb7e3c8",
   "metadata": {},
   "source": [
    "Update Tuples (5)"
   ]
  },
  {
   "cell_type": "markdown",
   "id": "c26dde2f-e5fe-4eff-ac85-6091674d4e46",
   "metadata": {},
   "source": [
    "thistuple = (\"apple\", \"banana\", \"cherry\")\n",
    "del thistuple\n",
    "print(thistuple) #this will raise an error because the tuple no longer exists\n"
   ]
  },
  {
   "cell_type": "markdown",
   "id": "08b28bc4-14b6-4719-80c5-c1a73d650037",
   "metadata": {},
   "source": [
    " Unpack Tuples (1)"
   ]
  },
  {
   "cell_type": "code",
   "execution_count": 148,
   "id": "4c983a9f-7450-4372-89c5-e9bc93253534",
   "metadata": {},
   "outputs": [
    {
     "name": "stdout",
     "output_type": "stream",
     "text": [
      "('apple', 'banana', 'cherry')\n"
     ]
    }
   ],
   "source": [
    "fruits = (\"apple\", \"banana\", \"cherry\")\n",
    "\n",
    "print(fruits)\n"
   ]
  },
  {
   "cell_type": "markdown",
   "id": "68dfc789-ad36-4f9e-a3a8-935af2017551",
   "metadata": {},
   "source": [
    " Unpack Tuples (2)"
   ]
  },
  {
   "cell_type": "code",
   "execution_count": 151,
   "id": "b3d6993a-0270-4dd1-9a0b-dfec0ef7cb0f",
   "metadata": {},
   "outputs": [
    {
     "name": "stdout",
     "output_type": "stream",
     "text": [
      "apple\n",
      "banana\n",
      "cherry\n"
     ]
    }
   ],
   "source": [
    "fruits = (\"apple\", \"banana\", \"cherry\")\n",
    "\n",
    "(green, yellow, red) = fruits\n",
    "\n",
    "print(green)\n",
    "print(yellow)\n",
    "print(red)"
   ]
  },
  {
   "cell_type": "markdown",
   "id": "d2cfdcbc-6ffb-49ff-88d8-e44df62ee65f",
   "metadata": {},
   "source": [
    " Unpack Tuples (3)"
   ]
  },
  {
   "cell_type": "code",
   "execution_count": 154,
   "id": "d75f35ef-413c-4707-b9fa-f237118a6fe6",
   "metadata": {},
   "outputs": [
    {
     "name": "stdout",
     "output_type": "stream",
     "text": [
      "apple\n",
      "banana\n",
      "['cherry', 'strawberry', 'raspberry']\n"
     ]
    }
   ],
   "source": [
    "fruits = (\"apple\", \"banana\", \"cherry\", \"strawberry\", \"raspberry\")\n",
    "\n",
    "(green, yellow, *red) = fruits\n",
    "\n",
    "print(green)\n",
    "print(yellow)\n",
    "print(red)"
   ]
  },
  {
   "cell_type": "markdown",
   "id": "c18566de-47e3-4a48-a007-053ab8e901c5",
   "metadata": {},
   "source": [
    " Unpack Tuples (4)"
   ]
  },
  {
   "cell_type": "code",
   "execution_count": 157,
   "id": "273bf3cb-ffcf-444c-9b9f-ec2159229219",
   "metadata": {},
   "outputs": [
    {
     "name": "stdout",
     "output_type": "stream",
     "text": [
      "apple\n",
      "['mango', 'papaya', 'pineapple']\n",
      "cherry\n"
     ]
    }
   ],
   "source": [
    "fruits = (\"apple\", \"mango\", \"papaya\", \"pineapple\", \"cherry\")\n",
    "\n",
    "(green, *tropic, red) = fruits\n",
    "\n",
    "print(green)\n",
    "print(tropic)\n",
    "print(red)"
   ]
  },
  {
   "cell_type": "markdown",
   "id": "89fbf989-0a2c-42ad-b898-330dd01bdcd3",
   "metadata": {},
   "source": [
    "Loop Tuples (1)"
   ]
  },
  {
   "cell_type": "code",
   "execution_count": 161,
   "id": "51e5e480-2fbc-496d-a03d-becba308bed1",
   "metadata": {},
   "outputs": [
    {
     "name": "stdout",
     "output_type": "stream",
     "text": [
      "apple\n",
      "banana\n",
      "cherry\n"
     ]
    }
   ],
   "source": [
    "thistuple = (\"apple\", \"banana\", \"cherry\")\n",
    "for x in thistuple:\n",
    "  print(x)"
   ]
  },
  {
   "cell_type": "markdown",
   "id": "2d2c8be9-ba58-4d37-bdde-fd78d0bba2db",
   "metadata": {},
   "source": [
    "Loop Tuples (2)"
   ]
  },
  {
   "cell_type": "code",
   "execution_count": 163,
   "id": "0a883e6e-bf7e-4681-b1bc-25e9aef8a825",
   "metadata": {},
   "outputs": [
    {
     "name": "stdout",
     "output_type": "stream",
     "text": [
      "apple\n",
      "banana\n",
      "cherry\n"
     ]
    }
   ],
   "source": [
    "thistuple = (\"apple\", \"banana\", \"cherry\")\n",
    "for i in range(len(thistuple)):\n",
    "  print(thistuple[i])"
   ]
  },
  {
   "cell_type": "markdown",
   "id": "15e94b93-0627-4431-9c2e-cfb2810552c2",
   "metadata": {},
   "source": [
    "Loop Tuples (3)"
   ]
  },
  {
   "cell_type": "code",
   "execution_count": 165,
   "id": "508605f2-6d75-4258-8c66-0b4adafa55d2",
   "metadata": {},
   "outputs": [
    {
     "name": "stdout",
     "output_type": "stream",
     "text": [
      "apple\n",
      "banana\n",
      "cherry\n"
     ]
    }
   ],
   "source": [
    "thistuple = (\"apple\", \"banana\", \"cherry\")\n",
    "i = 0\n",
    "while i < len(thistuple):\n",
    "  print(thistuple[i])\n",
    "  i = i + 1"
   ]
  },
  {
   "cell_type": "markdown",
   "id": "4b7709ac-590c-48ff-b411-110b80a44ac4",
   "metadata": {},
   "source": [
    "Join Tuples (1)"
   ]
  },
  {
   "cell_type": "code",
   "execution_count": 170,
   "id": "b1de2fbb-d8d1-447a-b69b-3b251e7677e0",
   "metadata": {},
   "outputs": [
    {
     "name": "stdout",
     "output_type": "stream",
     "text": [
      "('a', 'b', 'c', 1, 2, 3)\n"
     ]
    }
   ],
   "source": [
    "tuple1 = (\"a\", \"b\" , \"c\")\n",
    "tuple2 = (1, 2, 3)\n",
    "\n",
    "tuple3 = tuple1 + tuple2\n",
    "print(tuple3)"
   ]
  },
  {
   "cell_type": "markdown",
   "id": "ec0070ed-9d18-41eb-ae62-3382b9c1c850",
   "metadata": {},
   "source": [
    "Join Tuples (2)"
   ]
  },
  {
   "cell_type": "code",
   "execution_count": 172,
   "id": "cf557303-757a-4cd0-b475-6c8857a7266c",
   "metadata": {},
   "outputs": [
    {
     "name": "stdout",
     "output_type": "stream",
     "text": [
      "('apple', 'banana', 'cherry', 'apple', 'banana', 'cherry')\n"
     ]
    }
   ],
   "source": [
    "fruits = (\"apple\", \"banana\", \"cherry\")\n",
    "mytuple = fruits * 2\n",
    "\n",
    "print(mytuple)"
   ]
  },
  {
   "cell_type": "markdown",
   "id": "80dc11e5-dea3-4876-98d9-8fec793f53ba",
   "metadata": {},
   "source": [
    "Python - Tuple Methods "
   ]
  },
  {
   "cell_type": "code",
   "execution_count": null,
   "id": "0bc9bce3-716e-455f-a04a-529ec20710f5",
   "metadata": {},
   "outputs": [],
   "source": [
    "Method\tDescription\n",
    "count()\tReturns the number of times a specified value occurs in a tuple\n",
    "index()\tSearches the tuple for a specified value and returns the position of where it was found"
   ]
  },
  {
   "cell_type": "markdown",
   "id": "e238b808-bc9e-4d04-b08b-1fb961051fac",
   "metadata": {},
   "source": [
    "Python Sets (1)"
   ]
  },
  {
   "cell_type": "code",
   "execution_count": 176,
   "id": "d01f0bb5-0dd3-469f-854c-ce2ea1358276",
   "metadata": {},
   "outputs": [
    {
     "name": "stdout",
     "output_type": "stream",
     "text": [
      "{'apple', 'banana', 'cherry'}\n"
     ]
    }
   ],
   "source": [
    "thisset = {\"apple\", \"banana\", \"cherry\"}\n",
    "print(thisset)"
   ]
  },
  {
   "cell_type": "markdown",
   "id": "2ada18cd-56a9-4dcb-9ed7-c67cd53b497c",
   "metadata": {},
   "source": [
    "Python Sets (2)"
   ]
  },
  {
   "cell_type": "code",
   "execution_count": 196,
   "id": "40658bf9-faa3-40d1-9681-ae472548c26c",
   "metadata": {},
   "outputs": [
    {
     "name": "stdout",
     "output_type": "stream",
     "text": [
      "{'apple', 'banana', 'cherry'}\n"
     ]
    }
   ],
   "source": [
    "thisset = {\"apple\", \"banana\", \"cherry\", \"apple\"}\n",
    "\n",
    "print(thisset)"
   ]
  },
  {
   "cell_type": "markdown",
   "id": "6ca474da-b390-4d2b-beae-18bb49eadade",
   "metadata": {},
   "source": [
    "Python Sets (3)"
   ]
  },
  {
   "cell_type": "code",
   "execution_count": 190,
   "id": "cb190515-4908-45fc-8901-283bddaacd33",
   "metadata": {},
   "outputs": [
    {
     "name": "stdout",
     "output_type": "stream",
     "text": [
      "{True, 2, 'apple', 'banana', 'cherry'}\n"
     ]
    }
   ],
   "source": [
    "thisset = {\"apple\", \"banana\", \"cherry\", True, 1, 2}\n",
    "\n",
    "print(thisset)"
   ]
  },
  {
   "cell_type": "markdown",
   "id": "f3939ecd-0ea5-4966-8544-8b648db0d2b5",
   "metadata": {},
   "source": [
    "Python Sets (4)"
   ]
  },
  {
   "cell_type": "code",
   "execution_count": 192,
   "id": "126c4f13-7384-4f9f-97a5-237cd1f9313c",
   "metadata": {},
   "outputs": [
    {
     "name": "stdout",
     "output_type": "stream",
     "text": [
      "{False, True, 'apple', 'banana', 'cherry'}\n"
     ]
    }
   ],
   "source": [
    "thisset = {\"apple\", \"banana\", \"cherry\", False, True, 0}\n",
    "\n",
    "print(thisset)"
   ]
  },
  {
   "cell_type": "markdown",
   "id": "0c0e5302-fc00-47b5-8e2a-9b4de473118b",
   "metadata": {},
   "source": [
    "Python Sets (5)"
   ]
  },
  {
   "cell_type": "code",
   "execution_count": 194,
   "id": "7603aa2a-8615-49f6-8ecc-6ae9c15eb3b6",
   "metadata": {},
   "outputs": [
    {
     "name": "stdout",
     "output_type": "stream",
     "text": [
      "3\n"
     ]
    }
   ],
   "source": [
    "thisset = {\"apple\", \"banana\", \"cherry\"}\n",
    "\n",
    "print(len(thisset))"
   ]
  },
  {
   "cell_type": "markdown",
   "id": "a468d499-4c9b-477f-9a38-bd6b1d992b3f",
   "metadata": {},
   "source": [
    "Python Sets (6)"
   ]
  },
  {
   "cell_type": "code",
   "execution_count": null,
   "id": "04fd589b-37c6-485b-95ac-7307f51de106",
   "metadata": {},
   "outputs": [],
   "source": [
    "set1 = {\"apple\", \"banana\", \"cherry\"}\n",
    "set2 = {1, 5, 7, 9, 3}\n",
    "set3 = {True, False, False}"
   ]
  },
  {
   "cell_type": "markdown",
   "id": "fe6b7e2f-03b7-49a9-8e79-5b4fc39ef70c",
   "metadata": {},
   "source": [
    "Python Sets (7)"
   ]
  },
  {
   "cell_type": "code",
   "execution_count": 200,
   "id": "a1ca2acd-ea5e-4f4c-bfef-b430cf7ff327",
   "metadata": {},
   "outputs": [
    {
     "name": "stdout",
     "output_type": "stream",
     "text": [
      "{True, 34, 40, 'male', 'abc'}\n"
     ]
    }
   ],
   "source": [
    "set1 = {\"abc\", 34, True, 40, \"male\"}\n",
    "\n",
    "print(set1)\n"
   ]
  },
  {
   "cell_type": "markdown",
   "id": "e17ebfcd-de09-437d-a7a7-72a6411e0a8a",
   "metadata": {},
   "source": [
    "Python Sets (8)"
   ]
  },
  {
   "cell_type": "code",
   "execution_count": 202,
   "id": "2ff0f821-e0e8-431c-afc0-7345e03a1403",
   "metadata": {},
   "outputs": [
    {
     "name": "stdout",
     "output_type": "stream",
     "text": [
      "<class 'set'>\n"
     ]
    }
   ],
   "source": [
    "myset = {\"apple\", \"banana\", \"cherry\"}\n",
    "\n",
    "print(type(myset))\n"
   ]
  },
  {
   "cell_type": "markdown",
   "id": "5ca6a810-cc09-4932-8dac-6b4d8a08e872",
   "metadata": {},
   "source": [
    "Python Sets (9)"
   ]
  },
  {
   "cell_type": "code",
   "execution_count": 204,
   "id": "4f403dd0-fa03-43cb-8412-d79c57eb7f5d",
   "metadata": {},
   "outputs": [
    {
     "name": "stdout",
     "output_type": "stream",
     "text": [
      "{'apple', 'banana', 'cherry'}\n"
     ]
    }
   ],
   "source": [
    "thisset = set((\"apple\", \"banana\", \"cherry\")) # note the double round-brackets\n",
    "print(thisset)"
   ]
  },
  {
   "cell_type": "markdown",
   "id": "4af24186-82d0-4da3-b0c9-b8b786855217",
   "metadata": {},
   "source": [
    "Access Set Items  (1)"
   ]
  },
  {
   "cell_type": "code",
   "execution_count": 208,
   "id": "65652cc6-902a-4bc4-b5a6-773562294677",
   "metadata": {},
   "outputs": [
    {
     "name": "stdout",
     "output_type": "stream",
     "text": [
      "apple\n",
      "banana\n",
      "cherry\n"
     ]
    }
   ],
   "source": [
    "thisset = {\"apple\", \"banana\", \"cherry\"}\n",
    "\n",
    "for x in thisset:\n",
    "  print(x)"
   ]
  },
  {
   "cell_type": "markdown",
   "id": "34fd1e8b-e497-4329-81a4-d2497dd5631d",
   "metadata": {},
   "source": [
    "Access Set Items (2)"
   ]
  },
  {
   "cell_type": "code",
   "execution_count": 210,
   "id": "9cb9076a-67d1-4f15-9522-be0b20b3ac56",
   "metadata": {},
   "outputs": [
    {
     "name": "stdout",
     "output_type": "stream",
     "text": [
      "True\n"
     ]
    }
   ],
   "source": [
    "thisset = {\"apple\", \"banana\", \"cherry\"}\n",
    "\n",
    "print(\"banana\" in thisset)"
   ]
  },
  {
   "cell_type": "markdown",
   "id": "3e81d853-768c-4ef2-936e-e4e18c5ae7e7",
   "metadata": {},
   "source": [
    "Access Set Items (3)"
   ]
  },
  {
   "cell_type": "code",
   "execution_count": 212,
   "id": "7f2ce68a-ad37-4d01-8c76-ddc76b88a236",
   "metadata": {},
   "outputs": [
    {
     "name": "stdout",
     "output_type": "stream",
     "text": [
      "False\n"
     ]
    }
   ],
   "source": [
    "thisset = {\"apple\", \"banana\", \"cherry\"}\n",
    "\n",
    "print(\"banana\" not in thisset)"
   ]
  },
  {
   "cell_type": "markdown",
   "id": "2febc610-55fd-4d75-8479-0ecfcc2695de",
   "metadata": {},
   "source": [
    "Add Set Items (1)"
   ]
  },
  {
   "cell_type": "code",
   "execution_count": 220,
   "id": "3c51389a-8432-421f-ac75-79a7e38d1889",
   "metadata": {},
   "outputs": [
    {
     "name": "stdout",
     "output_type": "stream",
     "text": [
      "{'apple', 'orange', 'banana', 'cherry'}\n"
     ]
    }
   ],
   "source": [
    "thisset = {\"apple\", \"banana\", \"cherry\"}\n",
    "\n",
    "thisset.add(\"orange\")\n",
    "\n",
    "print(thisset)"
   ]
  },
  {
   "cell_type": "markdown",
   "id": "772f1a0d-ec6a-417d-a690-2e546eef8491",
   "metadata": {},
   "source": [
    "Add Set Items (2)"
   ]
  },
  {
   "cell_type": "code",
   "execution_count": 222,
   "id": "c5650759-8a7c-4912-a504-22bfe0ae8f5f",
   "metadata": {},
   "outputs": [
    {
     "name": "stdout",
     "output_type": "stream",
     "text": [
      "{'mango', 'pineapple', 'apple', 'papaya', 'banana', 'cherry'}\n"
     ]
    }
   ],
   "source": [
    "thisset = {\"apple\", \"banana\", \"cherry\"}\n",
    "tropical = {\"pineapple\", \"mango\", \"papaya\"}\n",
    "\n",
    "thisset.update(tropical)\n",
    "\n",
    "print(thisset)"
   ]
  },
  {
   "cell_type": "markdown",
   "id": "35b8faed-498f-46e3-a227-2536a483c421",
   "metadata": {},
   "source": [
    "Add Set Items (3)"
   ]
  },
  {
   "cell_type": "markdown",
   "id": "0269241c-611c-47e5-9878-f05fdc57eb25",
   "metadata": {},
   "source": [
    "thisset = {\"apple\", \"banana\", \"cherry\"}\n",
    "mylist = [\"kiwi\", \"orange\"]\n",
    "\n",
    "thisset.update(mylist)\n",
    "\n",
    "print(thisset)"
   ]
  },
  {
   "cell_type": "markdown",
   "id": "c95e8d5f-e3a3-46cf-a79d-c1b97f749d7b",
   "metadata": {},
   "source": [
    "Remove Set Items (1)"
   ]
  },
  {
   "cell_type": "code",
   "execution_count": 227,
   "id": "bf9636a9-1a02-494b-bbf2-58704da9025b",
   "metadata": {},
   "outputs": [
    {
     "name": "stdout",
     "output_type": "stream",
     "text": [
      "{'apple', 'cherry'}\n"
     ]
    }
   ],
   "source": [
    "thisset = {\"apple\", \"banana\", \"cherry\"}\n",
    "\n",
    "thisset.remove(\"banana\")\n",
    "\n",
    "print(thisset)"
   ]
  },
  {
   "cell_type": "markdown",
   "id": "374f1258-40d0-44eb-9fb5-913048baa0f0",
   "metadata": {},
   "source": [
    "Remove Set Items (2)"
   ]
  },
  {
   "cell_type": "code",
   "execution_count": 230,
   "id": "7115f8e1-30e9-4db3-a063-31861b59d231",
   "metadata": {},
   "outputs": [
    {
     "name": "stdout",
     "output_type": "stream",
     "text": [
      "{'apple', 'cherry'}\n"
     ]
    }
   ],
   "source": [
    "thisset = {\"apple\", \"banana\", \"cherry\"}\n",
    "\n",
    "thisset.discard(\"banana\")\n",
    "\n",
    "print(thisset)"
   ]
  },
  {
   "cell_type": "markdown",
   "id": "3aeb3ddc-b2ad-4efe-9538-bce63c799601",
   "metadata": {},
   "source": [
    "Remove Set Items (3)"
   ]
  },
  {
   "cell_type": "code",
   "execution_count": 233,
   "id": "37e12be1-750c-48a8-8a25-71556f2ea4c0",
   "metadata": {},
   "outputs": [
    {
     "name": "stdout",
     "output_type": "stream",
     "text": [
      "apple\n",
      "{'banana', 'cherry'}\n"
     ]
    }
   ],
   "source": [
    "thisset = {\"apple\", \"banana\", \"cherry\"}\n",
    "\n",
    "x = thisset.pop()\n",
    "\n",
    "print(x)\n",
    "\n",
    "print(thisset)"
   ]
  },
  {
   "cell_type": "markdown",
   "id": "7f4ef463-b6c0-4011-bee8-3180691a4190",
   "metadata": {},
   "source": [
    "Remove Set Items (4)"
   ]
  },
  {
   "cell_type": "code",
   "execution_count": 236,
   "id": "15af2825-0d44-454b-8253-3614ea95d70d",
   "metadata": {},
   "outputs": [
    {
     "name": "stdout",
     "output_type": "stream",
     "text": [
      "set()\n"
     ]
    }
   ],
   "source": [
    "thisset = {\"apple\", \"banana\", \"cherry\"}\n",
    "\n",
    "thisset.clear()\n",
    "\n",
    "print(thisset)"
   ]
  },
  {
   "cell_type": "markdown",
   "id": "b1363804-9392-42fb-b762-43c2c7398e74",
   "metadata": {},
   "source": [
    "Remove Set Items (5)"
   ]
  },
  {
   "cell_type": "code",
   "execution_count": null,
   "id": "82b2feab-ae9d-40d5-8e47-ac167fd59d75",
   "metadata": {},
   "outputs": [],
   "source": [
    "thisset = {\"apple\", \"banana\", \"cherry\"}\n",
    "\n",
    "del thisset\n",
    "\n",
    "print(thisset)"
   ]
  },
  {
   "cell_type": "markdown",
   "id": "703c5273-e66c-4f55-ae70-4ad32c508540",
   "metadata": {},
   "source": [
    "Loop Sets "
   ]
  },
  {
   "cell_type": "code",
   "execution_count": 242,
   "id": "171916ce-ccaf-42e1-b1be-cf9790df6b11",
   "metadata": {},
   "outputs": [
    {
     "name": "stdout",
     "output_type": "stream",
     "text": [
      "apple\n",
      "banana\n",
      "cherry\n"
     ]
    }
   ],
   "source": [
    "thisset = {\"apple\", \"banana\", \"cherry\"}\n",
    "\n",
    "for x in thisset:\n",
    "  print(x)"
   ]
  },
  {
   "cell_type": "markdown",
   "id": "ff8753b3-952b-46c7-87ae-ab2505b785ae",
   "metadata": {},
   "source": [
    "Join Sets (1)"
   ]
  },
  {
   "cell_type": "code",
   "execution_count": 268,
   "id": "b3afe744-4c86-45f9-8edc-48c4e0b29c93",
   "metadata": {},
   "outputs": [
    {
     "name": "stdout",
     "output_type": "stream",
     "text": [
      "{1, 'a', 2, 3, 'b', 'c'}\n"
     ]
    }
   ],
   "source": [
    "set1 = {\"a\", \"b\", \"c\"}\n",
    "set2 = {1, 2, 3}\n",
    "\n",
    "set3 = set1.union(set2)\n",
    "print(set3)"
   ]
  },
  {
   "cell_type": "markdown",
   "id": "3f71edd3-f0ec-4b7f-8455-97f79af9cd7e",
   "metadata": {},
   "source": [
    "Join Sets (2)"
   ]
  },
  {
   "cell_type": "code",
   "execution_count": 270,
   "id": "55b747e1-fd4b-44f1-aed1-794b1d378619",
   "metadata": {},
   "outputs": [
    {
     "name": "stdout",
     "output_type": "stream",
     "text": [
      "{1, 'a', 2, 3, 'b', 'c'}\n"
     ]
    }
   ],
   "source": [
    "set1 = {\"a\", \"b\", \"c\"}\n",
    "set2 = {1, 2, 3}\n",
    "\n",
    "set3 = set1 | set2\n",
    "print(set3)"
   ]
  },
  {
   "cell_type": "markdown",
   "id": "d893df3f-6b66-4fd0-b3e8-b6e4fd2600e8",
   "metadata": {},
   "source": [
    "Join Sets (3)"
   ]
  },
  {
   "cell_type": "code",
   "execution_count": 272,
   "id": "18e23782-d8c7-435e-bb39-5fefd432445a",
   "metadata": {},
   "outputs": [
    {
     "name": "stdout",
     "output_type": "stream",
     "text": [
      "{1, 'a', 2, 3, 'b', 'bananas', 'Elena', 'apple', 'John', 'cherry', 'c'}\n"
     ]
    }
   ],
   "source": [
    "set1 = {\"a\", \"b\", \"c\"}\n",
    "set2 = {1, 2, 3}\n",
    "set3 = {\"John\", \"Elena\"}\n",
    "set4 = {\"apple\", \"bananas\", \"cherry\"}\n",
    "\n",
    "myset = set1.union(set2, set3, set4)\n",
    "print(myset)"
   ]
  },
  {
   "cell_type": "markdown",
   "id": "84dc1fba-40ea-4d73-b3fe-8ff8fbf460fc",
   "metadata": {},
   "source": [
    "Join Sets (4)"
   ]
  },
  {
   "cell_type": "code",
   "execution_count": 274,
   "id": "7e49977e-74a7-44f5-9ed8-eeda466efe39",
   "metadata": {},
   "outputs": [
    {
     "name": "stdout",
     "output_type": "stream",
     "text": [
      "{1, 'a', 2, 3, 'b', 'bananas', 'Elena', 'apple', 'John', 'cherry', 'c'}\n"
     ]
    }
   ],
   "source": [
    "set1 = {\"a\", \"b\", \"c\"}\n",
    "set2 = {1, 2, 3}\n",
    "set3 = {\"John\", \"Elena\"}\n",
    "set4 = {\"apple\", \"bananas\", \"cherry\"}\n",
    "\n",
    "myset = set1 | set2 | set3 |set4\n",
    "print(myset)"
   ]
  },
  {
   "cell_type": "markdown",
   "id": "764948a6-6f0e-40ee-84cc-4f5af5ad35f9",
   "metadata": {},
   "source": [
    "Join Sets (5)"
   ]
  },
  {
   "cell_type": "code",
   "execution_count": 276,
   "id": "d015618c-6fe7-43f7-b8e1-849427b14d6d",
   "metadata": {},
   "outputs": [
    {
     "name": "stdout",
     "output_type": "stream",
     "text": [
      "{1, 'a', 2, 3, 'b', 'c'}\n"
     ]
    }
   ],
   "source": [
    "x = {\"a\", \"b\", \"c\"}\n",
    "y = (1, 2, 3)\n",
    "\n",
    "z = x.union(y)\n",
    "print(z)"
   ]
  },
  {
   "cell_type": "markdown",
   "id": "7e80cfc3-c681-446e-8261-02458f87f254",
   "metadata": {},
   "source": [
    "Join Sets (6)"
   ]
  },
  {
   "cell_type": "code",
   "execution_count": 278,
   "id": "7ff75e72-7372-435a-86f2-89cb95943354",
   "metadata": {},
   "outputs": [
    {
     "name": "stdout",
     "output_type": "stream",
     "text": [
      "{1, 'a', 2, 3, 'b', 'c'}\n"
     ]
    }
   ],
   "source": [
    "set1 = {\"a\", \"b\" , \"c\"}\n",
    "set2 = {1, 2, 3}\n",
    "\n",
    "set1.update(set2)\n",
    "print(set1)"
   ]
  },
  {
   "cell_type": "markdown",
   "id": "85cef52f-181e-45ec-9b3d-0361007e73f1",
   "metadata": {},
   "source": [
    "Join Sets (7)"
   ]
  },
  {
   "cell_type": "code",
   "execution_count": 280,
   "id": "02b11d9d-d669-43f6-9b52-f8566d951e3d",
   "metadata": {},
   "outputs": [
    {
     "name": "stdout",
     "output_type": "stream",
     "text": [
      "{'apple'}\n"
     ]
    }
   ],
   "source": [
    "set1 = {\"apple\", \"banana\", \"cherry\"}\n",
    "set2 = {\"google\", \"microsoft\", \"apple\"}\n",
    "\n",
    "set3 = set1.intersection(set2)\n",
    "print(set3)"
   ]
  },
  {
   "cell_type": "markdown",
   "id": "eed97136-c56d-4d92-8123-add959f2ab72",
   "metadata": {},
   "source": [
    "Join Sets (8)"
   ]
  },
  {
   "cell_type": "code",
   "execution_count": 282,
   "id": "457ea221-1763-4426-929c-42caff30d1b9",
   "metadata": {},
   "outputs": [
    {
     "name": "stdout",
     "output_type": "stream",
     "text": [
      "{'apple'}\n"
     ]
    }
   ],
   "source": [
    "set1 = {\"apple\", \"banana\", \"cherry\"}\n",
    "set2 = {\"google\", \"microsoft\", \"apple\"}\n",
    "\n",
    "set3 = set1 & set2\n",
    "print(set3)"
   ]
  },
  {
   "cell_type": "markdown",
   "id": "31b10a0d-f12c-4490-9c60-30782818d984",
   "metadata": {},
   "source": [
    "Join Sets (9)"
   ]
  },
  {
   "cell_type": "code",
   "execution_count": 284,
   "id": "bb753f1d-3624-439f-934c-858fc04239e6",
   "metadata": {},
   "outputs": [
    {
     "name": "stdout",
     "output_type": "stream",
     "text": [
      "{'apple'}\n"
     ]
    }
   ],
   "source": [
    "set1 = {\"apple\", \"banana\", \"cherry\"}\n",
    "set2 = {\"google\", \"microsoft\", \"apple\"}\n",
    "\n",
    "set1.intersection_update(set2)\n",
    "\n",
    "print(set1)"
   ]
  },
  {
   "cell_type": "markdown",
   "id": "1f2e07b5-d35c-46d8-983e-15e6f3360e31",
   "metadata": {},
   "source": [
    "Join Sets (10)"
   ]
  },
  {
   "cell_type": "code",
   "execution_count": 286,
   "id": "f7a92e24-08fa-44ba-b3b5-42eae25c1f3f",
   "metadata": {},
   "outputs": [
    {
     "name": "stdout",
     "output_type": "stream",
     "text": [
      "{False, 1, 'apple'}\n"
     ]
    }
   ],
   "source": [
    "set1 = {\"apple\", 1,  \"banana\", 0, \"cherry\"}\n",
    "set2 = {False, \"google\", 1, \"apple\", 2, True}\n",
    "\n",
    "set3 = set1.intersection(set2)\n",
    "\n",
    "print(set3)"
   ]
  },
  {
   "cell_type": "markdown",
   "id": "a544123b-1d05-4a08-a3d8-b717ccb0bd34",
   "metadata": {},
   "source": [
    "Join Sets (11)"
   ]
  },
  {
   "cell_type": "code",
   "execution_count": 288,
   "id": "2eb843b2-e2e9-4868-81f3-6114095a7ff6",
   "metadata": {},
   "outputs": [
    {
     "name": "stdout",
     "output_type": "stream",
     "text": [
      "{'banana', 'cherry'}\n"
     ]
    }
   ],
   "source": [
    "set1 = {\"apple\", \"banana\", \"cherry\"}\n",
    "set2 = {\"google\", \"microsoft\", \"apple\"}\n",
    "\n",
    "set3 = set1.difference(set2)\n",
    "\n",
    "print(set3)"
   ]
  },
  {
   "cell_type": "markdown",
   "id": "1ceba5ad-73d9-4139-9e71-5a0f5cc9278d",
   "metadata": {},
   "source": [
    "Join Sets (12)"
   ]
  },
  {
   "cell_type": "code",
   "execution_count": 290,
   "id": "3d3c188c-a9cb-4b6e-b0e6-a4d9c7333c8f",
   "metadata": {},
   "outputs": [
    {
     "name": "stdout",
     "output_type": "stream",
     "text": [
      "{'banana', 'cherry'}\n"
     ]
    }
   ],
   "source": [
    "set1 = {\"apple\", \"banana\", \"cherry\"}\n",
    "set2 = {\"google\", \"microsoft\", \"apple\"}\n",
    "\n",
    "set3 = set1 - set2\n",
    "print(set3)"
   ]
  },
  {
   "cell_type": "markdown",
   "id": "9b441301-f440-4554-8e34-b31c53074500",
   "metadata": {},
   "source": [
    "Join Sets (13)"
   ]
  },
  {
   "cell_type": "code",
   "execution_count": 292,
   "id": "a8e4d893-efa3-48ed-b015-5b0ca1f72505",
   "metadata": {},
   "outputs": [
    {
     "name": "stdout",
     "output_type": "stream",
     "text": [
      "{'banana', 'cherry'}\n"
     ]
    }
   ],
   "source": [
    "set1 = {\"apple\", \"banana\", \"cherry\"}\n",
    "set2 = {\"google\", \"microsoft\", \"apple\"}\n",
    "\n",
    "set1.difference_update(set2)\n",
    "\n",
    "print(set1)"
   ]
  },
  {
   "cell_type": "markdown",
   "id": "aec7244b-0cbe-4478-83e4-71353ed0e5a9",
   "metadata": {},
   "source": [
    "Join Sets (14)"
   ]
  },
  {
   "cell_type": "code",
   "execution_count": 294,
   "id": "86852ea7-2ece-4cf0-b9a0-387a4a5e75ea",
   "metadata": {},
   "outputs": [
    {
     "name": "stdout",
     "output_type": "stream",
     "text": [
      "{'cherry', 'microsoft', 'banana', 'google'}\n"
     ]
    }
   ],
   "source": [
    "set1 = {\"apple\", \"banana\", \"cherry\"}\n",
    "set2 = {\"google\", \"microsoft\", \"apple\"}\n",
    "\n",
    "set3 = set1.symmetric_difference(set2)\n",
    "\n",
    "print(set3)"
   ]
  },
  {
   "cell_type": "markdown",
   "id": "4b6099ae-f8d9-4f2e-95c1-5ad5511d22fc",
   "metadata": {},
   "source": [
    "Join Sets (15)"
   ]
  },
  {
   "cell_type": "code",
   "execution_count": 296,
   "id": "a9fbab5e-5e4f-4528-b8bf-8d0ae22afa9c",
   "metadata": {},
   "outputs": [
    {
     "name": "stdout",
     "output_type": "stream",
     "text": [
      "{'cherry', 'microsoft', 'banana', 'google'}\n"
     ]
    }
   ],
   "source": [
    "set1 = {\"apple\", \"banana\", \"cherry\"}\n",
    "set2 = {\"google\", \"microsoft\", \"apple\"}\n",
    "\n",
    "set3 = set1 ^ set2\n",
    "print(set3)"
   ]
  },
  {
   "cell_type": "markdown",
   "id": "5a48cb87-89e1-498e-88be-2f858dd7060f",
   "metadata": {},
   "source": [
    "Join Sets (16)"
   ]
  },
  {
   "cell_type": "code",
   "execution_count": 298,
   "id": "b73abdc8-ecec-42c7-ba5e-b2104409f649",
   "metadata": {},
   "outputs": [
    {
     "name": "stdout",
     "output_type": "stream",
     "text": [
      "{'microsoft', 'google', 'banana', 'cherry'}\n"
     ]
    }
   ],
   "source": [
    "set1 = {\"apple\", \"banana\", \"cherry\"}\n",
    "set2 = {\"google\", \"microsoft\", \"apple\"}\n",
    "\n",
    "set1.symmetric_difference_update(set2)\n",
    "\n",
    "print(set1)"
   ]
  },
  {
   "cell_type": "markdown",
   "id": "54761c79-9993-4f50-b26e-7ab0cf0203af",
   "metadata": {},
   "source": [
    "Dictionaries 1"
   ]
  },
  {
   "cell_type": "code",
   "execution_count": 9,
   "id": "92e6b902-64a6-4ad6-a9af-ab6df55c3008",
   "metadata": {},
   "outputs": [
    {
     "name": "stdout",
     "output_type": "stream",
     "text": [
      "{'brand': 'Ford', 'model': 'Mustang', 'year': 1964}\n"
     ]
    }
   ],
   "source": [
    "thisdict = {\n",
    "  \"brand\": \"Ford\",\n",
    "  \"model\": \"Mustang\",\n",
    "  \"year\": 1964\n",
    "}\n",
    "print(thisdict)"
   ]
  },
  {
   "cell_type": "markdown",
   "id": "743750ef-e405-413f-ac68-9d68608c8c79",
   "metadata": {},
   "source": [
    "Dictionaries 2"
   ]
  },
  {
   "cell_type": "code",
   "execution_count": 11,
   "id": "adc4bd7b-4598-4267-9519-63e7584ed78a",
   "metadata": {},
   "outputs": [
    {
     "name": "stdout",
     "output_type": "stream",
     "text": [
      "Ford\n"
     ]
    }
   ],
   "source": [
    "thisdict = {\n",
    "  \"brand\": \"Ford\",\n",
    "  \"model\": \"Mustang\",\n",
    "  \"year\": 1964\n",
    "}\n",
    "print(thisdict[\"brand\"])"
   ]
  },
  {
   "cell_type": "markdown",
   "id": "1448955b-e7aa-4c80-bed9-000504498b1c",
   "metadata": {},
   "source": [
    "Dictionaries 3"
   ]
  },
  {
   "cell_type": "code",
   "execution_count": 13,
   "id": "82a3d863-5d51-41a8-8847-d10d53cef61c",
   "metadata": {},
   "outputs": [
    {
     "name": "stdout",
     "output_type": "stream",
     "text": [
      "{'brand': 'Ford', 'model': 'Mustang', 'year': 2020}\n"
     ]
    }
   ],
   "source": [
    "thisdict = {\n",
    "  \"brand\": \"Ford\",\n",
    "  \"model\": \"Mustang\",\n",
    "  \"year\": 1964,\n",
    "  \"year\": 2020\n",
    "}\n",
    "print(thisdict)"
   ]
  },
  {
   "cell_type": "markdown",
   "id": "fe8fa45c-00ab-4362-84ac-ae9e278c08dd",
   "metadata": {},
   "source": [
    "Dictionaries 4"
   ]
  },
  {
   "cell_type": "code",
   "execution_count": 15,
   "id": "f921b310-c497-486c-b341-1563866569a9",
   "metadata": {},
   "outputs": [
    {
     "name": "stdout",
     "output_type": "stream",
     "text": [
      "3\n"
     ]
    }
   ],
   "source": [
    "thisdict = {\n",
    "  \"brand\": \"Ford\",\n",
    "  \"model\": \"Mustang\",\n",
    "  \"year\": 1964,\n",
    "  \"year\": 2020\n",
    "}\n",
    "print(len(thisdict))\n"
   ]
  },
  {
   "cell_type": "markdown",
   "id": "f9fe0b71-24fd-4df7-b5c7-0cff785b41ff",
   "metadata": {},
   "source": [
    "Dictionaries 5"
   ]
  },
  {
   "cell_type": "code",
   "execution_count": 17,
   "id": "a5f1e85a-9e15-41fe-8191-9fb91806245a",
   "metadata": {},
   "outputs": [
    {
     "name": "stdout",
     "output_type": "stream",
     "text": [
      "{'brand': 'Ford', 'electric': False, 'year': 1964, 'colors': ['red', 'white', 'blue']}\n"
     ]
    }
   ],
   "source": [
    "thisdict = {\n",
    "  \"brand\": \"Ford\",\n",
    "  \"electric\": False,\n",
    "  \"year\": 1964,\n",
    "  \"colors\": [\"red\", \"white\", \"blue\"]\n",
    "}\n",
    "\n",
    "print(thisdict)\n"
   ]
  },
  {
   "cell_type": "markdown",
   "id": "fb8ed664-0dca-42d7-9759-dbf430721360",
   "metadata": {},
   "source": [
    "Dictionaries 6"
   ]
  },
  {
   "cell_type": "code",
   "execution_count": 19,
   "id": "efbcd573-8df6-45ad-8ab9-d02f7ac61b47",
   "metadata": {},
   "outputs": [
    {
     "name": "stdout",
     "output_type": "stream",
     "text": [
      "<class 'dict'>\n"
     ]
    }
   ],
   "source": [
    "thisdict = {\n",
    "  \"brand\": \"Ford\",\n",
    "  \"model\": \"Mustang\",\n",
    "  \"year\": 1964\n",
    "}\n",
    "print(type(thisdict))"
   ]
  },
  {
   "cell_type": "markdown",
   "id": "76cf5a29-4809-416e-9242-94b5d4f4632e",
   "metadata": {},
   "source": [
    "Dictionaries 7"
   ]
  },
  {
   "cell_type": "code",
   "execution_count": 21,
   "id": "bb02aaee-04f6-4253-bbe9-64f88aca593d",
   "metadata": {},
   "outputs": [
    {
     "name": "stdout",
     "output_type": "stream",
     "text": [
      "{'name': 'John', 'age': 36, 'country': 'Norway'}\n"
     ]
    }
   ],
   "source": [
    "thisdict = dict(name = \"John\", age = 36, country = \"Norway\")\n",
    "\n",
    "print(thisdict) \n"
   ]
  },
  {
   "cell_type": "markdown",
   "id": "c1a4e7e3-7e81-4f4e-a226-ab938cdb52dc",
   "metadata": {},
   "source": [
    "Access Dictionary Items 1"
   ]
  },
  {
   "cell_type": "code",
   "execution_count": 29,
   "id": "c3fdb886-bed7-4bfd-a628-c3134e6212ee",
   "metadata": {},
   "outputs": [
    {
     "name": "stdout",
     "output_type": "stream",
     "text": [
      "Mustang\n"
     ]
    }
   ],
   "source": [
    "thisdict =\t{\n",
    "  \"brand\": \"Ford\",\n",
    "  \"model\": \"Mustang\",\n",
    "  \"year\": 1964\n",
    "}\n",
    "x = thisdict[\"model\"]\n",
    "print(x)\n"
   ]
  },
  {
   "cell_type": "markdown",
   "id": "7603c94d-9b03-4e82-9297-08fd2472523c",
   "metadata": {},
   "source": [
    "Access Dictionary Items 2"
   ]
  },
  {
   "cell_type": "code",
   "execution_count": 31,
   "id": "5d2019c1-8369-4dc3-9f1a-9ef9854d89a5",
   "metadata": {},
   "outputs": [
    {
     "name": "stdout",
     "output_type": "stream",
     "text": [
      "Mustang\n"
     ]
    }
   ],
   "source": [
    "thisdict =\t{\n",
    "  \"brand\": \"Ford\",\n",
    "  \"model\": \"Mustang\",\n",
    "  \"year\": 1964\n",
    "}\n",
    "x = thisdict.get(\"model\")\n",
    "print(x)\n"
   ]
  },
  {
   "cell_type": "markdown",
   "id": "b7f4cbee-586c-4697-86a5-207387074db4",
   "metadata": {},
   "source": [
    "Access Dictionary Items 3"
   ]
  },
  {
   "cell_type": "code",
   "execution_count": 33,
   "id": "1167ec97-62ee-4f17-ad02-ce4087030a6e",
   "metadata": {},
   "outputs": [
    {
     "name": "stdout",
     "output_type": "stream",
     "text": [
      "dict_keys(['brand', 'model', 'year'])\n"
     ]
    }
   ],
   "source": [
    "thisdict = {\n",
    "  \"brand\": \"Ford\",\n",
    "  \"model\": \"Mustang\",\n",
    "  \"year\": 1964\n",
    "}\n",
    "\n",
    "x = thisdict.keys()\n",
    "\n",
    "print(x)\n"
   ]
  },
  {
   "cell_type": "markdown",
   "id": "d183b5c8-160a-4a79-9a80-37528e7ff7c4",
   "metadata": {},
   "source": [
    "Access Dictionary Items 4"
   ]
  },
  {
   "cell_type": "code",
   "execution_count": 35,
   "id": "13d58df6-66e7-4576-afae-a6ba13b34f5c",
   "metadata": {},
   "outputs": [
    {
     "name": "stdout",
     "output_type": "stream",
     "text": [
      "dict_keys(['brand', 'model', 'year'])\n",
      "dict_keys(['brand', 'model', 'year', 'color'])\n"
     ]
    }
   ],
   "source": [
    "car = {\n",
    "\"brand\": \"Ford\",\n",
    "\"model\": \"Mustang\",\n",
    "\"year\": 1964\n",
    "}\n",
    "\n",
    "x = car.keys()\n",
    "\n",
    "print(x) #before the change\n",
    "\n",
    "car[\"color\"] = \"white\"\n",
    "\n",
    "print(x) #after the change"
   ]
  },
  {
   "cell_type": "markdown",
   "id": "cc3ec388-6eb6-48e5-8f2a-d1317d5563f4",
   "metadata": {},
   "source": [
    "Access Dictionary Items 5"
   ]
  },
  {
   "cell_type": "code",
   "execution_count": 37,
   "id": "44f22649-0cb7-489a-9f58-ba2b41147204",
   "metadata": {},
   "outputs": [
    {
     "name": "stdout",
     "output_type": "stream",
     "text": [
      "dict_values(['Ford', 'Mustang', 1964])\n"
     ]
    }
   ],
   "source": [
    "thisdict = {\n",
    "  \"brand\": \"Ford\",\n",
    "  \"model\": \"Mustang\",\n",
    "  \"year\": 1964\n",
    "}\n",
    "\n",
    "x = thisdict.values()\n",
    "\n",
    "print(x)\n"
   ]
  },
  {
   "cell_type": "markdown",
   "id": "f9ab8067-2bdb-44ed-8deb-53bfbb0baf50",
   "metadata": {},
   "source": [
    "Access Dictionary Items 6"
   ]
  },
  {
   "cell_type": "code",
   "execution_count": 39,
   "id": "cf7c02a7-bd08-4e0b-b8ba-04b312359db8",
   "metadata": {},
   "outputs": [
    {
     "name": "stdout",
     "output_type": "stream",
     "text": [
      "dict_values(['Ford', 'Mustang', 1964])\n",
      "dict_values(['Ford', 'Mustang', 2020])\n"
     ]
    }
   ],
   "source": [
    "car = {\n",
    "\"brand\": \"Ford\",\n",
    "\"model\": \"Mustang\",\n",
    "\"year\": 1964\n",
    "}\n",
    "\n",
    "x = car.values()\n",
    "\n",
    "print(x) #before the change\n",
    "\n",
    "car[\"year\"] = 2020\n",
    "\n",
    "print(x) #after the change"
   ]
  },
  {
   "cell_type": "markdown",
   "id": "50b719f5-f4d1-484b-968f-f4c5fea7b680",
   "metadata": {},
   "source": [
    "Access Dictionary Items 7"
   ]
  },
  {
   "cell_type": "code",
   "execution_count": 41,
   "id": "75c31f8e-7295-4635-8ce4-c33b5b3efae5",
   "metadata": {},
   "outputs": [
    {
     "name": "stdout",
     "output_type": "stream",
     "text": [
      "dict_values(['Ford', 'Mustang', 1964])\n",
      "dict_values(['Ford', 'Mustang', 1964, 'red'])\n"
     ]
    }
   ],
   "source": [
    "car = {\n",
    "\"brand\": \"Ford\",\n",
    "\"model\": \"Mustang\",\n",
    "\"year\": 1964\n",
    "}\n",
    "\n",
    "x = car.values()\n",
    "\n",
    "print(x) #before the change\n",
    "\n",
    "car[\"color\"] = \"red\"\n",
    "\n",
    "print(x) #after the change"
   ]
  },
  {
   "cell_type": "markdown",
   "id": "5930c521-e56d-46b1-aff0-b7557860bccb",
   "metadata": {},
   "source": [
    "Access Dictionary Items 8"
   ]
  },
  {
   "cell_type": "code",
   "execution_count": 43,
   "id": "d73f3eb6-61ad-49ee-a6f1-05df0193849a",
   "metadata": {},
   "outputs": [
    {
     "name": "stdout",
     "output_type": "stream",
     "text": [
      "dict_items([('brand', 'Ford'), ('model', 'Mustang'), ('year', 1964)])\n"
     ]
    }
   ],
   "source": [
    "thisdict = {\n",
    "  \"brand\": \"Ford\",\n",
    "  \"model\": \"Mustang\",\n",
    "  \"year\": 1964\n",
    "}\n",
    "\n",
    "x = thisdict.items()\n",
    "\n",
    "print(x)\n"
   ]
  },
  {
   "cell_type": "markdown",
   "id": "927f006d-6b28-4c9e-b431-891f00f1b9f0",
   "metadata": {},
   "source": [
    "Access Dictionary Items 9"
   ]
  },
  {
   "cell_type": "code",
   "execution_count": 45,
   "id": "37092ac6-f165-4880-a1f4-8a8766453811",
   "metadata": {},
   "outputs": [
    {
     "name": "stdout",
     "output_type": "stream",
     "text": [
      "dict_items([('brand', 'Ford'), ('model', 'Mustang'), ('year', 1964)])\n"
     ]
    }
   ],
   "source": [
    "thisdict = {\n",
    "  \"brand\": \"Ford\",\n",
    "  \"model\": \"Mustang\",\n",
    "  \"year\": 1964\n",
    "}\n",
    "\n",
    "x = thisdict.items()\n",
    "\n",
    "print(x)\n"
   ]
  },
  {
   "cell_type": "markdown",
   "id": "29408f38-b47d-47cc-bf94-b5ee1bf9fad2",
   "metadata": {},
   "source": [
    "Access Dictionary Items 10"
   ]
  },
  {
   "cell_type": "code",
   "execution_count": 47,
   "id": "258b3e70-bff3-46b3-9843-65a0922c9338",
   "metadata": {},
   "outputs": [
    {
     "name": "stdout",
     "output_type": "stream",
     "text": [
      "dict_items([('brand', 'Ford'), ('model', 'Mustang'), ('year', 1964)])\n",
      "dict_items([('brand', 'Ford'), ('model', 'Mustang'), ('year', 2020)])\n"
     ]
    }
   ],
   "source": [
    "car = {\n",
    "\"brand\": \"Ford\",\n",
    "\"model\": \"Mustang\",\n",
    "\"year\": 1964\n",
    "}\n",
    "\n",
    "x = car.items()\n",
    "\n",
    "print(x) #before the change\n",
    "\n",
    "car[\"year\"] = 2020\n",
    "\n",
    "print(x) #after the chang"
   ]
  },
  {
   "cell_type": "markdown",
   "id": "d51af8db-a46b-41c0-bd12-cce70ff7e82a",
   "metadata": {},
   "source": [
    "Access Dictionary Items 11"
   ]
  },
  {
   "cell_type": "code",
   "execution_count": 49,
   "id": "af93dabd-ada5-4ffe-9ada-5f06156170ff",
   "metadata": {},
   "outputs": [
    {
     "name": "stdout",
     "output_type": "stream",
     "text": [
      "dict_items([('brand', 'Ford'), ('model', 'Mustang'), ('year', 1964)])\n",
      "dict_items([('brand', 'Ford'), ('model', 'Mustang'), ('year', 1964), ('color', 'red')])\n"
     ]
    }
   ],
   "source": [
    "car = {\n",
    "\"brand\": \"Ford\",\n",
    "\"model\": \"Mustang\",\n",
    "\"year\": 1964\n",
    "}\n",
    "\n",
    "x = car.items()\n",
    "\n",
    "print(x) #before the change\n",
    "\n",
    "car[\"color\"] = \"red\"\n",
    "\n",
    "print(x) #after the change"
   ]
  },
  {
   "cell_type": "markdown",
   "id": "5eff4185-e4b8-4640-878d-16488cda222b",
   "metadata": {},
   "source": [
    "Change Dictionary Items (1)\n"
   ]
  },
  {
   "cell_type": "code",
   "execution_count": 69,
   "id": "fd60b1e4-4ad6-4b6f-81f5-d400dbeb3398",
   "metadata": {},
   "outputs": [
    {
     "name": "stdout",
     "output_type": "stream",
     "text": [
      "{'brand': 'Ford', 'model': 'Mustang', 'year': 2018}\n"
     ]
    }
   ],
   "source": [
    "thisdict =\t{\n",
    "  \"brand\": \"Ford\",\n",
    "  \"model\": \"Mustang\",\n",
    "  \"year\": 1964\n",
    "}\n",
    "\n",
    "thisdict[\"year\"] = 2018\n",
    "\n",
    "print(thisdict)\n"
   ]
  },
  {
   "cell_type": "markdown",
   "id": "d7be9b56-9762-4495-9df2-1c69d82b4a7e",
   "metadata": {},
   "source": [
    "Change Dictionary Items (2)"
   ]
  },
  {
   "cell_type": "code",
   "execution_count": 71,
   "id": "19c9e27a-2b8b-42b0-9bb7-cd00109357cd",
   "metadata": {},
   "outputs": [
    {
     "name": "stdout",
     "output_type": "stream",
     "text": [
      "{'brand': 'Ford', 'model': 'Mustang', 'year': 2020}\n"
     ]
    }
   ],
   "source": [
    "thisdict = {\n",
    "  \"brand\": \"Ford\",\n",
    "  \"model\": \"Mustang\",\n",
    "  \"year\": 1964\n",
    "}\n",
    "thisdict.update({\"year\": 2020})\n",
    "\n",
    "print(thisdict)\n"
   ]
  },
  {
   "cell_type": "markdown",
   "id": "7301046e-8a5c-45c4-871a-d8af37371925",
   "metadata": {},
   "source": [
    "Add Dictionary Items (1)"
   ]
  },
  {
   "cell_type": "code",
   "execution_count": 74,
   "id": "24cf2798-ced7-417c-8a17-6ad0829ec112",
   "metadata": {},
   "outputs": [
    {
     "name": "stdout",
     "output_type": "stream",
     "text": [
      "{'brand': 'Ford', 'model': 'Mustang', 'year': 1964, 'color': 'red'}\n"
     ]
    }
   ],
   "source": [
    "thisdict = {\n",
    "  \"brand\": \"Ford\",\n",
    "  \"model\": \"Mustang\",\n",
    "  \"year\": 1964\n",
    "}\n",
    "thisdict[\"color\"] = \"red\"\n",
    "print(thisdict)"
   ]
  },
  {
   "cell_type": "markdown",
   "id": "0802869e-e3d9-4646-8e2c-1a48dad7d7bf",
   "metadata": {},
   "source": [
    "Add Dictionary Items (2)"
   ]
  },
  {
   "cell_type": "code",
   "execution_count": 79,
   "id": "04b7be25-04a6-4221-994b-6496106731a8",
   "metadata": {},
   "outputs": [
    {
     "name": "stdout",
     "output_type": "stream",
     "text": [
      "{'brand': 'Ford', 'model': 'Mustang', 'year': 1964, 'color': 'red'}\n"
     ]
    }
   ],
   "source": [
    "thisdict = {\n",
    "  \"brand\": \"Ford\",\n",
    "  \"model\": \"Mustang\",\n",
    "  \"year\": 1964\n",
    "}\n",
    "thisdict.update({\"color\": \"red\"})\n",
    "\n",
    "print(thisdict)\n"
   ]
  },
  {
   "cell_type": "markdown",
   "id": "a036d83e-bae1-4860-b43a-44b19fabcdaa",
   "metadata": {},
   "source": [
    "Remove Dictionary Items 1"
   ]
  },
  {
   "cell_type": "code",
   "execution_count": 82,
   "id": "017ea39b-0979-457a-8fd6-e1673f0712c6",
   "metadata": {},
   "outputs": [
    {
     "name": "stdout",
     "output_type": "stream",
     "text": [
      "{'brand': 'Ford', 'year': 1964}\n"
     ]
    }
   ],
   "source": [
    "thisdict = {\n",
    "  \"brand\": \"Ford\",\n",
    "  \"model\": \"Mustang\",\n",
    "  \"year\": 1964\n",
    "}\n",
    "thisdict.pop(\"model\")\n",
    "print(thisdict)"
   ]
  },
  {
   "cell_type": "markdown",
   "id": "1abe2aa6-fc94-4bd7-8ca6-ad290e25420b",
   "metadata": {},
   "source": [
    "Remove Dictionary Items 2"
   ]
  },
  {
   "cell_type": "code",
   "execution_count": 85,
   "id": "76819723-3384-4f0f-96a7-629d6100b104",
   "metadata": {},
   "outputs": [
    {
     "name": "stdout",
     "output_type": "stream",
     "text": [
      "{'brand': 'Ford', 'model': 'Mustang'}\n"
     ]
    }
   ],
   "source": [
    "thisdict = {\n",
    "  \"brand\": \"Ford\",\n",
    "  \"model\": \"Mustang\",\n",
    "  \"year\": 1964\n",
    "}\n",
    "thisdict.popitem()\n",
    "print(thisdict)"
   ]
  },
  {
   "cell_type": "markdown",
   "id": "3e7a8ecb-452f-4b4e-99b0-00c4ce55f849",
   "metadata": {},
   "source": [
    "Remove Dictionary Items 3"
   ]
  },
  {
   "cell_type": "code",
   "execution_count": 88,
   "id": "9a9a8e8f-fede-4713-b6bb-9bdbbdcab71b",
   "metadata": {},
   "outputs": [
    {
     "name": "stdout",
     "output_type": "stream",
     "text": [
      "{'brand': 'Ford', 'year': 1964}\n"
     ]
    }
   ],
   "source": [
    "thisdict = {\n",
    "  \"brand\": \"Ford\",\n",
    "  \"model\": \"Mustang\",\n",
    "  \"year\": 1964\n",
    "}\n",
    "del thisdict[\"model\"]\n",
    "print(thisdict)"
   ]
  },
  {
   "cell_type": "markdown",
   "id": "ecbb5ad3-1121-4a74-83d5-59de328b46cd",
   "metadata": {},
   "source": [
    "Remove Dictionary Items 4"
   ]
  },
  {
   "cell_type": "code",
   "execution_count": 90,
   "id": "c36ad7b8-b7d8-4984-bd65-a111f3ea0b95",
   "metadata": {},
   "outputs": [
    {
     "name": "stdout",
     "output_type": "stream",
     "text": [
      "{}\n"
     ]
    }
   ],
   "source": [
    "thisdict = {\n",
    "  \"brand\": \"Ford\",\n",
    "  \"model\": \"Mustang\",\n",
    "  \"year\": 1964\n",
    "}\n",
    "thisdict.clear()\n",
    "print(thisdict)"
   ]
  },
  {
   "cell_type": "markdown",
   "id": "2dfa2c0f-f4b3-4f24-ace7-a08e0d219fcc",
   "metadata": {},
   "source": [
    " Loop Dictionaries 1"
   ]
  },
  {
   "cell_type": "code",
   "execution_count": 125,
   "id": "131be6b1-1166-4629-b519-b2327ecb6e95",
   "metadata": {},
   "outputs": [
    {
     "name": "stdout",
     "output_type": "stream",
     "text": [
      "brand\n",
      "model\n",
      "year\n"
     ]
    }
   ],
   "source": [
    "thisdict =\t{\n",
    "  \"brand\": \"Ford\",\n",
    "  \"model\": \"Mustang\",\n",
    "  \"year\": 1964\n",
    "}\n",
    "for x in thisdict:\n",
    "  print(x)\n"
   ]
  },
  {
   "cell_type": "markdown",
   "id": "af626d7b-f0d0-4e14-abe2-73a5f87b211c",
   "metadata": {},
   "source": [
    " Loop Dictionaries 2"
   ]
  },
  {
   "cell_type": "code",
   "execution_count": 127,
   "id": "9ec2d5e9-6833-4cd1-a0c3-b44febb3c743",
   "metadata": {},
   "outputs": [
    {
     "name": "stdout",
     "output_type": "stream",
     "text": [
      "Ford\n",
      "Mustang\n",
      "1964\n"
     ]
    }
   ],
   "source": [
    "thisdict =\t{\n",
    "  \"brand\": \"Ford\",\n",
    "  \"model\": \"Mustang\",\n",
    "  \"year\": 1964\n",
    "}\n",
    "for x in thisdict:\n",
    "  print(thisdict[x])\n"
   ]
  },
  {
   "cell_type": "markdown",
   "id": "70e5b4ac-a9f8-40bf-ac95-fc6e5214111a",
   "metadata": {},
   "source": [
    " Loop Dictionaries 3"
   ]
  },
  {
   "cell_type": "code",
   "execution_count": 129,
   "id": "80006f54-6abd-4cc9-93a8-923c8fe0c818",
   "metadata": {},
   "outputs": [
    {
     "name": "stdout",
     "output_type": "stream",
     "text": [
      "Ford\n",
      "Mustang\n",
      "1964\n"
     ]
    }
   ],
   "source": [
    "thisdict =\t{\n",
    "  \"brand\": \"Ford\",\n",
    "  \"model\": \"Mustang\",\n",
    "  \"year\": 1964\n",
    "}\n",
    "for x in thisdict.values():\n",
    "  print(x)\n"
   ]
  },
  {
   "cell_type": "markdown",
   "id": "b4ac6b04-4ccc-4778-ac81-8e1fed409869",
   "metadata": {},
   "source": [
    " Loop Dictionaries 4"
   ]
  },
  {
   "cell_type": "code",
   "execution_count": 131,
   "id": "02f66665-0c7a-4709-8eec-21f1c39eb651",
   "metadata": {},
   "outputs": [
    {
     "name": "stdout",
     "output_type": "stream",
     "text": [
      "brand\n",
      "model\n",
      "year\n"
     ]
    }
   ],
   "source": [
    "thisdict =\t{\n",
    "  \"brand\": \"Ford\",\n",
    "  \"model\": \"Mustang\",\n",
    "  \"year\": 1964\n",
    "}\n",
    "for x in thisdict.keys():\n",
    "  print(x)\n"
   ]
  },
  {
   "cell_type": "markdown",
   "id": "e8d23fb5-8fb1-46d1-8a61-354011093662",
   "metadata": {},
   "source": [
    " Loop Dictionaries 5"
   ]
  },
  {
   "cell_type": "code",
   "execution_count": 121,
   "id": "d5fac089-7069-4f00-b6c8-557e2c928355",
   "metadata": {},
   "outputs": [],
   "source": [
    "for x, y in thisdict.items():\n",
    "  print(x, y)"
   ]
  },
  {
   "cell_type": "code",
   "execution_count": 133,
   "id": "bde189c5-21e0-42ef-a25b-64b0b5cefabe",
   "metadata": {},
   "outputs": [
    {
     "name": "stdout",
     "output_type": "stream",
     "text": [
      "brand Ford\n",
      "model Mustang\n",
      "year 1964\n"
     ]
    }
   ],
   "source": [
    "thisdict =\t{\n",
    "  \"brand\": \"Ford\",\n",
    "  \"model\": \"Mustang\",\n",
    "  \"year\": 1964\n",
    "}\n",
    "for x, y in thisdict.items():\n",
    "  print(x, y)\n"
   ]
  },
  {
   "cell_type": "markdown",
   "id": "8e81bd02-f7df-49a9-925d-40a998315df1",
   "metadata": {},
   "source": [
    " Copy Dictionaries 1 "
   ]
  },
  {
   "cell_type": "code",
   "execution_count": 144,
   "id": "7aac18eb-6160-4823-8608-aee1559c4a49",
   "metadata": {},
   "outputs": [
    {
     "name": "stdout",
     "output_type": "stream",
     "text": [
      "{'brand': 'Ford', 'model': 'Mustang', 'year': 1964}\n"
     ]
    }
   ],
   "source": [
    "thisdict = {\n",
    "  \"brand\": \"Ford\",\n",
    "  \"model\": \"Mustang\",\n",
    "  \"year\": 1964\n",
    "}\n",
    "mydict = thisdict.copy()\n",
    "print(mydict)"
   ]
  },
  {
   "cell_type": "markdown",
   "id": "38aab4c8-759c-47f6-ab00-2e48ef35c491",
   "metadata": {},
   "source": [
    " Copy Dictionaries 2"
   ]
  },
  {
   "cell_type": "code",
   "execution_count": 147,
   "id": "31130aff-a2a4-4753-8776-f92d82ab5478",
   "metadata": {},
   "outputs": [
    {
     "name": "stdout",
     "output_type": "stream",
     "text": [
      "{'brand': 'Ford', 'model': 'Mustang', 'year': 1964}\n"
     ]
    }
   ],
   "source": [
    "thisdict = {\n",
    "  \"brand\": \"Ford\",\n",
    "  \"model\": \"Mustang\",\n",
    "  \"year\": 1964\n",
    "}\n",
    "mydict = dict(thisdict)\n",
    "print(mydict)"
   ]
  },
  {
   "cell_type": "markdown",
   "id": "98b59b36-79f8-4724-ac51-2f391321fa17",
   "metadata": {},
   "source": [
    "Nested Dictionaries 1 "
   ]
  },
  {
   "cell_type": "code",
   "execution_count": 150,
   "id": "b4c7d963-f3e0-4491-83d1-e050190d0d67",
   "metadata": {},
   "outputs": [],
   "source": [
    "myfamily = {\n",
    "  \"child1\" : {\n",
    "    \"name\" : \"Emil\",\n",
    "    \"year\" : 2004\n",
    "  },\n",
    "  \"child2\" : {\n",
    "    \"name\" : \"Tobias\",\n",
    "    \"year\" : 2007\n",
    "  },\n",
    "  \"child3\" : {\n",
    "    \"name\" : \"Linus\",\n",
    "    \"year\" : 2011\n",
    "  }\n",
    "}"
   ]
  },
  {
   "cell_type": "markdown",
   "id": "4cd9082e-5fa7-40f6-8591-dbeb958a3434",
   "metadata": {},
   "source": [
    "Nested Dictionaries 2"
   ]
  },
  {
   "cell_type": "code",
   "execution_count": 153,
   "id": "e0f9a263-121b-4d07-846e-d4b717a421ef",
   "metadata": {},
   "outputs": [],
   "source": [
    "child1 = {\n",
    "  \"name\" : \"Emil\",\n",
    "  \"year\" : 2004\n",
    "}\n",
    "child2 = {\n",
    "  \"name\" : \"Tobias\",\n",
    "  \"year\" : 2007\n",
    "}\n",
    "child3 = {\n",
    "  \"name\" : \"Linus\",\n",
    "  \"year\" : 2011\n",
    "}\n",
    "\n",
    "myfamily = {\n",
    "  \"child1\" : child1,\n",
    "  \"child2\" : child2,\n",
    "  \"child3\" : child3\n",
    "}"
   ]
  },
  {
   "cell_type": "markdown",
   "id": "2d1219e2-fd06-461c-b55a-3a7bb286ec5d",
   "metadata": {},
   "source": [
    "Nested Dictionaries 3\n"
   ]
  },
  {
   "cell_type": "code",
   "execution_count": 156,
   "id": "e3520bdf-67e4-4891-894c-29f860c72957",
   "metadata": {},
   "outputs": [
    {
     "name": "stdout",
     "output_type": "stream",
     "text": [
      "Tobias\n"
     ]
    }
   ],
   "source": [
    "myfamily = {\n",
    "  \"child1\" : {\n",
    "    \"name\" : \"Emil\",\n",
    "    \"year\" : 2004\n",
    "  },\n",
    "  \"child2\" : {\n",
    "    \"name\" : \"Tobias\",\n",
    "    \"year\" : 2007\n",
    "  },\n",
    "  \"child3\" : {\n",
    "    \"name\" : \"Linus\",\n",
    "    \"year\" : 2011\n",
    "  }\n",
    "}\n",
    "\n",
    "print(myfamily[\"child2\"][\"name\"])\n"
   ]
  },
  {
   "cell_type": "markdown",
   "id": "fcc56517-442b-4f2a-a125-58474eca4ebe",
   "metadata": {},
   "source": [
    "Nested Dictionaries 4"
   ]
  },
  {
   "cell_type": "code",
   "execution_count": 159,
   "id": "046e9222-8fc4-4401-abd9-ca289dbf351e",
   "metadata": {},
   "outputs": [
    {
     "name": "stdout",
     "output_type": "stream",
     "text": [
      "child1\n",
      "name: Emil\n",
      "year: 2004\n",
      "child2\n",
      "name: Tobias\n",
      "year: 2007\n",
      "child3\n",
      "name: Linus\n",
      "year: 2011\n"
     ]
    }
   ],
   "source": [
    "for x, obj in myfamily.items():\n",
    "  print(x)\n",
    "\n",
    "  for y in obj:\n",
    "    print(y + ':', obj[y])"
   ]
  },
  {
   "cell_type": "markdown",
   "id": "3d36be26-0a95-4058-a9ba-ad30b619a3c9",
   "metadata": {},
   "source": [
    "Dictionary Methods"
   ]
  },
  {
   "cell_type": "code",
   "execution_count": null,
   "id": "48aaf40b-282f-4d4c-99fb-0dabc4a4c17b",
   "metadata": {},
   "outputs": [],
   "source": [
    "Method\tDescription\n",
    "clear()\tRemoves all the elements from the dictionary\n",
    "copy()\tReturns a copy of the dictionary\n",
    "fromkeys()\tReturns a dictionary with the specified keys and value\n",
    "get()\tReturns the value of the specified key\n",
    "items()\tReturns a list containing a tuple for each key value pair\n",
    "keys()\tReturns a list containing the dictionary's keys\n",
    "pop()\tRemoves the element with the specified key\n",
    "popitem()\tRemoves the last inserted key-value pair\n",
    "setdefault()\tReturns the value of the specified key. If the key does not exist: insert the key, with the specified value\n",
    "update()\tUpdates the dictionary with the specified key-value pairs\n",
    "values()\tReturns a list of all the values in the dictionary"
   ]
  },
  {
   "cell_type": "markdown",
   "id": "ce5ad776-eecf-4c46-a912-5d28a0de913b",
   "metadata": {},
   "source": [
    "Python If ... Else  1"
   ]
  },
  {
   "cell_type": "code",
   "execution_count": 22,
   "id": "754ad51f-460f-4774-8310-3ee33ae69f36",
   "metadata": {},
   "outputs": [
    {
     "name": "stdout",
     "output_type": "stream",
     "text": [
      "b is greater than a\n"
     ]
    }
   ],
   "source": [
    "a = 33\n",
    "b = 200\n",
    "if b > a:\n",
    "  print(\"b is greater than a\")"
   ]
  },
  {
   "cell_type": "markdown",
   "id": "659682e6-64d9-4f3e-833e-f7029eea7d79",
   "metadata": {},
   "source": [
    "Python If ... Else  2"
   ]
  },
  {
   "cell_type": "code",
   "execution_count": 25,
   "id": "62b6c6fe-d1c4-4114-894c-65fd5e699d0d",
   "metadata": {},
   "outputs": [
    {
     "name": "stdout",
     "output_type": "stream",
     "text": [
      "a and b are equal\n"
     ]
    }
   ],
   "source": [
    "a = 33\n",
    "b = 33\n",
    "if b > a:\n",
    "  print(\"b is greater than a\")\n",
    "elif a == b:\n",
    "  print(\"a and b are equal\")"
   ]
  },
  {
   "cell_type": "markdown",
   "id": "9a5aa3f4-da6f-42b0-aec9-58e742dac9f2",
   "metadata": {},
   "source": [
    "Python If ... Else  3"
   ]
  },
  {
   "cell_type": "code",
   "execution_count": 28,
   "id": "0f241c79-f1f2-47d8-91b9-ae949e1709d4",
   "metadata": {},
   "outputs": [
    {
     "name": "stdout",
     "output_type": "stream",
     "text": [
      "a is greater than b\n"
     ]
    }
   ],
   "source": [
    "a = 200\n",
    "b = 33\n",
    "if b > a:\n",
    "  print(\"b is greater than a\")\n",
    "elif a == b:\n",
    "  print(\"a and b are equal\")\n",
    "else:\n",
    "  print(\"a is greater than b\")"
   ]
  },
  {
   "cell_type": "markdown",
   "id": "85a2fbe2-aae2-4d86-a6ca-e6d428d2315a",
   "metadata": {},
   "source": [
    "Python If ... Else  4"
   ]
  },
  {
   "cell_type": "code",
   "execution_count": 31,
   "id": "f0d58c33-cadb-4103-ba79-f724a8aa8a18",
   "metadata": {},
   "outputs": [
    {
     "name": "stdout",
     "output_type": "stream",
     "text": [
      "b is not greater than a\n"
     ]
    }
   ],
   "source": [
    "a = 200\n",
    "b = 33\n",
    "if b > a:\n",
    "  print(\"b is greater than a\")\n",
    "else:\n",
    "  print(\"b is not greater than a\")"
   ]
  },
  {
   "cell_type": "markdown",
   "id": "d7da3398-bb27-46ad-a9d8-297d6ca52e28",
   "metadata": {},
   "source": [
    "Python If ... Else  5"
   ]
  },
  {
   "cell_type": "code",
   "execution_count": 33,
   "id": "9389bff5-9e90-49ef-ae90-0d578359b003",
   "metadata": {},
   "outputs": [
    {
     "name": "stdout",
     "output_type": "stream",
     "text": [
      "a is greater than b\n"
     ]
    }
   ],
   "source": [
    "a = 200\n",
    "b = 33\n",
    "\n",
    "if a > b: print(\"a is greater than b\")\n"
   ]
  },
  {
   "cell_type": "markdown",
   "id": "b12ae6d2-b2a6-498b-995e-2cc21b81f692",
   "metadata": {},
   "source": [
    "Python If ... Else  6"
   ]
  },
  {
   "cell_type": "code",
   "execution_count": 35,
   "id": "14397ae2-46f2-4342-b8a0-774ee59578a5",
   "metadata": {},
   "outputs": [
    {
     "name": "stdout",
     "output_type": "stream",
     "text": [
      "B\n"
     ]
    }
   ],
   "source": [
    "a = 2\n",
    "b = 330\n",
    "\n",
    "print(\"A\") if a > b else print(\"B\")\n",
    "\n"
   ]
  },
  {
   "cell_type": "markdown",
   "id": "9b216a1b-fd8a-453c-b8c2-ab2fd7f917bc",
   "metadata": {},
   "source": [
    "Python If ... Else  7"
   ]
  },
  {
   "cell_type": "code",
   "execution_count": 38,
   "id": "d0601eac-df5d-4d4d-9f4d-4dffd705c658",
   "metadata": {},
   "outputs": [
    {
     "name": "stdout",
     "output_type": "stream",
     "text": [
      "=\n"
     ]
    }
   ],
   "source": [
    "a = 330\n",
    "b = 330\n",
    "\n",
    "print(\"A\") if a > b else print(\"=\") if a == b else print(\"B\")\n"
   ]
  },
  {
   "cell_type": "markdown",
   "id": "5753109f-aa0a-417e-b36f-b7be8731ff5b",
   "metadata": {},
   "source": [
    "Python If ... Else  8"
   ]
  },
  {
   "cell_type": "code",
   "execution_count": 40,
   "id": "ec55c0dd-b5f4-434e-918a-8a39197e9e3e",
   "metadata": {},
   "outputs": [
    {
     "name": "stdout",
     "output_type": "stream",
     "text": [
      "Both conditions are True\n"
     ]
    }
   ],
   "source": [
    "a = 200\n",
    "b = 33\n",
    "c = 500\n",
    "if a > b and c > a:\n",
    "  print(\"Both conditions are True\")\n"
   ]
  },
  {
   "cell_type": "markdown",
   "id": "c289e0e8-7d58-499a-aa05-5eec5001105f",
   "metadata": {},
   "source": [
    "Python If ... Else  9"
   ]
  },
  {
   "cell_type": "code",
   "execution_count": 43,
   "id": "156cbf1d-8457-4390-b4fa-3bcf99f8420d",
   "metadata": {},
   "outputs": [
    {
     "name": "stdout",
     "output_type": "stream",
     "text": [
      "At least one of the conditions is True\n"
     ]
    }
   ],
   "source": [
    "a = 200\n",
    "b = 33\n",
    "c = 500\n",
    "if a > b or a > c:\n",
    "  print(\"At least one of the conditions is True\")"
   ]
  },
  {
   "cell_type": "markdown",
   "id": "0c1baca8-7932-4d61-a05d-35bebad3c5ac",
   "metadata": {},
   "source": [
    "Python If ... Else  10"
   ]
  },
  {
   "cell_type": "code",
   "execution_count": 46,
   "id": "00d02fec-9373-4b75-bac8-a9d6fb4c86b6",
   "metadata": {},
   "outputs": [
    {
     "name": "stdout",
     "output_type": "stream",
     "text": [
      "a is NOT greater than b\n"
     ]
    }
   ],
   "source": [
    "a = 33\n",
    "b = 200\n",
    "if not a > b:\n",
    "  print(\"a is NOT greater than b\")"
   ]
  },
  {
   "cell_type": "markdown",
   "id": "ecc5cab0-f4ab-4d92-a862-bc96fe8732b5",
   "metadata": {},
   "source": [
    "Python If ... Else  11"
   ]
  },
  {
   "cell_type": "code",
   "execution_count": 48,
   "id": "0f69b809-4f5e-4158-a114-fd2e1aa2ab04",
   "metadata": {},
   "outputs": [
    {
     "name": "stdout",
     "output_type": "stream",
     "text": [
      "Above ten,\n",
      "and also above 20!\n"
     ]
    }
   ],
   "source": [
    "x = 41\n",
    "\n",
    "if x > 10:\n",
    "  print(\"Above ten,\")\n",
    "  if x > 20:\n",
    "    print(\"and also above 20!\")\n",
    "  else:\n",
    "    print(\"but not above 20.\")"
   ]
  },
  {
   "cell_type": "markdown",
   "id": "3167ba86-5294-4cc9-9cb4-2dd3e1faed91",
   "metadata": {},
   "source": [
    "Python If ... Else  12"
   ]
  },
  {
   "cell_type": "code",
   "execution_count": 63,
   "id": "49b9b53f-7dcf-41ec-8f2f-5f61de8142db",
   "metadata": {},
   "outputs": [],
   "source": [
    "a = 33\n",
    "b = 200\n",
    "\n",
    "if b > a:\n",
    "  pass\n",
    "\n",
    "# having an empty if statement like this, would raise an error without the pass statement\n"
   ]
  },
  {
   "cell_type": "markdown",
   "id": "bb19d5a1-f15c-4f22-889b-418e241f848d",
   "metadata": {},
   "source": [
    "While Loops 1 "
   ]
  },
  {
   "cell_type": "code",
   "execution_count": 68,
   "id": "3d2b88d2-90c1-4c44-99b6-3c30bade27bb",
   "metadata": {},
   "outputs": [
    {
     "name": "stdout",
     "output_type": "stream",
     "text": [
      "1\n",
      "2\n",
      "3\n",
      "4\n",
      "5\n"
     ]
    }
   ],
   "source": [
    "i = 1\n",
    "while i < 6:\n",
    "  print(i)\n",
    "  i += 1"
   ]
  },
  {
   "cell_type": "markdown",
   "id": "2305cb7d-ef6b-4e5a-9806-0dd78851f892",
   "metadata": {},
   "source": [
    "While Loops 2"
   ]
  },
  {
   "cell_type": "code",
   "execution_count": 71,
   "id": "fc3b7499-141e-4381-ad97-05f5ee7700ba",
   "metadata": {},
   "outputs": [
    {
     "name": "stdout",
     "output_type": "stream",
     "text": [
      "1\n",
      "2\n",
      "3\n"
     ]
    }
   ],
   "source": [
    "i = 1\n",
    "while i < 6:\n",
    "  print(i)\n",
    "  if i == 3:\n",
    "    break\n",
    "  i += 1"
   ]
  },
  {
   "cell_type": "markdown",
   "id": "d50b441a-241a-4a96-99a8-ce5213ed256e",
   "metadata": {},
   "source": [
    "While Loops 3"
   ]
  },
  {
   "cell_type": "code",
   "execution_count": 74,
   "id": "d68546b6-1e19-422b-8356-dd7a105db733",
   "metadata": {},
   "outputs": [
    {
     "name": "stdout",
     "output_type": "stream",
     "text": [
      "1\n",
      "2\n",
      "4\n",
      "5\n",
      "6\n"
     ]
    }
   ],
   "source": [
    "i = 0\n",
    "while i < 6:\n",
    "  i += 1\n",
    "  if i == 3:\n",
    "    continue\n",
    "  print(i)"
   ]
  },
  {
   "cell_type": "markdown",
   "id": "75100f1a-34b3-4078-aa40-b1717a8022b7",
   "metadata": {},
   "source": [
    "While Loops 4"
   ]
  },
  {
   "cell_type": "code",
   "execution_count": 76,
   "id": "7ab4aca8-9af2-449e-b0d1-85ecb09595be",
   "metadata": {},
   "outputs": [
    {
     "name": "stdout",
     "output_type": "stream",
     "text": [
      "1\n",
      "2\n",
      "3\n",
      "4\n",
      "5\n",
      "i is no longer less than 6\n"
     ]
    }
   ],
   "source": [
    "i = 1\n",
    "while i < 6:\n",
    "  print(i)\n",
    "  i += 1\n",
    "else:\n",
    "  print(\"i is no longer less than 6\")"
   ]
  },
  {
   "cell_type": "markdown",
   "id": "416d48ed-6bfc-4d70-aa98-8c24bb2da659",
   "metadata": {},
   "source": [
    "Python For Loops 1 "
   ]
  },
  {
   "cell_type": "code",
   "execution_count": 95,
   "id": "f3a391af-605b-49dd-8771-fd7c5218bd70",
   "metadata": {},
   "outputs": [
    {
     "name": "stdout",
     "output_type": "stream",
     "text": [
      "apple\n",
      "banana\n",
      "cherry\n"
     ]
    }
   ],
   "source": [
    "fruits = [\"apple\", \"banana\", \"cherry\"]\n",
    "for x in fruits:\n",
    "  print(x)"
   ]
  },
  {
   "cell_type": "markdown",
   "id": "516cb63a-9f6f-4b7f-b223-b1cc7e460f2e",
   "metadata": {},
   "source": [
    "Python For Loops 2"
   ]
  },
  {
   "cell_type": "code",
   "execution_count": 98,
   "id": "80887a88-5879-49d7-8d19-6f240186753b",
   "metadata": {},
   "outputs": [
    {
     "name": "stdout",
     "output_type": "stream",
     "text": [
      "b\n",
      "a\n",
      "n\n",
      "a\n",
      "n\n",
      "a\n"
     ]
    }
   ],
   "source": [
    "for x in \"banana\":\n",
    "  print(x)"
   ]
  },
  {
   "cell_type": "markdown",
   "id": "4154ce71-4772-4bfc-8de9-3d75290f7c9c",
   "metadata": {},
   "source": [
    "Python For Loops 3"
   ]
  },
  {
   "cell_type": "code",
   "execution_count": 101,
   "id": "3c462335-b935-46d4-8f00-4110f2bb8a88",
   "metadata": {},
   "outputs": [
    {
     "name": "stdout",
     "output_type": "stream",
     "text": [
      "apple\n",
      "banana\n"
     ]
    }
   ],
   "source": [
    "fruits = [\"apple\", \"banana\", \"cherry\"]\n",
    "for x in fruits:\n",
    "  print(x)\n",
    "  if x == \"banana\":\n",
    "    break"
   ]
  },
  {
   "cell_type": "markdown",
   "id": "bee5d9ae-10b8-4972-9c89-87fdb7170843",
   "metadata": {},
   "source": [
    "Python For Loops 4"
   ]
  },
  {
   "cell_type": "code",
   "execution_count": 104,
   "id": "70675f1a-4e13-4309-a330-9d1b8e2086ce",
   "metadata": {},
   "outputs": [
    {
     "name": "stdout",
     "output_type": "stream",
     "text": [
      "apple\n"
     ]
    }
   ],
   "source": [
    "fruits = [\"apple\", \"banana\", \"cherry\"]\n",
    "for x in fruits:\n",
    "  if x == \"banana\":\n",
    "    break\n",
    "  print(x)"
   ]
  },
  {
   "cell_type": "markdown",
   "id": "cfbe3575-09fc-4723-8e5f-ee64cccf585e",
   "metadata": {},
   "source": [
    "Python For Loops 5"
   ]
  },
  {
   "cell_type": "code",
   "execution_count": 107,
   "id": "1c27e0ef-0044-41a5-82f8-836a13ea05a8",
   "metadata": {},
   "outputs": [
    {
     "name": "stdout",
     "output_type": "stream",
     "text": [
      "apple\n",
      "cherry\n"
     ]
    }
   ],
   "source": [
    "fruits = [\"apple\", \"banana\", \"cherry\"]\n",
    "for x in fruits:\n",
    "  if x == \"banana\":\n",
    "    continue\n",
    "  print(x)"
   ]
  },
  {
   "cell_type": "markdown",
   "id": "2e908ec6-dab2-4e2b-95eb-8c64d1fc6c73",
   "metadata": {},
   "source": [
    "Python For Loops 6"
   ]
  },
  {
   "cell_type": "code",
   "execution_count": 110,
   "id": "49854208-63f3-4924-89bd-3f3ce6f4e4fc",
   "metadata": {},
   "outputs": [
    {
     "name": "stdout",
     "output_type": "stream",
     "text": [
      "0\n",
      "1\n",
      "2\n",
      "3\n",
      "4\n",
      "5\n"
     ]
    }
   ],
   "source": [
    "for x in range(6):\n",
    "  print(x)"
   ]
  },
  {
   "cell_type": "markdown",
   "id": "424f2696-64f8-4415-9dfe-61a526e4e8b0",
   "metadata": {},
   "source": [
    "Python For Loops 7"
   ]
  },
  {
   "cell_type": "code",
   "execution_count": 113,
   "id": "33ef19a1-ddb6-4235-b836-20df000de83a",
   "metadata": {},
   "outputs": [
    {
     "name": "stdout",
     "output_type": "stream",
     "text": [
      "2\n",
      "3\n",
      "4\n",
      "5\n"
     ]
    }
   ],
   "source": [
    "for x in range(2, 6):\n",
    "  print(x)"
   ]
  },
  {
   "cell_type": "markdown",
   "id": "5696b639-97f7-4de9-8dc2-d1f01af0b515",
   "metadata": {},
   "source": [
    "Python For Loops 8"
   ]
  },
  {
   "cell_type": "code",
   "execution_count": 116,
   "id": "8db87404-f463-468f-93f5-b5b2a15317e7",
   "metadata": {},
   "outputs": [
    {
     "name": "stdout",
     "output_type": "stream",
     "text": [
      "2\n",
      "5\n",
      "8\n",
      "11\n",
      "14\n",
      "17\n",
      "20\n",
      "23\n",
      "26\n",
      "29\n"
     ]
    }
   ],
   "source": [
    "for x in range(2, 30, 3):\n",
    "  print(x)"
   ]
  },
  {
   "cell_type": "markdown",
   "id": "3172ea67-589d-46cb-916f-2660ff896869",
   "metadata": {},
   "source": [
    "Python For Loops 9"
   ]
  },
  {
   "cell_type": "code",
   "execution_count": 119,
   "id": "b62d1ac0-95cb-4e8a-9b43-60550e30dffa",
   "metadata": {},
   "outputs": [
    {
     "name": "stdout",
     "output_type": "stream",
     "text": [
      "0\n",
      "1\n",
      "2\n",
      "3\n",
      "4\n",
      "5\n",
      "Finally finished!\n"
     ]
    }
   ],
   "source": [
    "for x in range(6):\n",
    "  print(x)\n",
    "else:\n",
    "  print(\"Finally finished!\")"
   ]
  },
  {
   "cell_type": "markdown",
   "id": "4d7e5da4-77a0-49b6-b3d3-136739bd6247",
   "metadata": {},
   "source": [
    "Python For Loops 10"
   ]
  },
  {
   "cell_type": "code",
   "execution_count": 122,
   "id": "b4e1e76c-0399-45b7-898d-81ee69219d49",
   "metadata": {},
   "outputs": [
    {
     "name": "stdout",
     "output_type": "stream",
     "text": [
      "0\n",
      "1\n",
      "2\n"
     ]
    }
   ],
   "source": [
    "for x in range(6):\n",
    "  if x == 3: break\n",
    "  print(x)\n",
    "else:\n",
    "  print(\"Finally finished!\")"
   ]
  },
  {
   "cell_type": "markdown",
   "id": "4a9201aa-f3a9-4618-a6be-217ca724eef9",
   "metadata": {},
   "source": [
    "Python For Loops 11"
   ]
  },
  {
   "cell_type": "code",
   "execution_count": 125,
   "id": "c200743b-65e1-4d0d-aa64-b1651e1e39af",
   "metadata": {},
   "outputs": [
    {
     "name": "stdout",
     "output_type": "stream",
     "text": [
      "red apple\n",
      "red banana\n",
      "red cherry\n",
      "big apple\n",
      "big banana\n",
      "big cherry\n",
      "tasty apple\n",
      "tasty banana\n",
      "tasty cherry\n"
     ]
    }
   ],
   "source": [
    "adj = [\"red\", \"big\", \"tasty\"]\n",
    "fruits = [\"apple\", \"banana\", \"cherry\"]\n",
    "\n",
    "for x in adj:\n",
    "  for y in fruits:\n",
    "    print(x, y)"
   ]
  },
  {
   "cell_type": "markdown",
   "id": "f32e4749-457d-4d0f-8531-71d0a297a6e0",
   "metadata": {},
   "source": [
    "Python For Loops 12"
   ]
  },
  {
   "cell_type": "code",
   "execution_count": 128,
   "id": "0dc0c0dc-8111-4b8d-b39c-ffe52f968ca2",
   "metadata": {},
   "outputs": [],
   "source": [
    "for x in [0, 1, 2]:\n",
    "  pass\n",
    "\n",
    "# having an empty for loop like this, would raise an error without the pass statement\n"
   ]
  }
 ],
 "metadata": {
  "kernelspec": {
   "display_name": "Python [conda env:base] *",
   "language": "python",
   "name": "conda-base-py"
  },
  "language_info": {
   "codemirror_mode": {
    "name": "ipython",
    "version": 3
   },
   "file_extension": ".py",
   "mimetype": "text/x-python",
   "name": "python",
   "nbconvert_exporter": "python",
   "pygments_lexer": "ipython3",
   "version": "3.12.7"
  }
 },
 "nbformat": 4,
 "nbformat_minor": 5
}
